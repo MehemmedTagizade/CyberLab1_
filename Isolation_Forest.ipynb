{
  "nbformat": 4,
  "nbformat_minor": 0,
  "metadata": {
    "colab": {
      "provenance": []
    },
    "kernelspec": {
      "name": "python3",
      "display_name": "Python 3"
    },
    "language_info": {
      "name": "python"
    }
  },
  "cells": [
    {
      "cell_type": "markdown",
      "source": [
        "Isolation Forest"
      ],
      "metadata": {
        "id": "0sx1CJ4De2_e"
      }
    },
    {
      "cell_type": "code",
      "execution_count": 1,
      "metadata": {
        "id": "c4ecjNTpezxc"
      },
      "outputs": [],
      "source": [
        "# Import necessary libraries\n",
        "import pandas as pd\n",
        "import numpy as np"
      ]
    },
    {
      "cell_type": "code",
      "source": [
        "from google.colab import drive\n",
        "drive.mount('/content/drive')"
      ],
      "metadata": {
        "colab": {
          "base_uri": "https://localhost:8080/"
        },
        "id": "qKvOzACifCJI",
        "outputId": "a1ed1fa0-3a6c-44d6-9519-2a3a495548d4"
      },
      "execution_count": 2,
      "outputs": [
        {
          "output_type": "stream",
          "name": "stdout",
          "text": [
            "Mounted at /content/drive\n"
          ]
        }
      ]
    },
    {
      "cell_type": "code",
      "source": [
        "# Load the dataset\n",
        "file_path = '/content/drive/MyDrive/Friday-WorkingHours-Afternoon-PortScan.pcap_ISCX.csv'\n",
        "data = pd.read_csv(file_path)\n"
      ],
      "metadata": {
        "id": "vMXpqqNAe5Vu"
      },
      "execution_count": 3,
      "outputs": []
    },
    {
      "cell_type": "code",
      "source": [
        "# Clean column names by removing extra spaces\n",
        "data.columns = data.columns.str.replace(' ', '')\n",
        "print(data.columns)"
      ],
      "metadata": {
        "colab": {
          "base_uri": "https://localhost:8080/"
        },
        "collapsed": true,
        "id": "eKkli76Ue-4M",
        "outputId": "85d4c7f3-b2db-4b16-df2a-0749a275425e"
      },
      "execution_count": 4,
      "outputs": [
        {
          "output_type": "stream",
          "name": "stdout",
          "text": [
            "Index(['DestinationPort', 'FlowDuration', 'TotalFwdPackets',\n",
            "       'TotalBackwardPackets', 'TotalLengthofFwdPackets',\n",
            "       'TotalLengthofBwdPackets', 'FwdPacketLengthMax', 'FwdPacketLengthMin',\n",
            "       'FwdPacketLengthMean', 'FwdPacketLengthStd', 'BwdPacketLengthMax',\n",
            "       'BwdPacketLengthMin', 'BwdPacketLengthMean', 'BwdPacketLengthStd',\n",
            "       'FlowBytes/s', 'FlowPackets/s', 'FlowIATMean', 'FlowIATStd',\n",
            "       'FlowIATMax', 'FlowIATMin', 'FwdIATTotal', 'FwdIATMean', 'FwdIATStd',\n",
            "       'FwdIATMax', 'FwdIATMin', 'BwdIATTotal', 'BwdIATMean', 'BwdIATStd',\n",
            "       'BwdIATMax', 'BwdIATMin', 'FwdPSHFlags', 'BwdPSHFlags', 'FwdURGFlags',\n",
            "       'BwdURGFlags', 'FwdHeaderLength', 'BwdHeaderLength', 'FwdPackets/s',\n",
            "       'BwdPackets/s', 'MinPacketLength', 'MaxPacketLength',\n",
            "       'PacketLengthMean', 'PacketLengthStd', 'PacketLengthVariance',\n",
            "       'FINFlagCount', 'SYNFlagCount', 'RSTFlagCount', 'PSHFlagCount',\n",
            "       'ACKFlagCount', 'URGFlagCount', 'CWEFlagCount', 'ECEFlagCount',\n",
            "       'Down/UpRatio', 'AveragePacketSize', 'AvgFwdSegmentSize',\n",
            "       'AvgBwdSegmentSize', 'FwdHeaderLength.1', 'FwdAvgBytes/Bulk',\n",
            "       'FwdAvgPackets/Bulk', 'FwdAvgBulkRate', 'BwdAvgBytes/Bulk',\n",
            "       'BwdAvgPackets/Bulk', 'BwdAvgBulkRate', 'SubflowFwdPackets',\n",
            "       'SubflowFwdBytes', 'SubflowBwdPackets', 'SubflowBwdBytes',\n",
            "       'Init_Win_bytes_forward', 'Init_Win_bytes_backward', 'act_data_pkt_fwd',\n",
            "       'min_seg_size_forward', 'ActiveMean', 'ActiveStd', 'ActiveMax',\n",
            "       'ActiveMin', 'IdleMean', 'IdleStd', 'IdleMax', 'IdleMin', 'Label'],\n",
            "      dtype='object')\n"
          ]
        }
      ]
    },
    {
      "cell_type": "code",
      "source": [
        "data.replace([np.inf, -np.inf], np.nan, inplace=True)\n",
        "data.dropna(inplace=True)\n",
        "\n",
        "# Display the first 10 rows of the dataset\n",
        "print(\"First 10 rows of the dataset:\")\n",
        "print(data.head(10))\n"
      ],
      "metadata": {
        "colab": {
          "base_uri": "https://localhost:8080/"
        },
        "collapsed": true,
        "id": "suU3bJQGgaQN",
        "outputId": "ebfe0d98-9b4d-45d1-91cf-01edec9a9aff"
      },
      "execution_count": 5,
      "outputs": [
        {
          "output_type": "stream",
          "name": "stdout",
          "text": [
            "First 10 rows of the dataset:\n",
            "   DestinationPort  FlowDuration  TotalFwdPackets  TotalBackwardPackets  \\\n",
            "0               22       1266342               41                    44   \n",
            "1               22       1319353               41                    44   \n",
            "2               22           160                1                     1   \n",
            "3               22       1303488               41                    42   \n",
            "4            35396            77                1                     2   \n",
            "5               22           244                1                     1   \n",
            "6               22       1307239               41                    40   \n",
            "7            60058            82                1                     2   \n",
            "8               22           171                1                     1   \n",
            "9               22           210                1                     1   \n",
            "\n",
            "   TotalLengthofFwdPackets  TotalLengthofBwdPackets  FwdPacketLengthMax  \\\n",
            "0                     2664                     6954                 456   \n",
            "1                     2664                     6954                 456   \n",
            "2                        0                        0                   0   \n",
            "3                     2728                     6634                 456   \n",
            "4                        0                        0                   0   \n",
            "5                        0                        0                   0   \n",
            "6                     2728                     6634                 456   \n",
            "7                        0                        0                   0   \n",
            "8                        0                        0                   0   \n",
            "9                        0                        0                   0   \n",
            "\n",
            "   FwdPacketLengthMin  FwdPacketLengthMean  FwdPacketLengthStd  ...  \\\n",
            "0                   0            64.975610          109.864573  ...   \n",
            "1                   0            64.975610          109.864573  ...   \n",
            "2                   0             0.000000            0.000000  ...   \n",
            "3                   0            66.536585          110.129945  ...   \n",
            "4                   0             0.000000            0.000000  ...   \n",
            "5                   0             0.000000            0.000000  ...   \n",
            "6                   0            66.536585          110.129945  ...   \n",
            "7                   0             0.000000            0.000000  ...   \n",
            "8                   0             0.000000            0.000000  ...   \n",
            "9                   0             0.000000            0.000000  ...   \n",
            "\n",
            "   min_seg_size_forward  ActiveMean  ActiveStd  ActiveMax  ActiveMin  \\\n",
            "0                    32         0.0        0.0          0          0   \n",
            "1                    32         0.0        0.0          0          0   \n",
            "2                    32         0.0        0.0          0          0   \n",
            "3                    32         0.0        0.0          0          0   \n",
            "4                    32         0.0        0.0          0          0   \n",
            "5                    32         0.0        0.0          0          0   \n",
            "6                    32         0.0        0.0          0          0   \n",
            "7                    32         0.0        0.0          0          0   \n",
            "8                    32         0.0        0.0          0          0   \n",
            "9                    32         0.0        0.0          0          0   \n",
            "\n",
            "   IdleMean  IdleStd  IdleMax  IdleMin   Label  \n",
            "0       0.0      0.0        0        0  BENIGN  \n",
            "1       0.0      0.0        0        0  BENIGN  \n",
            "2       0.0      0.0        0        0  BENIGN  \n",
            "3       0.0      0.0        0        0  BENIGN  \n",
            "4       0.0      0.0        0        0  BENIGN  \n",
            "5       0.0      0.0        0        0  BENIGN  \n",
            "6       0.0      0.0        0        0  BENIGN  \n",
            "7       0.0      0.0        0        0  BENIGN  \n",
            "8       0.0      0.0        0        0  BENIGN  \n",
            "9       0.0      0.0        0        0  BENIGN  \n",
            "\n",
            "[10 rows x 79 columns]\n"
          ]
        }
      ]
    },
    {
      "cell_type": "code",
      "source": [
        "data.replace([np.inf, -np.inf], np.nan, inplace=True)\n",
        "data.dropna(inplace=True)"
      ],
      "metadata": {
        "id": "YLA-nygOghCu"
      },
      "execution_count": 6,
      "outputs": []
    },
    {
      "cell_type": "code",
      "source": [
        "print(data.isnull().sum())"
      ],
      "metadata": {
        "colab": {
          "base_uri": "https://localhost:8080/"
        },
        "collapsed": true,
        "id": "WNUAQqo4gpQE",
        "outputId": "124f3a49-5783-43d6-f5fe-c0b513063afa"
      },
      "execution_count": 7,
      "outputs": [
        {
          "output_type": "stream",
          "name": "stdout",
          "text": [
            "DestinationPort            0\n",
            "FlowDuration               0\n",
            "TotalFwdPackets            0\n",
            "TotalBackwardPackets       0\n",
            "TotalLengthofFwdPackets    0\n",
            "                          ..\n",
            "IdleMean                   0\n",
            "IdleStd                    0\n",
            "IdleMax                    0\n",
            "IdleMin                    0\n",
            "Label                      0\n",
            "Length: 79, dtype: int64\n"
          ]
        }
      ]
    },
    {
      "cell_type": "code",
      "source": [
        "data['Label'] = data['Label'].apply(lambda x: 0 if x == 'BENIGN' else 1)\n"
      ],
      "metadata": {
        "id": "BHC4idZigrjX"
      },
      "execution_count": 8,
      "outputs": []
    },
    {
      "cell_type": "code",
      "source": [
        "print(data['Label'].value_counts())\n"
      ],
      "metadata": {
        "colab": {
          "base_uri": "https://localhost:8080/"
        },
        "collapsed": true,
        "id": "O7mn90MugtXf",
        "outputId": "e605b2e1-4b59-4746-c6b3-83c50abb0988"
      },
      "execution_count": 9,
      "outputs": [
        {
          "output_type": "stream",
          "name": "stdout",
          "text": [
            "Label\n",
            "1    158804\n",
            "0    127292\n",
            "Name: count, dtype: int64\n"
          ]
        }
      ]
    },
    {
      "cell_type": "code",
      "source": [
        "irrelevant_columns = ['FlowID', 'SourceIP', 'DestinationIP']\n",
        "data = data.drop(columns=irrelevant_columns, errors='ignore')\n",
        "print(data.columns)"
      ],
      "metadata": {
        "colab": {
          "base_uri": "https://localhost:8080/"
        },
        "collapsed": true,
        "id": "QRxZrklFgzqm",
        "outputId": "964c9acd-a47d-4404-82c9-d3949c969aac"
      },
      "execution_count": 10,
      "outputs": [
        {
          "output_type": "stream",
          "name": "stdout",
          "text": [
            "Index(['DestinationPort', 'FlowDuration', 'TotalFwdPackets',\n",
            "       'TotalBackwardPackets', 'TotalLengthofFwdPackets',\n",
            "       'TotalLengthofBwdPackets', 'FwdPacketLengthMax', 'FwdPacketLengthMin',\n",
            "       'FwdPacketLengthMean', 'FwdPacketLengthStd', 'BwdPacketLengthMax',\n",
            "       'BwdPacketLengthMin', 'BwdPacketLengthMean', 'BwdPacketLengthStd',\n",
            "       'FlowBytes/s', 'FlowPackets/s', 'FlowIATMean', 'FlowIATStd',\n",
            "       'FlowIATMax', 'FlowIATMin', 'FwdIATTotal', 'FwdIATMean', 'FwdIATStd',\n",
            "       'FwdIATMax', 'FwdIATMin', 'BwdIATTotal', 'BwdIATMean', 'BwdIATStd',\n",
            "       'BwdIATMax', 'BwdIATMin', 'FwdPSHFlags', 'BwdPSHFlags', 'FwdURGFlags',\n",
            "       'BwdURGFlags', 'FwdHeaderLength', 'BwdHeaderLength', 'FwdPackets/s',\n",
            "       'BwdPackets/s', 'MinPacketLength', 'MaxPacketLength',\n",
            "       'PacketLengthMean', 'PacketLengthStd', 'PacketLengthVariance',\n",
            "       'FINFlagCount', 'SYNFlagCount', 'RSTFlagCount', 'PSHFlagCount',\n",
            "       'ACKFlagCount', 'URGFlagCount', 'CWEFlagCount', 'ECEFlagCount',\n",
            "       'Down/UpRatio', 'AveragePacketSize', 'AvgFwdSegmentSize',\n",
            "       'AvgBwdSegmentSize', 'FwdHeaderLength.1', 'FwdAvgBytes/Bulk',\n",
            "       'FwdAvgPackets/Bulk', 'FwdAvgBulkRate', 'BwdAvgBytes/Bulk',\n",
            "       'BwdAvgPackets/Bulk', 'BwdAvgBulkRate', 'SubflowFwdPackets',\n",
            "       'SubflowFwdBytes', 'SubflowBwdPackets', 'SubflowBwdBytes',\n",
            "       'Init_Win_bytes_forward', 'Init_Win_bytes_backward', 'act_data_pkt_fwd',\n",
            "       'min_seg_size_forward', 'ActiveMean', 'ActiveStd', 'ActiveMax',\n",
            "       'ActiveMin', 'IdleMean', 'IdleStd', 'IdleMax', 'IdleMin', 'Label'],\n",
            "      dtype='object')\n"
          ]
        }
      ]
    },
    {
      "cell_type": "code",
      "source": [
        "correlation_matrix = data.corr()\n",
        "high_corr = correlation_matrix[correlation_matrix > 0.9]\n",
        "print(high_corr)"
      ],
      "metadata": {
        "colab": {
          "base_uri": "https://localhost:8080/"
        },
        "collapsed": true,
        "id": "l9BjigmEg3cz",
        "outputId": "6263013b-6e79-45d7-e499-0e5c6ded69a6"
      },
      "execution_count": 11,
      "outputs": [
        {
          "output_type": "stream",
          "name": "stdout",
          "text": [
            "                         DestinationPort  FlowDuration  TotalFwdPackets  \\\n",
            "DestinationPort                      1.0           NaN              NaN   \n",
            "FlowDuration                         NaN           1.0              NaN   \n",
            "TotalFwdPackets                      NaN           NaN         1.000000   \n",
            "TotalBackwardPackets                 NaN           NaN         0.962078   \n",
            "TotalLengthofFwdPackets              NaN           NaN              NaN   \n",
            "...                                  ...           ...              ...   \n",
            "IdleMean                             NaN           NaN              NaN   \n",
            "IdleStd                              NaN           NaN              NaN   \n",
            "IdleMax                              NaN           NaN              NaN   \n",
            "IdleMin                              NaN           NaN              NaN   \n",
            "Label                                NaN           NaN              NaN   \n",
            "\n",
            "                         TotalBackwardPackets  TotalLengthofFwdPackets  \\\n",
            "DestinationPort                           NaN                      NaN   \n",
            "FlowDuration                              NaN                      NaN   \n",
            "TotalFwdPackets                      0.962078                      NaN   \n",
            "TotalBackwardPackets                 1.000000                      NaN   \n",
            "TotalLengthofFwdPackets                   NaN                      1.0   \n",
            "...                                       ...                      ...   \n",
            "IdleMean                                  NaN                      NaN   \n",
            "IdleStd                                   NaN                      NaN   \n",
            "IdleMax                                   NaN                      NaN   \n",
            "IdleMin                                   NaN                      NaN   \n",
            "Label                                     NaN                      NaN   \n",
            "\n",
            "                         TotalLengthofBwdPackets  FwdPacketLengthMax  \\\n",
            "DestinationPort                              NaN                 NaN   \n",
            "FlowDuration                                 NaN                 NaN   \n",
            "TotalFwdPackets                         0.947849                 NaN   \n",
            "TotalBackwardPackets                    0.979191                 NaN   \n",
            "TotalLengthofFwdPackets                      NaN                 NaN   \n",
            "...                                          ...                 ...   \n",
            "IdleMean                                     NaN                 NaN   \n",
            "IdleStd                                      NaN                 NaN   \n",
            "IdleMax                                      NaN                 NaN   \n",
            "IdleMin                                      NaN                 NaN   \n",
            "Label                                        NaN                 NaN   \n",
            "\n",
            "                         FwdPacketLengthMin  FwdPacketLengthMean  \\\n",
            "DestinationPort                         NaN                  NaN   \n",
            "FlowDuration                            NaN                  NaN   \n",
            "TotalFwdPackets                         NaN                  NaN   \n",
            "TotalBackwardPackets                    NaN                  NaN   \n",
            "TotalLengthofFwdPackets                 NaN                  NaN   \n",
            "...                                     ...                  ...   \n",
            "IdleMean                                NaN                  NaN   \n",
            "IdleStd                                 NaN                  NaN   \n",
            "IdleMax                                 NaN                  NaN   \n",
            "IdleMin                                 NaN                  NaN   \n",
            "Label                                   NaN                  NaN   \n",
            "\n",
            "                         FwdPacketLengthStd  ...  min_seg_size_forward  \\\n",
            "DestinationPort                         NaN  ...                   NaN   \n",
            "FlowDuration                            NaN  ...                   NaN   \n",
            "TotalFwdPackets                         NaN  ...                   NaN   \n",
            "TotalBackwardPackets                    NaN  ...                   NaN   \n",
            "TotalLengthofFwdPackets                 NaN  ...                   NaN   \n",
            "...                                     ...  ...                   ...   \n",
            "IdleMean                                NaN  ...                   NaN   \n",
            "IdleStd                                 NaN  ...                   NaN   \n",
            "IdleMax                                 NaN  ...                   NaN   \n",
            "IdleMin                                 NaN  ...                   NaN   \n",
            "Label                                   NaN  ...                   NaN   \n",
            "\n",
            "                         ActiveMean  ActiveStd  ActiveMax  ActiveMin  \\\n",
            "DestinationPort                 NaN        NaN        NaN        NaN   \n",
            "FlowDuration                    NaN        NaN        NaN        NaN   \n",
            "TotalFwdPackets                 NaN        NaN        NaN        NaN   \n",
            "TotalBackwardPackets            NaN        NaN        NaN        NaN   \n",
            "TotalLengthofFwdPackets         NaN        NaN        NaN        NaN   \n",
            "...                             ...        ...        ...        ...   \n",
            "IdleMean                        NaN        NaN        NaN        NaN   \n",
            "IdleStd                         NaN        NaN        NaN        NaN   \n",
            "IdleMax                         NaN        NaN        NaN        NaN   \n",
            "IdleMin                         NaN        NaN        NaN        NaN   \n",
            "Label                           NaN        NaN        NaN        NaN   \n",
            "\n",
            "                         IdleMean  IdleStd   IdleMax   IdleMin  Label  \n",
            "DestinationPort               NaN      NaN       NaN       NaN    NaN  \n",
            "FlowDuration                  NaN      NaN       NaN       NaN    NaN  \n",
            "TotalFwdPackets               NaN      NaN       NaN       NaN    NaN  \n",
            "TotalBackwardPackets          NaN      NaN       NaN       NaN    NaN  \n",
            "TotalLengthofFwdPackets       NaN      NaN       NaN       NaN    NaN  \n",
            "...                           ...      ...       ...       ...    ...  \n",
            "IdleMean                 1.000000      NaN  0.994536  0.994226    NaN  \n",
            "IdleStd                       NaN      1.0       NaN       NaN    NaN  \n",
            "IdleMax                  0.994536      NaN  1.000000  0.978459    NaN  \n",
            "IdleMin                  0.994226      NaN  0.978459  1.000000    NaN  \n",
            "Label                         NaN      NaN       NaN       NaN    1.0  \n",
            "\n",
            "[79 rows x 79 columns]\n"
          ]
        }
      ]
    },
    {
      "cell_type": "code",
      "source": [
        "from sklearn.preprocessing import StandardScaler\n",
        "numeric_features = data.select_dtypes(include=[float, int])\n",
        "scaler = StandardScaler()\n",
        "scaled_features = scaler.fit_transform(numeric_features)\n",
        "data[numeric_features.columns] = scaled_features\n",
        "print(data.describe())"
      ],
      "metadata": {
        "colab": {
          "base_uri": "https://localhost:8080/"
        },
        "collapsed": true,
        "id": "pdk01_GxhNPk",
        "outputId": "763c9efc-9f8e-43e3-9a23-b0105b18fb40"
      },
      "execution_count": 12,
      "outputs": [
        {
          "output_type": "stream",
          "name": "stdout",
          "text": [
            "       DestinationPort  FlowDuration  TotalFwdPackets  TotalBackwardPackets  \\\n",
            "count     2.860960e+05  2.860960e+05     2.860960e+05          2.860960e+05   \n",
            "mean      5.960596e-18 -1.589492e-18     3.655832e-17          7.947461e-18   \n",
            "std       1.000002e+00  1.000002e+00     1.000002e+00          1.000002e+00   \n",
            "min      -5.223313e-01 -2.455363e-01    -1.268108e-01         -1.244904e-01   \n",
            "25%      -5.171183e-01 -2.455337e-01    -1.268108e-01         -8.916347e-02   \n",
            "50%      -4.501311e-01 -2.455327e-01    -1.268108e-01         -8.916347e-02   \n",
            "75%      -7.523445e-02 -2.444498e-01    -7.560110e-02         -5.383656e-02   \n",
            "max       3.738585e+00  5.224682e+00     1.595449e+02          1.282888e+02   \n",
            "\n",
            "       TotalLengthofFwdPackets  TotalLengthofBwdPackets  FwdPacketLengthMax  \\\n",
            "count             2.860960e+05             2.860960e+05       286096.000000   \n",
            "mean              7.947461e-18            -7.947461e-18            0.000000   \n",
            "std               1.000002e+00             1.000002e+00            1.000002   \n",
            "min              -1.251952e-01            -5.314090e-02           -0.247378   \n",
            "25%              -1.251952e-01            -5.302328e-02           -0.247378   \n",
            "50%              -1.241238e-01            -5.302328e-02           -0.241280   \n",
            "75%              -9.198172e-02            -5.088647e-02           -0.134563   \n",
            "max               1.243445e+02             1.401296e+02           42.223184   \n",
            "\n",
            "       FwdPacketLengthMin  FwdPacketLengthMean  FwdPacketLengthStd  ...  \\\n",
            "count        2.860960e+05         2.860960e+05        2.860960e+05  ...   \n",
            "mean        -5.245324e-17         9.695902e-17       -8.742207e-18  ...   \n",
            "std          1.000002e+00         1.000002e+00        1.000002e+00  ...   \n",
            "min         -4.271932e-01        -3.081055e-01       -2.099240e-01  ...   \n",
            "25%         -4.271932e-01        -3.081055e-01       -2.099240e-01  ...   \n",
            "50%         -3.447264e-01        -2.826047e-01       -2.099240e-01  ...   \n",
            "75%         -1.797926e-01         1.254083e-01       -2.099240e-01  ...   \n",
            "max          6.026841e+01         4.320825e+01        2.998403e+01  ...   \n",
            "\n",
            "       min_seg_size_forward    ActiveMean      ActiveStd     ActiveMax  \\\n",
            "count          2.860960e+05  2.860960e+05  286096.000000  2.860960e+05   \n",
            "mean           1.112645e-16 -1.748441e-17       0.000000  1.748441e-17   \n",
            "std            1.000002e+00  1.000002e+00       1.000002  1.000002e+00   \n",
            "min           -3.628904e+00 -7.321758e-02      -0.087550 -1.061045e-01   \n",
            "25%           -1.133141e+00 -7.321758e-02      -0.087550 -1.061045e-01   \n",
            "50%           -6.339878e-01 -7.321758e-02      -0.087550 -1.061045e-01   \n",
            "75%            1.362623e+00 -7.321758e-02      -0.087550 -1.061045e-01   \n",
            "max            3.858387e+00  2.358611e+02     268.511293  1.496088e+02   \n",
            "\n",
            "          ActiveMin      IdleMean       IdleStd       IdleMax       IdleMin  \\\n",
            "count  2.860960e+05  2.860960e+05  2.860960e+05  2.860960e+05  2.860960e+05   \n",
            "mean   1.351068e-17  3.178984e-17  2.304764e-17 -3.973730e-18 -2.304764e-17   \n",
            "std    1.000002e+00  1.000002e+00  1.000002e+00  1.000002e+00  1.000002e+00   \n",
            "min   -5.144968e-02 -1.847487e-01 -5.032292e-02 -1.855618e-01 -1.795606e-01   \n",
            "25%   -5.144968e-02 -1.847487e-01 -5.032292e-02 -1.855618e-01 -1.795606e-01   \n",
            "50%   -5.144968e-02 -1.847487e-01 -5.032292e-02 -1.855618e-01 -1.795606e-01   \n",
            "75%   -5.144968e-02 -1.847487e-01 -5.032292e-02 -1.855618e-01 -1.795606e-01   \n",
            "max    2.602501e+02  1.362780e+01  5.784094e+01  1.331538e+01  1.382784e+01   \n",
            "\n",
            "              Label  \n",
            "count  2.860960e+05  \n",
            "mean  -1.780231e-16  \n",
            "std    1.000002e+00  \n",
            "min   -1.116941e+00  \n",
            "25%   -1.116941e+00  \n",
            "50%    8.953026e-01  \n",
            "75%    8.953026e-01  \n",
            "max    8.953026e-01  \n",
            "\n",
            "[8 rows x 79 columns]\n"
          ]
        }
      ]
    },
    {
      "cell_type": "code",
      "source": [
        "from sklearn.model_selection import train_test_split\n",
        "X = data.drop('Label', axis=1)\n",
        "y = data['Label']\n",
        "X_train, X_test, y_train, y_test = train_test_split(X, y, test_size=0.2, random_state=42)\n",
        "print(f\"Training set size: {len(X_train)}, Test set size: {len(X_test)}\")\n"
      ],
      "metadata": {
        "colab": {
          "base_uri": "https://localhost:8080/"
        },
        "id": "fosDA6zphSNe",
        "outputId": "57d5eaf3-5ee5-41a6-9f57-b87066a53dbb"
      },
      "execution_count": 13,
      "outputs": [
        {
          "output_type": "stream",
          "name": "stdout",
          "text": [
            "Training set size: 228876, Test set size: 57220\n"
          ]
        }
      ]
    },
    {
      "cell_type": "code",
      "source": [
        "# Separate features and labels\n",
        "features = data.drop('Label', axis=1)\n",
        "labels = data['Label']\n",
        "features.replace([np.inf, -np.inf], np.nan, inplace=True)\n",
        "features.dropna(inplace=True)\n",
        "features = features.select_dtypes(include=[float, int])\n",
        "len(features)"
      ],
      "metadata": {
        "colab": {
          "base_uri": "https://localhost:8080/"
        },
        "id": "OV6-1sLHhWmg",
        "outputId": "16789609-7ca3-43b1-fd6c-776e5e040879"
      },
      "execution_count": 14,
      "outputs": [
        {
          "output_type": "execute_result",
          "data": {
            "text/plain": [
              "286096"
            ]
          },
          "metadata": {},
          "execution_count": 14
        }
      ]
    },
    {
      "cell_type": "code",
      "source": [
        "scaler = StandardScaler()\n",
        "features_scaled = scaler.fit_transform(features)"
      ],
      "metadata": {
        "id": "8wYXZyNqjMed"
      },
      "execution_count": 15,
      "outputs": []
    },
    {
      "cell_type": "code",
      "source": [
        "from sklearn.preprocessing import LabelEncoder\n",
        "\n",
        "label_encoder = LabelEncoder()\n",
        "y_encoded = label_encoder.fit_transform(labels)"
      ],
      "metadata": {
        "id": "qiGKSpFfjXyH"
      },
      "execution_count": 16,
      "outputs": []
    },
    {
      "cell_type": "code",
      "source": [
        "round(data.shape[0]*80/100)"
      ],
      "metadata": {
        "colab": {
          "base_uri": "https://localhost:8080/"
        },
        "id": "m_Ex4NE-jiNq",
        "outputId": "b9134666-176b-4b65-93d6-8708891a4d36"
      },
      "execution_count": 17,
      "outputs": [
        {
          "output_type": "execute_result",
          "data": {
            "text/plain": [
              "228877"
            ]
          },
          "metadata": {},
          "execution_count": 17
        }
      ]
    },
    {
      "cell_type": "code",
      "source": [
        "missing_labels = np.isnan(y_encoded).sum()\n",
        "print(f\"Number of missing values in y_encoded: {missing_labels}\")"
      ],
      "metadata": {
        "colab": {
          "base_uri": "https://localhost:8080/"
        },
        "id": "jgj_Mt-OjjX6",
        "outputId": "de20e726-6d96-4605-96d9-5cfa97fd6156"
      },
      "execution_count": 18,
      "outputs": [
        {
          "output_type": "stream",
          "name": "stdout",
          "text": [
            "Number of missing values in y_encoded: 0\n"
          ]
        }
      ]
    },
    {
      "cell_type": "code",
      "source": [
        "train_size = round(len(y_encoded) * 0.8)\n",
        "\n",
        "X_train = features_scaled[:train_size]\n",
        "X_test = features_scaled[train_size:]\n",
        "y_train = y_encoded[:train_size]\n",
        "y_test = y_encoded[train_size:]\n",
        "\n",
        "print(f\"Length of X_train: {len(X_train)}\")\n",
        "print(f\"Length of y_train: {len(y_train)}\")\n",
        "print(f\"Length of X_test: {len(X_test)}\")\n",
        "print(f\"Length of y_test: {len(y_test)}\")\n",
        "\n",
        "min_len = min(len(X_test), len(y_test))\n",
        "X_test = X_test[:min_len]\n",
        "y_test = y_test[:min_len]\n",
        "\n",
        "print(f\"Final Length of X_test: {len(X_test)}\")\n",
        "print(f\"Final Length of y_test: {len(y_test)}\")"
      ],
      "metadata": {
        "colab": {
          "base_uri": "https://localhost:8080/"
        },
        "collapsed": true,
        "id": "8Jb2jiqYjlVn",
        "outputId": "bdf5fe1d-34cd-49df-8941-4d0a69aed4af"
      },
      "execution_count": 19,
      "outputs": [
        {
          "output_type": "stream",
          "name": "stdout",
          "text": [
            "Length of X_train: 228877\n",
            "Length of y_train: 228877\n",
            "Length of X_test: 57219\n",
            "Length of y_test: 57219\n",
            "Final Length of X_test: 57219\n",
            "Final Length of y_test: 57219\n"
          ]
        }
      ]
    },
    {
      "cell_type": "code",
      "source": [
        "from sklearn.ensemble import IsolationForest\n",
        "from sklearn.metrics import accuracy_score, classification_report\n",
        "import numpy as np\n",
        "\n",
        "# Train the Isolation Forest\n",
        "iso_forest = IsolationForest(n_estimators=300, contamination=0.01, random_state=42)\n",
        "iso_forest.fit(X_train)\n",
        "\n",
        "# Predict on the test set\n",
        "y_pred = iso_forest.predict(X_test)\n",
        "\n",
        "# Calculate and display the number of anomalies detected\n",
        "print(\"Number of anomalies detected:\", (y_pred == -1).sum())\n",
        "\n",
        "# Convert Isolation Forest output (-1 for anomalies, 1 for inliers) to binary classification (1 for anomalies, 0 for normal)\n",
        "iso_forest_predict = np.where(y_pred == -1, 1, 0)\n",
        "\n",
        "# Calculate accuracy\n",
        "accuracy = accuracy_score(y_test, iso_forest_predict)\n",
        "print(\"Accuracy in separating Outliers:\", accuracy)\n",
        "\n",
        "# Generate and display the classification report\n",
        "print(\"\\nClassification Report:\")\n",
        "print(classification_report(y_test, iso_forest_predict))\n",
        "\n",
        "# Display unique values and their counts\n",
        "unique_values, counts = np.unique(y_pred, return_counts=True)\n",
        "for value, count in zip(unique_values, counts):\n",
        "    print(f'Value: {value}, Count: {count}')\n"
      ],
      "metadata": {
        "id": "EuTncwcOwlkz",
        "colab": {
          "base_uri": "https://localhost:8080/"
        },
        "outputId": "622cab77-df76-4943-baea-40667c69fb2b"
      },
      "execution_count": 21,
      "outputs": [
        {
          "output_type": "stream",
          "name": "stdout",
          "text": [
            "Number of anomalies detected: 985\n",
            "Accuracy in separating Outliers: 0.6035407819081074\n",
            "\n",
            "Classification Report:\n",
            "              precision    recall  f1-score   support\n",
            "\n",
            "           0       0.61      0.97      0.75     35519\n",
            "           1       0.00      0.00      0.00     21700\n",
            "\n",
            "    accuracy                           0.60     57219\n",
            "   macro avg       0.31      0.49      0.38     57219\n",
            "weighted avg       0.38      0.60      0.47     57219\n",
            "\n",
            "Value: -1, Count: 985\n",
            "Value: 1, Count: 56234\n"
          ]
        }
      ]
    },
    {
      "cell_type": "code",
      "source": [],
      "metadata": {
        "id": "TZpJssDujnFh"
      },
      "execution_count": null,
      "outputs": []
    },
    {
      "cell_type": "code",
      "source": [],
      "metadata": {
        "id": "bWC9qA1Ujp-f"
      },
      "execution_count": null,
      "outputs": []
    }
  ]
}