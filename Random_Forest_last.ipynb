{
  "nbformat": 4,
  "nbformat_minor": 0,
  "metadata": {
    "colab": {
      "provenance": []
    },
    "kernelspec": {
      "name": "python3",
      "display_name": "Python 3"
    },
    "language_info": {
      "name": "python"
    }
  },
  "cells": [
    {
      "cell_type": "markdown",
      "source": [
        "Isolation Forest"
      ],
      "metadata": {
        "id": "0sx1CJ4De2_e"
      }
    },
    {
      "cell_type": "code",
      "execution_count": null,
      "metadata": {
        "id": "c4ecjNTpezxc"
      },
      "outputs": [],
      "source": [
        "# Import necessary libraries\n",
        "import pandas as pd\n",
        "import numpy as np"
      ]
    },
    {
      "cell_type": "code",
      "source": [
        "from google.colab import drive\n",
        "drive.mount('/content/drive')"
      ],
      "metadata": {
        "colab": {
          "base_uri": "https://localhost:8080/"
        },
        "id": "qKvOzACifCJI",
        "outputId": "9c137f86-a317-4edc-abcf-f83f8619c084"
      },
      "execution_count": null,
      "outputs": [
        {
          "output_type": "stream",
          "name": "stdout",
          "text": [
            "Drive already mounted at /content/drive; to attempt to forcibly remount, call drive.mount(\"/content/drive\", force_remount=True).\n"
          ]
        }
      ]
    },
    {
      "cell_type": "code",
      "source": [
        "# Load the dataset\n",
        "file_path = '/content/drive/MyDrive/Friday-WorkingHours-Afternoon-PortScan.pcap_ISCX.csv'\n",
        "data = pd.read_csv(file_path)\n"
      ],
      "metadata": {
        "id": "vMXpqqNAe5Vu"
      },
      "execution_count": null,
      "outputs": []
    },
    {
      "cell_type": "code",
      "source": [
        "# Clean column names by removing extra spaces\n",
        "data.columns = data.columns.str.replace(' ', '')\n",
        "print(data.columns)"
      ],
      "metadata": {
        "colab": {
          "base_uri": "https://localhost:8080/"
        },
        "collapsed": true,
        "id": "eKkli76Ue-4M",
        "outputId": "8380b524-0817-493c-ee46-eb6f0800ba80"
      },
      "execution_count": null,
      "outputs": [
        {
          "output_type": "stream",
          "name": "stdout",
          "text": [
            "Index(['DestinationPort', 'FlowDuration', 'TotalFwdPackets',\n",
            "       'TotalBackwardPackets', 'TotalLengthofFwdPackets',\n",
            "       'TotalLengthofBwdPackets', 'FwdPacketLengthMax', 'FwdPacketLengthMin',\n",
            "       'FwdPacketLengthMean', 'FwdPacketLengthStd', 'BwdPacketLengthMax',\n",
            "       'BwdPacketLengthMin', 'BwdPacketLengthMean', 'BwdPacketLengthStd',\n",
            "       'FlowBytes/s', 'FlowPackets/s', 'FlowIATMean', 'FlowIATStd',\n",
            "       'FlowIATMax', 'FlowIATMin', 'FwdIATTotal', 'FwdIATMean', 'FwdIATStd',\n",
            "       'FwdIATMax', 'FwdIATMin', 'BwdIATTotal', 'BwdIATMean', 'BwdIATStd',\n",
            "       'BwdIATMax', 'BwdIATMin', 'FwdPSHFlags', 'BwdPSHFlags', 'FwdURGFlags',\n",
            "       'BwdURGFlags', 'FwdHeaderLength', 'BwdHeaderLength', 'FwdPackets/s',\n",
            "       'BwdPackets/s', 'MinPacketLength', 'MaxPacketLength',\n",
            "       'PacketLengthMean', 'PacketLengthStd', 'PacketLengthVariance',\n",
            "       'FINFlagCount', 'SYNFlagCount', 'RSTFlagCount', 'PSHFlagCount',\n",
            "       'ACKFlagCount', 'URGFlagCount', 'CWEFlagCount', 'ECEFlagCount',\n",
            "       'Down/UpRatio', 'AveragePacketSize', 'AvgFwdSegmentSize',\n",
            "       'AvgBwdSegmentSize', 'FwdHeaderLength.1', 'FwdAvgBytes/Bulk',\n",
            "       'FwdAvgPackets/Bulk', 'FwdAvgBulkRate', 'BwdAvgBytes/Bulk',\n",
            "       'BwdAvgPackets/Bulk', 'BwdAvgBulkRate', 'SubflowFwdPackets',\n",
            "       'SubflowFwdBytes', 'SubflowBwdPackets', 'SubflowBwdBytes',\n",
            "       'Init_Win_bytes_forward', 'Init_Win_bytes_backward', 'act_data_pkt_fwd',\n",
            "       'min_seg_size_forward', 'ActiveMean', 'ActiveStd', 'ActiveMax',\n",
            "       'ActiveMin', 'IdleMean', 'IdleStd', 'IdleMax', 'IdleMin', 'Label'],\n",
            "      dtype='object')\n"
          ]
        }
      ]
    },
    {
      "cell_type": "code",
      "source": [
        "data.replace([np.inf, -np.inf], np.nan, inplace=True)\n",
        "data.dropna(inplace=True)\n",
        "\n",
        "# Display the first 10 rows of the dataset\n",
        "print(\"First 10 rows of the dataset:\")\n",
        "print(data.head(10))\n"
      ],
      "metadata": {
        "colab": {
          "base_uri": "https://localhost:8080/"
        },
        "collapsed": true,
        "id": "suU3bJQGgaQN",
        "outputId": "f0db3f49-ca51-4840-ff2a-a9413ee10ca6"
      },
      "execution_count": null,
      "outputs": [
        {
          "output_type": "stream",
          "name": "stdout",
          "text": [
            "First 10 rows of the dataset:\n",
            "   DestinationPort  FlowDuration  TotalFwdPackets  TotalBackwardPackets  \\\n",
            "0               22       1266342               41                    44   \n",
            "1               22       1319353               41                    44   \n",
            "2               22           160                1                     1   \n",
            "3               22       1303488               41                    42   \n",
            "4            35396            77                1                     2   \n",
            "5               22           244                1                     1   \n",
            "6               22       1307239               41                    40   \n",
            "7            60058            82                1                     2   \n",
            "8               22           171                1                     1   \n",
            "9               22           210                1                     1   \n",
            "\n",
            "   TotalLengthofFwdPackets  TotalLengthofBwdPackets  FwdPacketLengthMax  \\\n",
            "0                     2664                     6954                 456   \n",
            "1                     2664                     6954                 456   \n",
            "2                        0                        0                   0   \n",
            "3                     2728                     6634                 456   \n",
            "4                        0                        0                   0   \n",
            "5                        0                        0                   0   \n",
            "6                     2728                     6634                 456   \n",
            "7                        0                        0                   0   \n",
            "8                        0                        0                   0   \n",
            "9                        0                        0                   0   \n",
            "\n",
            "   FwdPacketLengthMin  FwdPacketLengthMean  FwdPacketLengthStd  ...  \\\n",
            "0                   0            64.975610          109.864573  ...   \n",
            "1                   0            64.975610          109.864573  ...   \n",
            "2                   0             0.000000            0.000000  ...   \n",
            "3                   0            66.536585          110.129945  ...   \n",
            "4                   0             0.000000            0.000000  ...   \n",
            "5                   0             0.000000            0.000000  ...   \n",
            "6                   0            66.536585          110.129945  ...   \n",
            "7                   0             0.000000            0.000000  ...   \n",
            "8                   0             0.000000            0.000000  ...   \n",
            "9                   0             0.000000            0.000000  ...   \n",
            "\n",
            "   min_seg_size_forward  ActiveMean  ActiveStd  ActiveMax  ActiveMin  \\\n",
            "0                    32         0.0        0.0          0          0   \n",
            "1                    32         0.0        0.0          0          0   \n",
            "2                    32         0.0        0.0          0          0   \n",
            "3                    32         0.0        0.0          0          0   \n",
            "4                    32         0.0        0.0          0          0   \n",
            "5                    32         0.0        0.0          0          0   \n",
            "6                    32         0.0        0.0          0          0   \n",
            "7                    32         0.0        0.0          0          0   \n",
            "8                    32         0.0        0.0          0          0   \n",
            "9                    32         0.0        0.0          0          0   \n",
            "\n",
            "   IdleMean  IdleStd  IdleMax  IdleMin   Label  \n",
            "0       0.0      0.0        0        0  BENIGN  \n",
            "1       0.0      0.0        0        0  BENIGN  \n",
            "2       0.0      0.0        0        0  BENIGN  \n",
            "3       0.0      0.0        0        0  BENIGN  \n",
            "4       0.0      0.0        0        0  BENIGN  \n",
            "5       0.0      0.0        0        0  BENIGN  \n",
            "6       0.0      0.0        0        0  BENIGN  \n",
            "7       0.0      0.0        0        0  BENIGN  \n",
            "8       0.0      0.0        0        0  BENIGN  \n",
            "9       0.0      0.0        0        0  BENIGN  \n",
            "\n",
            "[10 rows x 79 columns]\n"
          ]
        }
      ]
    },
    {
      "cell_type": "code",
      "source": [
        "data.replace([np.inf, -np.inf], np.nan, inplace=True)\n",
        "data.dropna(inplace=True)"
      ],
      "metadata": {
        "id": "YLA-nygOghCu"
      },
      "execution_count": null,
      "outputs": []
    },
    {
      "cell_type": "code",
      "source": [
        "class_counts = data['class'].value_counts()\n",
        "\n",
        "print(class_counts)"
      ],
      "metadata": {
        "id": "8kt1uVczFk_3",
        "outputId": "28eca222-3190-4213-b60e-4262132ba1be",
        "colab": {
          "base_uri": "https://localhost:8080/",
          "height": 547
        }
      },
      "execution_count": null,
      "outputs": [
        {
          "output_type": "error",
          "ename": "KeyError",
          "evalue": "'class'",
          "traceback": [
            "\u001b[0;31m---------------------------------------------------------------------------\u001b[0m",
            "\u001b[0;31mKeyError\u001b[0m                                  Traceback (most recent call last)",
            "\u001b[0;32m/usr/local/lib/python3.11/dist-packages/pandas/core/indexes/base.py\u001b[0m in \u001b[0;36mget_loc\u001b[0;34m(self, key)\u001b[0m\n\u001b[1;32m   3804\u001b[0m         \u001b[0;32mtry\u001b[0m\u001b[0;34m:\u001b[0m\u001b[0;34m\u001b[0m\u001b[0;34m\u001b[0m\u001b[0m\n\u001b[0;32m-> 3805\u001b[0;31m             \u001b[0;32mreturn\u001b[0m \u001b[0mself\u001b[0m\u001b[0;34m.\u001b[0m\u001b[0m_engine\u001b[0m\u001b[0;34m.\u001b[0m\u001b[0mget_loc\u001b[0m\u001b[0;34m(\u001b[0m\u001b[0mcasted_key\u001b[0m\u001b[0;34m)\u001b[0m\u001b[0;34m\u001b[0m\u001b[0;34m\u001b[0m\u001b[0m\n\u001b[0m\u001b[1;32m   3806\u001b[0m         \u001b[0;32mexcept\u001b[0m \u001b[0mKeyError\u001b[0m \u001b[0;32mas\u001b[0m \u001b[0merr\u001b[0m\u001b[0;34m:\u001b[0m\u001b[0;34m\u001b[0m\u001b[0;34m\u001b[0m\u001b[0m\n",
            "\u001b[0;32mindex.pyx\u001b[0m in \u001b[0;36mpandas._libs.index.IndexEngine.get_loc\u001b[0;34m()\u001b[0m\n",
            "\u001b[0;32mindex.pyx\u001b[0m in \u001b[0;36mpandas._libs.index.IndexEngine.get_loc\u001b[0;34m()\u001b[0m\n",
            "\u001b[0;32mpandas/_libs/hashtable_class_helper.pxi\u001b[0m in \u001b[0;36mpandas._libs.hashtable.PyObjectHashTable.get_item\u001b[0;34m()\u001b[0m\n",
            "\u001b[0;32mpandas/_libs/hashtable_class_helper.pxi\u001b[0m in \u001b[0;36mpandas._libs.hashtable.PyObjectHashTable.get_item\u001b[0;34m()\u001b[0m\n",
            "\u001b[0;31mKeyError\u001b[0m: 'class'",
            "\nThe above exception was the direct cause of the following exception:\n",
            "\u001b[0;31mKeyError\u001b[0m                                  Traceback (most recent call last)",
            "\u001b[0;32m<ipython-input-75-7dda97a48ba4>\u001b[0m in \u001b[0;36m<cell line: 0>\u001b[0;34m()\u001b[0m\n\u001b[0;32m----> 1\u001b[0;31m \u001b[0mclass_counts\u001b[0m \u001b[0;34m=\u001b[0m \u001b[0mdata\u001b[0m\u001b[0;34m[\u001b[0m\u001b[0;34m'class'\u001b[0m\u001b[0;34m]\u001b[0m\u001b[0;34m.\u001b[0m\u001b[0mvalue_counts\u001b[0m\u001b[0;34m(\u001b[0m\u001b[0;34m)\u001b[0m\u001b[0;34m\u001b[0m\u001b[0;34m\u001b[0m\u001b[0m\n\u001b[0m\u001b[1;32m      2\u001b[0m \u001b[0;34m\u001b[0m\u001b[0m\n\u001b[1;32m      3\u001b[0m \u001b[0mprint\u001b[0m\u001b[0;34m(\u001b[0m\u001b[0mclass_counts\u001b[0m\u001b[0;34m)\u001b[0m\u001b[0;34m\u001b[0m\u001b[0;34m\u001b[0m\u001b[0m\n",
            "\u001b[0;32m/usr/local/lib/python3.11/dist-packages/pandas/core/frame.py\u001b[0m in \u001b[0;36m__getitem__\u001b[0;34m(self, key)\u001b[0m\n\u001b[1;32m   4100\u001b[0m             \u001b[0;32mif\u001b[0m \u001b[0mself\u001b[0m\u001b[0;34m.\u001b[0m\u001b[0mcolumns\u001b[0m\u001b[0;34m.\u001b[0m\u001b[0mnlevels\u001b[0m \u001b[0;34m>\u001b[0m \u001b[0;36m1\u001b[0m\u001b[0;34m:\u001b[0m\u001b[0;34m\u001b[0m\u001b[0;34m\u001b[0m\u001b[0m\n\u001b[1;32m   4101\u001b[0m                 \u001b[0;32mreturn\u001b[0m \u001b[0mself\u001b[0m\u001b[0;34m.\u001b[0m\u001b[0m_getitem_multilevel\u001b[0m\u001b[0;34m(\u001b[0m\u001b[0mkey\u001b[0m\u001b[0;34m)\u001b[0m\u001b[0;34m\u001b[0m\u001b[0;34m\u001b[0m\u001b[0m\n\u001b[0;32m-> 4102\u001b[0;31m             \u001b[0mindexer\u001b[0m \u001b[0;34m=\u001b[0m \u001b[0mself\u001b[0m\u001b[0;34m.\u001b[0m\u001b[0mcolumns\u001b[0m\u001b[0;34m.\u001b[0m\u001b[0mget_loc\u001b[0m\u001b[0;34m(\u001b[0m\u001b[0mkey\u001b[0m\u001b[0;34m)\u001b[0m\u001b[0;34m\u001b[0m\u001b[0;34m\u001b[0m\u001b[0m\n\u001b[0m\u001b[1;32m   4103\u001b[0m             \u001b[0;32mif\u001b[0m \u001b[0mis_integer\u001b[0m\u001b[0;34m(\u001b[0m\u001b[0mindexer\u001b[0m\u001b[0;34m)\u001b[0m\u001b[0;34m:\u001b[0m\u001b[0;34m\u001b[0m\u001b[0;34m\u001b[0m\u001b[0m\n\u001b[1;32m   4104\u001b[0m                 \u001b[0mindexer\u001b[0m \u001b[0;34m=\u001b[0m \u001b[0;34m[\u001b[0m\u001b[0mindexer\u001b[0m\u001b[0;34m]\u001b[0m\u001b[0;34m\u001b[0m\u001b[0;34m\u001b[0m\u001b[0m\n",
            "\u001b[0;32m/usr/local/lib/python3.11/dist-packages/pandas/core/indexes/base.py\u001b[0m in \u001b[0;36mget_loc\u001b[0;34m(self, key)\u001b[0m\n\u001b[1;32m   3810\u001b[0m             ):\n\u001b[1;32m   3811\u001b[0m                 \u001b[0;32mraise\u001b[0m \u001b[0mInvalidIndexError\u001b[0m\u001b[0;34m(\u001b[0m\u001b[0mkey\u001b[0m\u001b[0;34m)\u001b[0m\u001b[0;34m\u001b[0m\u001b[0;34m\u001b[0m\u001b[0m\n\u001b[0;32m-> 3812\u001b[0;31m             \u001b[0;32mraise\u001b[0m \u001b[0mKeyError\u001b[0m\u001b[0;34m(\u001b[0m\u001b[0mkey\u001b[0m\u001b[0;34m)\u001b[0m \u001b[0;32mfrom\u001b[0m \u001b[0merr\u001b[0m\u001b[0;34m\u001b[0m\u001b[0;34m\u001b[0m\u001b[0m\n\u001b[0m\u001b[1;32m   3813\u001b[0m         \u001b[0;32mexcept\u001b[0m \u001b[0mTypeError\u001b[0m\u001b[0;34m:\u001b[0m\u001b[0;34m\u001b[0m\u001b[0;34m\u001b[0m\u001b[0m\n\u001b[1;32m   3814\u001b[0m             \u001b[0;31m# If we have a listlike key, _check_indexing_error will raise\u001b[0m\u001b[0;34m\u001b[0m\u001b[0;34m\u001b[0m\u001b[0m\n",
            "\u001b[0;31mKeyError\u001b[0m: 'class'"
          ]
        }
      ]
    },
    {
      "cell_type": "code",
      "source": [
        "irrelevant_columns = [\n",
        "    'TotalLengthofFwdPackets', 'TotalLengthofBwdPackets', 'FwdPacketLengthMax',\n",
        "    'FwdPacketLengthMin', 'FwdPacketLengthMean', 'FwdPacketLengthStd',\n",
        "    'BwdPacketLengthMax', 'BwdPacketLengthMin', 'BwdPacketLengthMean',\n",
        "    'BwdPacketLengthStd', 'FwdIATTotal', 'FwdIATMean', 'FwdIATStd',\n",
        "    'FwdIATMax', 'FwdIATMin', 'BwdIATStd', 'MinPacketLength',\n",
        "    'MaxPacketLength', 'PacketLengthMean', 'PacketLengthStd',\n",
        "    'PacketLengthVariance', 'PSHFlagCount', 'URGFlagCount', 'CWEFlagCount',\n",
        "    'ECEFlagCount', 'Down/UpRatio', 'AveragePacketSize', 'AvgFwdSegmentSize',\n",
        "    'AvgBwdSegmentSize', 'FwdHeaderLength.1', 'FwdAvgBytes/Bulk',\n",
        "    'FwdAvgPackets/Bulk', 'FwdAvgBulkRate', 'BwdAvgBytes/Bulk',\n",
        "    'BwdAvgPackets/Bulk', 'BwdAvgBulkRate', 'SubflowFwdBytes',\n",
        "    'SubflowBwdBytes', 'act_data_pkt_fwd', 'min_seg_size_forward',\n",
        "    'ActiveMean', 'ActiveStd', 'ActiveMax', 'ActiveMin', 'IdleMean',\n",
        "    'IdleStd', 'IdleMax', 'IdleMin'\n",
        "]\n",
        "\n",
        "data = data.drop(columns=irrelevant_columns, errors='ignore')\n",
        "print(len(data.columns))\n"
      ],
      "metadata": {
        "colab": {
          "base_uri": "https://localhost:8080/"
        },
        "id": "h9S5gF0lvPLI",
        "outputId": "5feccd5d-9436-46e8-d693-3156f2b48b1c"
      },
      "execution_count": null,
      "outputs": [
        {
          "output_type": "stream",
          "name": "stdout",
          "text": [
            "31\n"
          ]
        }
      ]
    },
    {
      "cell_type": "code",
      "source": [
        "begnin_count = data[data['Label'] == 'BENIGN'].shape[0]\n",
        "print(f\"Number of BENIGN samples: {begnin_count}\")\n",
        "\n",
        "portscan_count = data[data['Label'] == 'PortScan'].shape[0]\n",
        "print(f\"Number of PortScan samples: {portscan_count}\")\n"
      ],
      "metadata": {
        "collapsed": true,
        "id": "WNUAQqo4gpQE",
        "colab": {
          "base_uri": "https://localhost:8080/"
        },
        "outputId": "f0008ee5-268f-491a-8aed-6379b15c08c3"
      },
      "execution_count": null,
      "outputs": [
        {
          "output_type": "stream",
          "name": "stdout",
          "text": [
            "Number of BENIGN samples: 127292\n",
            "Number of PortScan samples: 158804\n"
          ]
        }
      ]
    },
    {
      "cell_type": "code",
      "source": [
        "from math import floor\n",
        "benign_samples = data[data['Label'] == 'BENIGN']\n",
        "percentage = 0.3\n",
        "malicious_samples = data[data['Label'] == 'PortScan'].sample(n=floor((begnin_count*percentage)/(1-percentage)), random_state=42)\n",
        "\n",
        "# Combine the sampled data\n",
        "data = pd.concat([benign_samples, malicious_samples])\n",
        "\n",
        "# Shuffle the data\n",
        "data = data.sample(frac=1, random_state=42).reset_index(drop=True)"
      ],
      "metadata": {
        "id": "5dkOpPVzvUql"
      },
      "execution_count": null,
      "outputs": []
    },
    {
      "cell_type": "code",
      "source": [
        "\n",
        "print(data['Label'].value_counts())"
      ],
      "metadata": {
        "colab": {
          "base_uri": "https://localhost:8080/"
        },
        "id": "O7mn90MugtXf",
        "outputId": "910c0a5c-d128-4dc7-c215-8d0370aa8d05"
      },
      "execution_count": null,
      "outputs": [
        {
          "output_type": "stream",
          "name": "stdout",
          "text": [
            "Label\n",
            "BENIGN      127292\n",
            "PortScan     54553\n",
            "Name: count, dtype: int64\n"
          ]
        }
      ]
    },
    {
      "cell_type": "code",
      "source": [],
      "metadata": {
        "collapsed": true,
        "id": "QRxZrklFgzqm"
      },
      "execution_count": null,
      "outputs": []
    },
    {
      "cell_type": "code",
      "source": [
        "# Calculate the correlation matrix, ignoring non-numerical columns\n",
        "correlation_matrix = data.select_dtypes(include=[np.number]).corr()\n",
        "\n",
        "# Find highly correlated features (e.g., with correlation > 0.9)\n",
        "high_corr = correlation_matrix[correlation_matrix > 0.9]\n",
        "print(high_corr)\n"
      ],
      "metadata": {
        "colab": {
          "base_uri": "https://localhost:8080/"
        },
        "collapsed": true,
        "id": "l9BjigmEg3cz",
        "outputId": "a2b12ee3-5f4c-4c82-97e7-7aa881e29e8a"
      },
      "execution_count": null,
      "outputs": [
        {
          "output_type": "stream",
          "name": "stdout",
          "text": [
            "                         DestinationPort  FlowDuration  TotalFwdPackets  \\\n",
            "DestinationPort                      1.0           NaN              NaN   \n",
            "FlowDuration                         NaN      1.000000              NaN   \n",
            "TotalFwdPackets                      NaN           NaN         1.000000   \n",
            "TotalBackwardPackets                 NaN           NaN         0.962230   \n",
            "FlowBytes/s                          NaN           NaN              NaN   \n",
            "FlowPackets/s                        NaN           NaN              NaN   \n",
            "FlowIATMean                          NaN           NaN              NaN   \n",
            "FlowIATStd                           NaN           NaN              NaN   \n",
            "FlowIATMax                           NaN           NaN              NaN   \n",
            "FlowIATMin                           NaN           NaN              NaN   \n",
            "BwdIATTotal                          NaN      0.987826              NaN   \n",
            "BwdIATMean                           NaN           NaN              NaN   \n",
            "BwdIATMax                            NaN           NaN              NaN   \n",
            "BwdIATMin                            NaN           NaN              NaN   \n",
            "FwdPSHFlags                          NaN           NaN              NaN   \n",
            "BwdPSHFlags                          NaN           NaN              NaN   \n",
            "FwdURGFlags                          NaN           NaN              NaN   \n",
            "BwdURGFlags                          NaN           NaN              NaN   \n",
            "FwdHeaderLength                      NaN           NaN         0.963460   \n",
            "BwdHeaderLength                      NaN           NaN         0.919433   \n",
            "FwdPackets/s                         NaN           NaN              NaN   \n",
            "BwdPackets/s                         NaN           NaN              NaN   \n",
            "FINFlagCount                         NaN           NaN              NaN   \n",
            "SYNFlagCount                         NaN           NaN              NaN   \n",
            "RSTFlagCount                         NaN           NaN              NaN   \n",
            "ACKFlagCount                         NaN           NaN              NaN   \n",
            "SubflowFwdPackets                    NaN           NaN         1.000000   \n",
            "SubflowBwdPackets                    NaN           NaN         0.962230   \n",
            "Init_Win_bytes_forward               NaN           NaN              NaN   \n",
            "Init_Win_bytes_backward              NaN           NaN              NaN   \n",
            "\n",
            "                         TotalBackwardPackets  FlowBytes/s  FlowPackets/s  \\\n",
            "DestinationPort                           NaN          NaN            NaN   \n",
            "FlowDuration                              NaN          NaN            NaN   \n",
            "TotalFwdPackets                      0.962230          NaN            NaN   \n",
            "TotalBackwardPackets                 1.000000          NaN            NaN   \n",
            "FlowBytes/s                               NaN          1.0            NaN   \n",
            "FlowPackets/s                             NaN          NaN       1.000000   \n",
            "FlowIATMean                               NaN          NaN            NaN   \n",
            "FlowIATStd                                NaN          NaN            NaN   \n",
            "FlowIATMax                                NaN          NaN            NaN   \n",
            "FlowIATMin                                NaN          NaN            NaN   \n",
            "BwdIATTotal                               NaN          NaN            NaN   \n",
            "BwdIATMean                                NaN          NaN            NaN   \n",
            "BwdIATMax                                 NaN          NaN            NaN   \n",
            "BwdIATMin                                 NaN          NaN            NaN   \n",
            "FwdPSHFlags                               NaN          NaN            NaN   \n",
            "BwdPSHFlags                               NaN          NaN            NaN   \n",
            "FwdURGFlags                               NaN          NaN            NaN   \n",
            "BwdURGFlags                               NaN          NaN            NaN   \n",
            "FwdHeaderLength                      0.946475          NaN            NaN   \n",
            "BwdHeaderLength                      0.973327          NaN            NaN   \n",
            "FwdPackets/s                              NaN          NaN       0.955724   \n",
            "BwdPackets/s                              NaN          NaN            NaN   \n",
            "FINFlagCount                              NaN          NaN            NaN   \n",
            "SYNFlagCount                              NaN          NaN            NaN   \n",
            "RSTFlagCount                              NaN          NaN            NaN   \n",
            "ACKFlagCount                              NaN          NaN            NaN   \n",
            "SubflowFwdPackets                    0.962230          NaN            NaN   \n",
            "SubflowBwdPackets                    1.000000          NaN            NaN   \n",
            "Init_Win_bytes_forward                    NaN          NaN            NaN   \n",
            "Init_Win_bytes_backward                   NaN          NaN            NaN   \n",
            "\n",
            "                         FlowIATMean  FlowIATStd  FlowIATMax  FlowIATMin  ...  \\\n",
            "DestinationPort                  NaN         NaN         NaN         NaN  ...   \n",
            "FlowDuration                     NaN         NaN         NaN         NaN  ...   \n",
            "TotalFwdPackets                  NaN         NaN         NaN         NaN  ...   \n",
            "TotalBackwardPackets             NaN         NaN         NaN         NaN  ...   \n",
            "FlowBytes/s                      NaN         NaN         NaN         NaN  ...   \n",
            "FlowPackets/s                    NaN         NaN         NaN         NaN  ...   \n",
            "FlowIATMean                 1.000000    0.957461         NaN         NaN  ...   \n",
            "FlowIATStd                  0.957461    1.000000         NaN         NaN  ...   \n",
            "FlowIATMax                       NaN         NaN    1.000000         NaN  ...   \n",
            "FlowIATMin                       NaN         NaN         NaN         1.0  ...   \n",
            "BwdIATTotal                      NaN         NaN         NaN         NaN  ...   \n",
            "BwdIATMean                  0.947648    0.940267         NaN         NaN  ...   \n",
            "BwdIATMax                        NaN         NaN    0.956297         NaN  ...   \n",
            "BwdIATMin                        NaN         NaN         NaN         NaN  ...   \n",
            "FwdPSHFlags                      NaN         NaN         NaN         NaN  ...   \n",
            "BwdPSHFlags                      NaN         NaN         NaN         NaN  ...   \n",
            "FwdURGFlags                      NaN         NaN         NaN         NaN  ...   \n",
            "BwdURGFlags                      NaN         NaN         NaN         NaN  ...   \n",
            "FwdHeaderLength                  NaN         NaN         NaN         NaN  ...   \n",
            "BwdHeaderLength                  NaN         NaN         NaN         NaN  ...   \n",
            "FwdPackets/s                     NaN         NaN         NaN         NaN  ...   \n",
            "BwdPackets/s                     NaN         NaN         NaN         NaN  ...   \n",
            "FINFlagCount                     NaN         NaN         NaN         NaN  ...   \n",
            "SYNFlagCount                     NaN         NaN         NaN         NaN  ...   \n",
            "RSTFlagCount                     NaN         NaN         NaN         NaN  ...   \n",
            "ACKFlagCount                     NaN         NaN         NaN         NaN  ...   \n",
            "SubflowFwdPackets                NaN         NaN         NaN         NaN  ...   \n",
            "SubflowBwdPackets                NaN         NaN         NaN         NaN  ...   \n",
            "Init_Win_bytes_forward           NaN         NaN         NaN         NaN  ...   \n",
            "Init_Win_bytes_backward          NaN         NaN         NaN         NaN  ...   \n",
            "\n",
            "                         FwdPackets/s  BwdPackets/s  FINFlagCount  \\\n",
            "DestinationPort                   NaN           NaN           NaN   \n",
            "FlowDuration                      NaN           NaN           NaN   \n",
            "TotalFwdPackets                   NaN           NaN           NaN   \n",
            "TotalBackwardPackets              NaN           NaN           NaN   \n",
            "FlowBytes/s                       NaN           NaN           NaN   \n",
            "FlowPackets/s                0.955724           NaN           NaN   \n",
            "FlowIATMean                       NaN           NaN           NaN   \n",
            "FlowIATStd                        NaN           NaN           NaN   \n",
            "FlowIATMax                        NaN           NaN           NaN   \n",
            "FlowIATMin                        NaN           NaN           NaN   \n",
            "BwdIATTotal                       NaN           NaN           NaN   \n",
            "BwdIATMean                        NaN           NaN           NaN   \n",
            "BwdIATMax                         NaN           NaN           NaN   \n",
            "BwdIATMin                         NaN           NaN           NaN   \n",
            "FwdPSHFlags                       NaN           NaN           NaN   \n",
            "BwdPSHFlags                       NaN           NaN           NaN   \n",
            "FwdURGFlags                       NaN           NaN           NaN   \n",
            "BwdURGFlags                       NaN           NaN           NaN   \n",
            "FwdHeaderLength                   NaN           NaN           NaN   \n",
            "BwdHeaderLength                   NaN           NaN           NaN   \n",
            "FwdPackets/s                 1.000000           NaN           NaN   \n",
            "BwdPackets/s                      NaN           1.0           NaN   \n",
            "FINFlagCount                      NaN           NaN           1.0   \n",
            "SYNFlagCount                      NaN           NaN           NaN   \n",
            "RSTFlagCount                      NaN           NaN           NaN   \n",
            "ACKFlagCount                      NaN           NaN           NaN   \n",
            "SubflowFwdPackets                 NaN           NaN           NaN   \n",
            "SubflowBwdPackets                 NaN           NaN           NaN   \n",
            "Init_Win_bytes_forward            NaN           NaN           NaN   \n",
            "Init_Win_bytes_backward           NaN           NaN           NaN   \n",
            "\n",
            "                         SYNFlagCount  RSTFlagCount  ACKFlagCount  \\\n",
            "DestinationPort                   NaN           NaN           NaN   \n",
            "FlowDuration                      NaN           NaN           NaN   \n",
            "TotalFwdPackets                   NaN           NaN           NaN   \n",
            "TotalBackwardPackets              NaN           NaN           NaN   \n",
            "FlowBytes/s                       NaN           NaN           NaN   \n",
            "FlowPackets/s                     NaN           NaN           NaN   \n",
            "FlowIATMean                       NaN           NaN           NaN   \n",
            "FlowIATStd                        NaN           NaN           NaN   \n",
            "FlowIATMax                        NaN           NaN           NaN   \n",
            "FlowIATMin                        NaN           NaN           NaN   \n",
            "BwdIATTotal                       NaN           NaN           NaN   \n",
            "BwdIATMean                        NaN           NaN           NaN   \n",
            "BwdIATMax                         NaN           NaN           NaN   \n",
            "BwdIATMin                         NaN           NaN           NaN   \n",
            "FwdPSHFlags                       1.0           NaN           NaN   \n",
            "BwdPSHFlags                       NaN           NaN           NaN   \n",
            "FwdURGFlags                       NaN           NaN           NaN   \n",
            "BwdURGFlags                       NaN           NaN           NaN   \n",
            "FwdHeaderLength                   NaN           NaN           NaN   \n",
            "BwdHeaderLength                   NaN           NaN           NaN   \n",
            "FwdPackets/s                      NaN           NaN           NaN   \n",
            "BwdPackets/s                      NaN           NaN           NaN   \n",
            "FINFlagCount                      NaN           NaN           NaN   \n",
            "SYNFlagCount                      1.0           NaN           NaN   \n",
            "RSTFlagCount                      NaN           1.0           NaN   \n",
            "ACKFlagCount                      NaN           NaN           1.0   \n",
            "SubflowFwdPackets                 NaN           NaN           NaN   \n",
            "SubflowBwdPackets                 NaN           NaN           NaN   \n",
            "Init_Win_bytes_forward            NaN           NaN           NaN   \n",
            "Init_Win_bytes_backward           NaN           NaN           NaN   \n",
            "\n",
            "                         SubflowFwdPackets  SubflowBwdPackets  \\\n",
            "DestinationPort                        NaN                NaN   \n",
            "FlowDuration                           NaN                NaN   \n",
            "TotalFwdPackets                   1.000000           0.962230   \n",
            "TotalBackwardPackets              0.962230           1.000000   \n",
            "FlowBytes/s                            NaN                NaN   \n",
            "FlowPackets/s                          NaN                NaN   \n",
            "FlowIATMean                            NaN                NaN   \n",
            "FlowIATStd                             NaN                NaN   \n",
            "FlowIATMax                             NaN                NaN   \n",
            "FlowIATMin                             NaN                NaN   \n",
            "BwdIATTotal                            NaN                NaN   \n",
            "BwdIATMean                             NaN                NaN   \n",
            "BwdIATMax                              NaN                NaN   \n",
            "BwdIATMin                              NaN                NaN   \n",
            "FwdPSHFlags                            NaN                NaN   \n",
            "BwdPSHFlags                            NaN                NaN   \n",
            "FwdURGFlags                            NaN                NaN   \n",
            "BwdURGFlags                            NaN                NaN   \n",
            "FwdHeaderLength                   0.963460           0.946475   \n",
            "BwdHeaderLength                   0.919433           0.973327   \n",
            "FwdPackets/s                           NaN                NaN   \n",
            "BwdPackets/s                           NaN                NaN   \n",
            "FINFlagCount                           NaN                NaN   \n",
            "SYNFlagCount                           NaN                NaN   \n",
            "RSTFlagCount                           NaN                NaN   \n",
            "ACKFlagCount                           NaN                NaN   \n",
            "SubflowFwdPackets                 1.000000           0.962230   \n",
            "SubflowBwdPackets                 0.962230           1.000000   \n",
            "Init_Win_bytes_forward                 NaN                NaN   \n",
            "Init_Win_bytes_backward                NaN                NaN   \n",
            "\n",
            "                         Init_Win_bytes_forward  Init_Win_bytes_backward  \n",
            "DestinationPort                             NaN                      NaN  \n",
            "FlowDuration                                NaN                      NaN  \n",
            "TotalFwdPackets                             NaN                      NaN  \n",
            "TotalBackwardPackets                        NaN                      NaN  \n",
            "FlowBytes/s                                 NaN                      NaN  \n",
            "FlowPackets/s                               NaN                      NaN  \n",
            "FlowIATMean                                 NaN                      NaN  \n",
            "FlowIATStd                                  NaN                      NaN  \n",
            "FlowIATMax                                  NaN                      NaN  \n",
            "FlowIATMin                                  NaN                      NaN  \n",
            "BwdIATTotal                                 NaN                      NaN  \n",
            "BwdIATMean                                  NaN                      NaN  \n",
            "BwdIATMax                                   NaN                      NaN  \n",
            "BwdIATMin                                   NaN                      NaN  \n",
            "FwdPSHFlags                                 NaN                      NaN  \n",
            "BwdPSHFlags                                 NaN                      NaN  \n",
            "FwdURGFlags                                 NaN                      NaN  \n",
            "BwdURGFlags                                 NaN                      NaN  \n",
            "FwdHeaderLength                             NaN                      NaN  \n",
            "BwdHeaderLength                             NaN                      NaN  \n",
            "FwdPackets/s                                NaN                      NaN  \n",
            "BwdPackets/s                                NaN                      NaN  \n",
            "FINFlagCount                                NaN                      NaN  \n",
            "SYNFlagCount                                NaN                      NaN  \n",
            "RSTFlagCount                                NaN                      NaN  \n",
            "ACKFlagCount                                NaN                      NaN  \n",
            "SubflowFwdPackets                           NaN                      NaN  \n",
            "SubflowBwdPackets                           NaN                      NaN  \n",
            "Init_Win_bytes_forward                      1.0                      NaN  \n",
            "Init_Win_bytes_backward                     NaN                      1.0  \n",
            "\n",
            "[30 rows x 30 columns]\n"
          ]
        }
      ]
    },
    {
      "cell_type": "code",
      "source": [],
      "metadata": {
        "collapsed": true,
        "id": "pdk01_GxhNPk"
      },
      "execution_count": null,
      "outputs": []
    },
    {
      "cell_type": "code",
      "source": [
        "from sklearn.model_selection import train_test_split\n",
        "X = data.drop('Label', axis=1)\n",
        "y = data['Label']\n",
        "X_train, X_test, y_train, y_test = train_test_split(X, y, test_size=0.2, random_state=42)\n",
        "print(f\"Training set size: {len(X_train)}, Test set size: {len(X_test)}\")\n"
      ],
      "metadata": {
        "colab": {
          "base_uri": "https://localhost:8080/"
        },
        "id": "fosDA6zphSNe",
        "outputId": "95958116-08cc-4542-9595-534cbf3647f5"
      },
      "execution_count": null,
      "outputs": [
        {
          "output_type": "stream",
          "name": "stdout",
          "text": [
            "Training set size: 145476, Test set size: 36369\n"
          ]
        }
      ]
    },
    {
      "cell_type": "code",
      "source": [
        "# Separate features and labels\n",
        "features = data.drop('Label', axis=1)\n",
        "labels = data['Label']\n",
        "features.replace([np.inf, -np.inf], np.nan, inplace=True)\n",
        "features.dropna(inplace=True)\n",
        "features = features.select_dtypes(include=[float, int])\n",
        "len(features)"
      ],
      "metadata": {
        "colab": {
          "base_uri": "https://localhost:8080/"
        },
        "id": "OV6-1sLHhWmg",
        "outputId": "57ac7cfc-6787-474c-afd9-00e111d95d6f"
      },
      "execution_count": null,
      "outputs": [
        {
          "output_type": "execute_result",
          "data": {
            "text/plain": [
              "181845"
            ]
          },
          "metadata": {},
          "execution_count": 58
        }
      ]
    },
    {
      "cell_type": "code",
      "source": [
        "from sklearn.preprocessing import StandardScaler\n",
        "\n",
        "scaler = StandardScaler()\n",
        "features_scaled = scaler.fit_transform(features)"
      ],
      "metadata": {
        "id": "8wYXZyNqjMed"
      },
      "execution_count": null,
      "outputs": []
    },
    {
      "cell_type": "code",
      "source": [
        "from sklearn.preprocessing import LabelEncoder\n",
        "\n",
        "label_encoder = LabelEncoder()\n",
        "y_encoded = label_encoder.fit_transform(labels)"
      ],
      "metadata": {
        "id": "qiGKSpFfjXyH"
      },
      "execution_count": null,
      "outputs": []
    },
    {
      "cell_type": "code",
      "source": [
        "round(data.shape[0]*80/100)"
      ],
      "metadata": {
        "colab": {
          "base_uri": "https://localhost:8080/"
        },
        "id": "m_Ex4NE-jiNq",
        "outputId": "91ecfa43-67e8-4ce7-814e-0561a906d8ff"
      },
      "execution_count": null,
      "outputs": [
        {
          "output_type": "execute_result",
          "data": {
            "text/plain": [
              "145476"
            ]
          },
          "metadata": {},
          "execution_count": 61
        }
      ]
    },
    {
      "cell_type": "code",
      "source": [
        "missing_labels = np.isnan(y_encoded).sum()\n",
        "print(f\"Number of missing values in y_encoded: {missing_labels}\")"
      ],
      "metadata": {
        "colab": {
          "base_uri": "https://localhost:8080/"
        },
        "id": "jgj_Mt-OjjX6",
        "outputId": "efc0df3a-5ac5-49cd-83a1-047aef2c0a09"
      },
      "execution_count": null,
      "outputs": [
        {
          "output_type": "stream",
          "name": "stdout",
          "text": [
            "Number of missing values in y_encoded: 0\n"
          ]
        }
      ]
    },
    {
      "cell_type": "code",
      "source": [
        "train_size = round(len(y_encoded) * 0.8)\n",
        "\n",
        "X_train = features_scaled[:train_size]\n",
        "X_test = features_scaled[train_size:]\n",
        "y_train = y_encoded[:train_size]\n",
        "y_test = y_encoded[train_size:]\n",
        "\n",
        "print(f\"Length of X_train: {len(X_train)}\")\n",
        "print(f\"Length of y_train: {len(y_train)}\")\n",
        "print(f\"Length of X_test: {len(X_test)}\")\n",
        "print(f\"Length of y_test: {len(y_test)}\")\n",
        "\n",
        "min_len = min(len(X_test), len(y_test))\n",
        "X_test = X_test[:min_len]\n",
        "y_test = y_test[:min_len]\n",
        "\n",
        "print(f\"Final Length of X_test: {len(X_test)}\")\n",
        "print(f\"Final Length of y_test: {len(y_test)}\")"
      ],
      "metadata": {
        "colab": {
          "base_uri": "https://localhost:8080/"
        },
        "collapsed": true,
        "id": "8Jb2jiqYjlVn",
        "outputId": "59aadcf2-9a87-4a8a-d552-7291c0f487bd"
      },
      "execution_count": null,
      "outputs": [
        {
          "output_type": "stream",
          "name": "stdout",
          "text": [
            "Length of X_train: 145476\n",
            "Length of y_train: 145476\n",
            "Length of X_test: 36369\n",
            "Length of y_test: 36369\n",
            "Final Length of X_test: 36369\n",
            "Final Length of y_test: 36369\n"
          ]
        }
      ]
    },
    {
      "cell_type": "code",
      "source": [],
      "metadata": {
        "id": "EuTncwcOwlkz"
      },
      "execution_count": null,
      "outputs": []
    },
    {
      "cell_type": "code",
      "source": [],
      "metadata": {
        "id": "TZpJssDujnFh"
      },
      "execution_count": null,
      "outputs": []
    },
    {
      "cell_type": "code",
      "source": [
        "from sklearn.ensemble import RandomForestClassifier\n",
        "from sklearn.metrics import accuracy_score, classification_report, confusion_matrix, roc_auc_score\n",
        "import numpy as np\n",
        "\n",
        "# Train Random Forest\n",
        "rf = RandomForestClassifier(n_estimators=100, random_state=42, class_weight='balanced')\n",
        "rf.fit(X_train, y_train)\n",
        "\n",
        "# Make predictions\n",
        "y_pred = rf.predict(X_test)\n",
        "\n",
        "# Model Evaluation\n",
        "# Accuracy\n",
        "accuracy = accuracy_score(y_test, y_pred)\n",
        "print(\"Accuracy:\", accuracy)\n",
        "\n",
        "# Classification Report\n",
        "print(\"\\nClassification Report:\")\n",
        "print(classification_report(y_test, y_pred, target_names=[\"Normal\", \"Anomaly\"]))\n",
        "\n",
        "# Confusion Matrix\n",
        "cm = confusion_matrix(y_test, y_pred)\n",
        "print(\"\\nConfusion Matrix:\")\n",
        "print(cm)\n",
        "\n",
        "# ROC AUC Score\n",
        "roc_auc = roc_auc_score(y_test, rf.predict_proba(X_test)[:, 1])\n",
        "print(\"\\nROC AUC Score:\", roc_auc)\n",
        "\n",
        "# Count the number of anomalies detected\n",
        "num_anomalies = np.sum(y_pred == 1)  # Assuming \"1\" represents anomalies in your dataset\n",
        "print(\"\\nNumber of anomalies detected:\", num_anomalies)\n",
        "#with 10%"
      ],
      "metadata": {
        "id": "bWC9qA1Ujp-f",
        "colab": {
          "base_uri": "https://localhost:8080/"
        },
        "outputId": "c28f43dc-c866-44d5-e748-ab211dbbf72d"
      },
      "execution_count": null,
      "outputs": [
        {
          "output_type": "stream",
          "name": "stdout",
          "text": [
            "Accuracy: 0.9999646480715523\n",
            "\n",
            "Classification Report:\n",
            "              precision    recall  f1-score   support\n",
            "\n",
            "      Normal       1.00      1.00      1.00     25418\n",
            "     Anomaly       1.00      1.00      1.00      2869\n",
            "\n",
            "    accuracy                           1.00     28287\n",
            "   macro avg       1.00      1.00      1.00     28287\n",
            "weighted avg       1.00      1.00      1.00     28287\n",
            "\n",
            "\n",
            "Confusion Matrix:\n",
            "[[25418     0]\n",
            " [    1  2868]]\n",
            "\n",
            "ROC AUC Score: 0.9999997874506533\n",
            "\n",
            "Number of anomalies detected: 2868\n"
          ]
        }
      ]
    },
    {
      "cell_type": "code",
      "source": [
        "from sklearn.ensemble import RandomForestClassifier\n",
        "from sklearn.metrics import accuracy_score, classification_report, confusion_matrix, roc_auc_score\n",
        "import numpy as np\n",
        "\n",
        "# Train Random Forest\n",
        "rf = RandomForestClassifier(n_estimators=100, random_state=42, class_weight={0: 1, 1: 5})\n",
        "rf.fit(X_train, y_train)\n",
        "\n",
        "# Make predictions\n",
        "y_pred = rf.predict(X_test)\n",
        "\n",
        "# Model Evaluation\n",
        "# Accuracy\n",
        "accuracy = accuracy_score(y_test, y_pred)\n",
        "print(\"Accuracy:\", accuracy)\n",
        "\n",
        "# Classification Report\n",
        "print(\"\\nClassification Report:\")\n",
        "print(classification_report(y_test, y_pred, target_names=[\"Normal\", \"Anomaly\"]))\n",
        "\n",
        "# Confusion Matrix\n",
        "cm = confusion_matrix(y_test, y_pred)\n",
        "print(\"\\nConfusion Matrix:\")\n",
        "print(cm)\n",
        "\n",
        "# ROC AUC Score\n",
        "roc_auc = roc_auc_score(y_test, rf.predict_proba(X_test)[:, 1])\n",
        "print(\"\\nROC AUC Score:\", roc_auc)\n",
        "\n",
        "# Count the number of anomalies detected\n",
        "num_anomalies = np.sum(y_pred == 1)  # Assuming \"1\" represents anomalies in your dataset\n",
        "print(\"\\nNumber of anomalies detected:\", num_anomalies)\n",
        "#with 10%"
      ],
      "metadata": {
        "colab": {
          "base_uri": "https://localhost:8080/"
        },
        "id": "zsdRAyynyyts",
        "outputId": "14ec4c0d-3d59-431e-d64b-15784b70a923"
      },
      "execution_count": null,
      "outputs": [
        {
          "output_type": "stream",
          "name": "stdout",
          "text": [
            "Accuracy: 0.9999646480715523\n",
            "\n",
            "Classification Report:\n",
            "              precision    recall  f1-score   support\n",
            "\n",
            "      Normal       1.00      1.00      1.00     25418\n",
            "     Anomaly       1.00      1.00      1.00      2869\n",
            "\n",
            "    accuracy                           1.00     28287\n",
            "   macro avg       1.00      1.00      1.00     28287\n",
            "weighted avg       1.00      1.00      1.00     28287\n",
            "\n",
            "\n",
            "Confusion Matrix:\n",
            "[[25418     0]\n",
            " [    1  2868]]\n",
            "\n",
            "ROC AUC Score: 0.9999985395802949\n",
            "\n",
            "Number of anomalies detected: 2868\n"
          ]
        }
      ]
    },
    {
      "cell_type": "code",
      "source": [
        "from sklearn.ensemble import RandomForestClassifier\n",
        "from sklearn.metrics import accuracy_score, classification_report, confusion_matrix, roc_auc_score\n",
        "import numpy as np\n",
        "\n",
        "# Train Random Forest\n",
        "rf = RandomForestClassifier(n_estimators=200, random_state=42, class_weight='balanced')\n",
        "rf.fit(X_train, y_train)\n",
        "\n",
        "# Make predictions\n",
        "y_pred = rf.predict(X_test)\n",
        "\n",
        "# Model Evaluation\n",
        "# Accuracy\n",
        "accuracy = accuracy_score(y_test, y_pred)\n",
        "print(\"Accuracy:\", accuracy)\n",
        "\n",
        "# Classification Report\n",
        "print(\"\\nClassification Report:\")\n",
        "print(classification_report(y_test, y_pred, target_names=[\"Normal\", \"Anomaly\"]))\n",
        "\n",
        "# Confusion Matrix\n",
        "cm = confusion_matrix(y_test, y_pred)\n",
        "print(\"\\nConfusion Matrix:\")\n",
        "print(cm)\n",
        "\n",
        "# ROC AUC Score\n",
        "roc_auc = roc_auc_score(y_test, rf.predict_proba(X_test)[:, 1])\n",
        "print(\"\\nROC AUC Score:\", roc_auc)\n",
        "\n",
        "# Count the number of anomalies detected\n",
        "num_anomalies = np.sum(y_pred == 1)  # Assuming \"1\" represents anomalies in your dataset\n",
        "print(\"\\nNumber of anomalies detected:\", num_anomalies)\n",
        "#with 20%"
      ],
      "metadata": {
        "colab": {
          "base_uri": "https://localhost:8080/"
        },
        "id": "uyCHxZN7y-aZ",
        "outputId": "a175bc21-a596-45f2-c2be-5ace5955d072"
      },
      "execution_count": null,
      "outputs": [
        {
          "output_type": "stream",
          "name": "stdout",
          "text": [
            "Accuracy: 0.9999371523740691\n",
            "\n",
            "Classification Report:\n",
            "              precision    recall  f1-score   support\n",
            "\n",
            "      Normal       1.00      1.00      1.00     25400\n",
            "     Anomaly       1.00      1.00      1.00      6423\n",
            "\n",
            "    accuracy                           1.00     31823\n",
            "   macro avg       1.00      1.00      1.00     31823\n",
            "weighted avg       1.00      1.00      1.00     31823\n",
            "\n",
            "\n",
            "Confusion Matrix:\n",
            "[[25400     0]\n",
            " [    2  6421]]\n",
            "\n",
            "ROC AUC Score: 0.9999212537129729\n",
            "\n",
            "Number of anomalies detected: 6421\n"
          ]
        }
      ]
    },
    {
      "cell_type": "code",
      "source": [
        "from sklearn.ensemble import RandomForestClassifier\n",
        "from sklearn.metrics import accuracy_score, classification_report, confusion_matrix, roc_auc_score\n",
        "import numpy as np\n",
        "\n",
        "# Train Random Forest\n",
        "rf = RandomForestClassifier(n_estimators=200, random_state=42, class_weight={0: 1, 1: 5})\n",
        "rf.fit(X_train, y_train)\n",
        "\n",
        "# Make predictions\n",
        "y_pred = rf.predict(X_test)\n",
        "\n",
        "# Model Evaluation\n",
        "# Accuracy\n",
        "accuracy = accuracy_score(y_test, y_pred)\n",
        "print(\"Accuracy:\", accuracy)\n",
        "\n",
        "# Classification Report\n",
        "print(\"\\nClassification Report:\")\n",
        "print(classification_report(y_test, y_pred, target_names=[\"Normal\", \"Anomaly\"]))\n",
        "\n",
        "# Confusion Matrix\n",
        "cm = confusion_matrix(y_test, y_pred)\n",
        "print(\"\\nConfusion Matrix:\")\n",
        "print(cm)\n",
        "\n",
        "# ROC AUC Score\n",
        "roc_auc = roc_auc_score(y_test, rf.predict_proba(X_test)[:, 1])\n",
        "print(\"\\nROC AUC Score:\", roc_auc)\n",
        "\n",
        "# Count the number of anomalies detected\n",
        "num_anomalies = np.sum(y_pred == 1)  # Assuming \"1\" represents anomalies in your dataset\n",
        "print(\"\\nNumber of anomalies detected:\", num_anomalies)\n",
        "# with 20%"
      ],
      "metadata": {
        "colab": {
          "base_uri": "https://localhost:8080/"
        },
        "id": "TstNPYPxy_an",
        "outputId": "42dfa77d-cd7f-4234-db38-9d488f196c1d"
      },
      "execution_count": null,
      "outputs": [
        {
          "output_type": "stream",
          "name": "stdout",
          "text": [
            "Accuracy: 0.9999371523740691\n",
            "\n",
            "Classification Report:\n",
            "              precision    recall  f1-score   support\n",
            "\n",
            "      Normal       1.00      1.00      1.00     25400\n",
            "     Anomaly       1.00      1.00      1.00      6423\n",
            "\n",
            "    accuracy                           1.00     31823\n",
            "   macro avg       1.00      1.00      1.00     31823\n",
            "weighted avg       1.00      1.00      1.00     31823\n",
            "\n",
            "\n",
            "Confusion Matrix:\n",
            "[[25400     0]\n",
            " [    2  6421]]\n",
            "\n",
            "ROC AUC Score: 0.9999213088788936\n",
            "\n",
            "Number of anomalies detected: 6421\n"
          ]
        }
      ]
    },
    {
      "cell_type": "code",
      "source": [
        "from sklearn.ensemble import RandomForestClassifier\n",
        "from sklearn.metrics import accuracy_score, classification_report, confusion_matrix, roc_auc_score\n",
        "import numpy as np\n",
        "\n",
        "# Train Random Forest\n",
        "rf = RandomForestClassifier(n_estimators=300, random_state=42, class_weight='balanced')\n",
        "rf.fit(X_train, y_train)\n",
        "\n",
        "# Make predictions\n",
        "y_pred = rf.predict(X_test)\n",
        "\n",
        "# Model Evaluation\n",
        "# Accuracy\n",
        "accuracy = accuracy_score(y_test, y_pred)\n",
        "print(\"Accuracy:\", accuracy)\n",
        "\n",
        "# Classification Report\n",
        "print(\"\\nClassification Report:\")\n",
        "print(classification_report(y_test, y_pred, target_names=[\"Normal\", \"Anomaly\"]))\n",
        "\n",
        "# Confusion Matrix\n",
        "cm = confusion_matrix(y_test, y_pred)\n",
        "print(\"\\nConfusion Matrix:\")\n",
        "print(cm)\n",
        "\n",
        "# ROC AUC Score\n",
        "roc_auc = roc_auc_score(y_test, rf.predict_proba(X_test)[:, 1])\n",
        "print(\"\\nROC AUC Score:\", roc_auc)\n",
        "\n",
        "# Count the number of anomalies detected\n",
        "num_anomalies = np.sum(y_pred == 1)  # Assuming \"1\" represents anomalies in your dataset\n",
        "print(\"\\nNumber of anomalies detected:\", num_anomalies)"
      ],
      "metadata": {
        "colab": {
          "base_uri": "https://localhost:8080/"
        },
        "id": "23WUpRbHzATD",
        "outputId": "e58f4759-4866-404a-f2dd-c62dc6f7b25f"
      },
      "execution_count": null,
      "outputs": [
        {
          "output_type": "stream",
          "name": "stdout",
          "text": [
            "Accuracy: 0.9999450081113036\n",
            "\n",
            "Classification Report:\n",
            "              precision    recall  f1-score   support\n",
            "\n",
            "      Normal       1.00      1.00      1.00     25423\n",
            "     Anomaly       1.00      1.00      1.00     10946\n",
            "\n",
            "    accuracy                           1.00     36369\n",
            "   macro avg       1.00      1.00      1.00     36369\n",
            "weighted avg       1.00      1.00      1.00     36369\n",
            "\n",
            "\n",
            "Confusion Matrix:\n",
            "[[25423     0]\n",
            " [    2 10944]]\n",
            "\n",
            "ROC AUC Score: 0.9999998921949729\n",
            "\n",
            "Number of anomalies detected: 10944\n"
          ]
        }
      ]
    },
    {
      "cell_type": "code",
      "source": [
        "from sklearn.ensemble import RandomForestClassifier\n",
        "from sklearn.metrics import accuracy_score, classification_report, confusion_matrix, roc_auc_score\n",
        "import numpy as np\n",
        "\n",
        "# Train Random Forest\n",
        "rf = RandomForestClassifier(n_estimators=300, random_state=42, class_weight={0: 1, 1: 5})\n",
        "rf.fit(X_train, y_train)\n",
        "\n",
        "# Make predictions\n",
        "y_pred = rf.predict(X_test)\n",
        "\n",
        "# Model Evaluation\n",
        "# Accuracy\n",
        "accuracy = accuracy_score(y_test, y_pred)\n",
        "print(\"Accuracy:\", accuracy)\n",
        "\n",
        "# Classification Report\n",
        "print(\"\\nClassification Report:\")\n",
        "print(classification_report(y_test, y_pred, target_names=[\"Normal\", \"Anomaly\"]))\n",
        "\n",
        "# Confusion Matrix\n",
        "cm = confusion_matrix(y_test, y_pred)\n",
        "print(\"\\nConfusion Matrix:\")\n",
        "print(cm)\n",
        "\n",
        "# ROC AUC Score\n",
        "roc_auc = roc_auc_score(y_test, rf.predict_proba(X_test)[:, 1])\n",
        "print(\"\\nROC AUC Score:\", roc_auc)\n",
        "\n",
        "# Count the number of anomalies detected\n",
        "num_anomalies = np.sum(y_pred == 1)  # Assuming \"1\" represents anomalies in your dataset\n",
        "print(\"\\nNumber of anomalies detected:\", num_anomalies)"
      ],
      "metadata": {
        "colab": {
          "base_uri": "https://localhost:8080/"
        },
        "id": "tLnn_KEh0ouz",
        "outputId": "590e8556-1133-44cc-8e39-b4d55c996517"
      },
      "execution_count": null,
      "outputs": [
        {
          "output_type": "stream",
          "name": "stdout",
          "text": [
            "Accuracy: 0.9999450081113036\n",
            "\n",
            "Classification Report:\n",
            "              precision    recall  f1-score   support\n",
            "\n",
            "      Normal       1.00      1.00      1.00     25423\n",
            "     Anomaly       1.00      1.00      1.00     10946\n",
            "\n",
            "    accuracy                           1.00     36369\n",
            "   macro avg       1.00      1.00      1.00     36369\n",
            "weighted avg       1.00      1.00      1.00     36369\n",
            "\n",
            "\n",
            "Confusion Matrix:\n",
            "[[25423     0]\n",
            " [    2 10944]]\n",
            "\n",
            "ROC AUC Score: 0.9999997825931952\n",
            "\n",
            "Number of anomalies detected: 10944\n"
          ]
        }
      ]
    },
    {
      "cell_type": "code",
      "source": [
        "import matplotlib.pyplot as plt\n",
        "import seaborn as sns\n",
        "\n",
        "# Plot confusion matrix\n",
        "def plot_confusion_matrix(cm, classes, title='Confusion Matrix', cmap=plt.cm.Blues):\n",
        "    \"\"\"\n",
        "    This function plots the confusion matrix.\n",
        "    \"\"\"\n",
        "    plt.figure(figsize=(8, 6))\n",
        "    sns.heatmap(cm, annot=True, fmt='d', cmap=cmap, xticklabels=classes, yticklabels=classes)\n",
        "    plt.title(title)\n",
        "    plt.ylabel('True Label')\n",
        "    plt.xlabel('Predicted Label')\n",
        "    plt.show()\n",
        "\n",
        "# Labels for confusion matrix\n",
        "labels = ['Normal', 'Anomaly']\n",
        "\n",
        "# Plot the confusion matrix\n",
        "plot_confusion_matrix(cm, classes=labels)\n"
      ],
      "metadata": {
        "colab": {
          "base_uri": "https://localhost:8080/",
          "height": 564
        },
        "id": "21wGhX2L2UpY",
        "outputId": "dfa8af7d-15c1-4917-b617-63f41f3a6331"
      },
      "execution_count": null,
      "outputs": [
        {
          "output_type": "display_data",
          "data": {
            "text/plain": [
              "<Figure size 800x600 with 2 Axes>"
            ],
            "image/png": "[encoded data removed]"
          },
          "metadata": {}
        }
      ]
    },
    {
      "cell_type": "code",
      "source": [
        "from sklearn.ensemble import RandomForestClassifier\n",
        "from sklearn.metrics import accuracy_score, classification_report, confusion_matrix, roc_auc_score\n",
        "import numpy as np\n",
        "\n",
        "# Train Random Forest\n",
        "rf = RandomForestClassifier(n_estimators=400, random_state=42, class_weight={0: 1, 1: 5})\n",
        "rf.fit(X_train, y_train)\n",
        "\n",
        "# Make predictions\n",
        "y_pred = rf.predict(X_test)\n",
        "\n",
        "# Model Evaluation\n",
        "# Accuracy\n",
        "accuracy = accuracy_score(y_test, y_pred)\n",
        "print(\"Accuracy:\", accuracy)\n",
        "\n",
        "# Classification Report\n",
        "print(\"\\nClassification Report:\")\n",
        "print(classification_report(y_test, y_pred, target_names=[\"Normal\", \"Anomaly\"]))\n",
        "\n",
        "# Confusion Matrix\n",
        "cm = confusion_matrix(y_test, y_pred)\n",
        "print(\"\\nConfusion Matrix:\")\n",
        "print(cm)\n",
        "\n",
        "# ROC AUC Score\n",
        "roc_auc = roc_auc_score(y_test, rf.predict_proba(X_test)[:, 1])\n",
        "print(\"\\nROC AUC Score:\", roc_auc)\n",
        "\n",
        "# Count the number of anomalies detected\n",
        "num_anomalies = np.sum(y_pred == 1)  # Assuming \"1\" represents anomalies in your dataset\n",
        "print(\"\\nNumber of anomalies detected:\", num_anomalies)"
      ],
      "metadata": {
        "colab": {
          "base_uri": "https://localhost:8080/"
        },
        "id": "H4qm4G_B0q1u",
        "outputId": "3eaae158-e5e8-4c66-956d-dea542818c8f"
      },
      "execution_count": null,
      "outputs": [
        {
          "output_type": "stream",
          "name": "stdout",
          "text": [
            "Accuracy: 0.9999565217391304\n",
            "\n",
            "Classification Report:\n",
            "              precision    recall  f1-score   support\n",
            "\n",
            "      Normal       1.00      1.00      1.00     21998\n",
            "     Anomaly       1.00      1.00      1.00      1002\n",
            "\n",
            "    accuracy                           1.00     23000\n",
            "   macro avg       1.00      1.00      1.00     23000\n",
            "weighted avg       1.00      1.00      1.00     23000\n",
            "\n",
            "\n",
            "Confusion Matrix:\n",
            "[[21998     0]\n",
            " [    1  1001]]\n",
            "\n",
            "ROC AUC Score: 0.9999993648488096\n",
            "\n",
            "Number of anomalies detected: 1001\n"
          ]
        }
      ]
    },
    {
      "cell_type": "code",
      "source": [
        "from sklearn.ensemble import RandomForestClassifier\n",
        "from sklearn.metrics import accuracy_score, classification_report, confusion_matrix, roc_auc_score\n",
        "import numpy as np\n",
        "\n",
        "# Train Random Forest\n",
        "rf = RandomForestClassifier(n_estimators=300, random_state=42, class_weight={0: 1, 1: 5})\n",
        "rf.fit(X_train, y_train)\n",
        "\n",
        "# Make predictions\n",
        "y_pred = rf.predict(X_test)\n",
        "\n",
        "# Model Evaluation\n",
        "# Accuracy\n",
        "accuracy = accuracy_score(y_test, y_pred)\n",
        "print(\"Accuracy:\", accuracy)\n",
        "\n",
        "# Classification Report\n",
        "print(\"\\nClassification Report:\")\n",
        "print(classification_report(y_test, y_pred, target_names=[\"Normal\", \"Anomaly\"]))\n",
        "\n",
        "# Confusion Matrix\n",
        "cm = confusion_matrix(y_test, y_pred)\n",
        "print(\"\\nConfusion Matrix:\")\n",
        "print(cm)\n",
        "\n",
        "# ROC AUC Score\n",
        "roc_auc = roc_auc_score(y_test, rf.predict_proba(X_test)[:, 1])\n",
        "print(\"\\nROC AUC Score:\", roc_auc)\n",
        "\n",
        "# Count the number of anomalies detected\n",
        "num_anomalies = np.sum(y_pred == 1)  # Assuming \"1\" represents anomalies in your dataset\n",
        "print(\"\\nNumber of anomalies detected:\", num_anomalies)"
      ],
      "metadata": {
        "colab": {
          "base_uri": "https://localhost:8080/"
        },
        "id": "YTRpcl1W0sqj",
        "outputId": "97167d5a-e49a-4300-e6e8-c565df5ca966"
      },
      "execution_count": null,
      "outputs": [
        {
          "output_type": "stream",
          "name": "stdout",
          "text": [
            "Accuracy: 0.9999565217391304\n",
            "\n",
            "Classification Report:\n",
            "              precision    recall  f1-score   support\n",
            "\n",
            "      Normal       1.00      1.00      1.00     21998\n",
            "     Anomaly       1.00      1.00      1.00      1002\n",
            "\n",
            "    accuracy                           1.00     23000\n",
            "   macro avg       1.00      1.00      1.00     23000\n",
            "weighted avg       1.00      1.00      1.00     23000\n",
            "\n",
            "\n",
            "Confusion Matrix:\n",
            "[[21998     0]\n",
            " [    1  1001]]\n",
            "\n",
            "ROC AUC Score: 0.9999993648488095\n",
            "\n",
            "Number of anomalies detected: 1001\n"
          ]
        }
      ]
    },
    {
      "cell_type": "code",
      "source": [
        "from sklearn.ensemble import RandomForestClassifier\n",
        "from sklearn.metrics import accuracy_score, classification_report, confusion_matrix, roc_auc_score\n",
        "import numpy as np\n",
        "\n",
        "# Train Random Forest\n",
        "rf = RandomForestClassifier(n_estimators=200, random_state=42, class_weight={0: 1, 1: 5})\n",
        "rf.fit(X_train, y_train)\n",
        "\n",
        "# Make predictions\n",
        "y_pred = rf.predict(X_test)\n",
        "\n",
        "# Model Evaluation\n",
        "# Accuracy\n",
        "accuracy = accuracy_score(y_test, y_pred)\n",
        "print(\"Accuracy:\", accuracy)\n",
        "\n",
        "# Classification Report\n",
        "print(\"\\nClassification Report:\")\n",
        "print(classification_report(y_test, y_pred, target_names=[\"Normal\", \"Anomaly\"]))\n",
        "\n",
        "# Confusion Matrix\n",
        "cm = confusion_matrix(y_test, y_pred)\n",
        "print(\"\\nConfusion Matrix:\")\n",
        "print(cm)\n",
        "\n",
        "# ROC AUC Score\n",
        "roc_auc = roc_auc_score(y_test, rf.predict_proba(X_test)[:, 1])\n",
        "print(\"\\nROC AUC Score:\", roc_auc)\n",
        "\n",
        "# Count the number of anomalies detected\n",
        "num_anomalies = np.sum(y_pred == 1)  # Assuming \"1\" represents anomalies in your dataset\n",
        "print(\"\\nNumber of anomalies detected:\", num_anomalies)"
      ],
      "metadata": {
        "colab": {
          "base_uri": "https://localhost:8080/"
        },
        "id": "buCllp9X0uGS",
        "outputId": "653a26c0-c551-4fff-bd55-348867d329a0"
      },
      "execution_count": null,
      "outputs": [
        {
          "output_type": "stream",
          "name": "stdout",
          "text": [
            "Accuracy: 0.9999565217391304\n",
            "\n",
            "Classification Report:\n",
            "              precision    recall  f1-score   support\n",
            "\n",
            "      Normal       1.00      1.00      1.00     21998\n",
            "     Anomaly       1.00      1.00      1.00      1002\n",
            "\n",
            "    accuracy                           1.00     23000\n",
            "   macro avg       1.00      1.00      1.00     23000\n",
            "weighted avg       1.00      1.00      1.00     23000\n",
            "\n",
            "\n",
            "Confusion Matrix:\n",
            "[[21998     0]\n",
            " [    1  1001]]\n",
            "\n",
            "ROC AUC Score: 0.999998979221301\n",
            "\n",
            "Number of anomalies detected: 1001\n"
          ]
        }
      ]
    },
    {
      "cell_type": "code",
      "source": [
        "from sklearn.ensemble import RandomForestClassifier\n",
        "from sklearn.metrics import accuracy_score, classification_report, confusion_matrix, roc_auc_score\n",
        "import numpy as np\n",
        "\n",
        "# Train Random Forest\n",
        "rf = RandomForestClassifier(n_estimators=100, random_state=42, class_weight={0: 1, 1: 5})\n",
        "rf.fit(X_train, y_train)\n",
        "\n",
        "# Make predictions\n",
        "y_pred = rf.predict(X_test)\n",
        "\n",
        "# Model Evaluation\n",
        "# Accuracy\n",
        "accuracy = accuracy_score(y_test, y_pred)\n",
        "print(\"Accuracy:\", accuracy)\n",
        "\n",
        "# Classification Report\n",
        "print(\"\\nClassification Report:\")\n",
        "print(classification_report(y_test, y_pred, target_names=[\"Normal\", \"Anomaly\"]))\n",
        "\n",
        "# Confusion Matrix\n",
        "cm = confusion_matrix(y_test, y_pred)\n",
        "print(\"\\nConfusion Matrix:\")\n",
        "print(cm)\n",
        "\n",
        "# ROC AUC Score\n",
        "roc_auc = roc_auc_score(y_test, rf.predict_proba(X_test)[:, 1])\n",
        "print(\"\\nROC AUC Score:\", roc_auc)\n",
        "\n",
        "# Count the number of anomalies detected\n",
        "num_anomalies = np.sum(y_pred == 1)  # Assuming \"1\" represents anomalies in your dataset\n",
        "print(\"\\nNumber of anomalies detected:\", num_anomalies)"
      ],
      "metadata": {
        "colab": {
          "base_uri": "https://localhost:8080/"
        },
        "id": "TEhseU9F0v2k",
        "outputId": "72703dd9-cd18-4716-fc97-e80765580f0d"
      },
      "execution_count": null,
      "outputs": [
        {
          "output_type": "stream",
          "name": "stdout",
          "text": [
            "Accuracy: 0.9999565217391304\n",
            "\n",
            "Classification Report:\n",
            "              precision    recall  f1-score   support\n",
            "\n",
            "      Normal       1.00      1.00      1.00     21998\n",
            "     Anomaly       1.00      1.00      1.00      1002\n",
            "\n",
            "    accuracy                           1.00     23000\n",
            "   macro avg       1.00      1.00      1.00     23000\n",
            "weighted avg       1.00      1.00      1.00     23000\n",
            "\n",
            "\n",
            "Confusion Matrix:\n",
            "[[21998     0]\n",
            " [    1  1001]]\n",
            "\n",
            "ROC AUC Score: 0.999998979221301\n",
            "\n",
            "Number of anomalies detected: 1001\n"
          ]
        }
      ]
    },
    {
      "cell_type": "code",
      "source": [
        "from sklearn.ensemble import RandomForestClassifier\n",
        "from sklearn.metrics import accuracy_score, classification_report, confusion_matrix, roc_auc_score\n",
        "import numpy as np\n",
        "\n",
        "# Train Random Forest\n",
        "rf = RandomForestClassifier(n_estimators=600, random_state=42, class_weight={0: 1, 1: 5})\n",
        "rf.fit(X_train, y_train)\n",
        "\n",
        "# Make predictions\n",
        "y_pred = rf.predict(X_test)\n",
        "\n",
        "# Model Evaluation\n",
        "# Accuracy\n",
        "accuracy = accuracy_score(y_test, y_pred)\n",
        "print(\"Accuracy:\", accuracy)\n",
        "\n",
        "# Classification Report\n",
        "print(\"\\nClassification Report:\")\n",
        "print(classification_report(y_test, y_pred, target_names=[\"Normal\", \"Anomaly\"]))\n",
        "\n",
        "# Confusion Matrix\n",
        "cm = confusion_matrix(y_test, y_pred)\n",
        "print(\"\\nConfusion Matrix:\")\n",
        "print(cm)\n",
        "\n",
        "# ROC AUC Score\n",
        "roc_auc = roc_auc_score(y_test, rf.predict_proba(X_test)[:, 1])\n",
        "print(\"\\nROC AUC Score:\", roc_auc)\n",
        "\n",
        "# Count the number of anomalies detected\n",
        "num_anomalies = np.sum(y_pred == 1)  # Assuming \"1\" represents anomalies in your dataset\n",
        "print(\"\\nNumber of anomalies detected:\", num_anomalies)"
      ],
      "metadata": {
        "colab": {
          "base_uri": "https://localhost:8080/"
        },
        "id": "wEXWFyoRzBCz",
        "outputId": "663e372d-1f42-41fa-bd46-3dd60d8c04b2"
      },
      "execution_count": null,
      "outputs": [
        {
          "output_type": "stream",
          "name": "stdout",
          "text": [
            "Accuracy: 0.9999565217391304\n",
            "\n",
            "Classification Report:\n",
            "              precision    recall  f1-score   support\n",
            "\n",
            "      Normal       1.00      1.00      1.00     21998\n",
            "     Anomaly       1.00      1.00      1.00      1002\n",
            "\n",
            "    accuracy                           1.00     23000\n",
            "   macro avg       1.00      1.00      1.00     23000\n",
            "weighted avg       1.00      1.00      1.00     23000\n",
            "\n",
            "\n",
            "Confusion Matrix:\n",
            "[[21998     0]\n",
            " [    1  1001]]\n",
            "\n",
            "ROC AUC Score: 0.9999995009526361\n",
            "\n",
            "Number of anomalies detected: 1001\n"
          ]
        }
      ]
    }
  ]
}