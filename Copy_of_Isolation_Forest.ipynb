{
  "nbformat": 4,
  "nbformat_minor": 0,
  "metadata": {
    "colab": {
      "provenance": []
    },
    "kernelspec": {
      "name": "python3",
      "display_name": "Python 3"
    },
    "language_info": {
      "name": "python"
    }
  },
  "cells": [
    {
      "cell_type": "markdown",
      "source": [
        "Isolation Forest"
      ],
      "metadata": {
        "id": "0sx1CJ4De2_e"
      }
    },
    {
      "cell_type": "code",
      "execution_count": null,
      "metadata": {
        "id": "c4ecjNTpezxc"
      },
      "outputs": [],
      "source": [
        "# Import necessary libraries\n",
        "import pandas as pd\n",
        "import numpy as np"
      ]
    },
    {
      "cell_type": "code",
      "source": [
        "from google.colab import drive\n",
        "drive.mount('/content/drive')"
      ],
      "metadata": {
        "colab": {
          "base_uri": "https://localhost:8080/"
        },
        "id": "qKvOzACifCJI",
        "outputId": "a9139137-6b6e-455f-99ca-68a25ad5ac28"
      },
      "execution_count": null,
      "outputs": [
        {
          "output_type": "stream",
          "name": "stdout",
          "text": [
            "Drive already mounted at /content/drive; to attempt to forcibly remount, call drive.mount(\"/content/drive\", force_remount=True).\n"
          ]
        }
      ]
    },
    {
      "cell_type": "code",
      "source": [
        "# Load the dataset\n",
        "file_path = '/content/drive/MyDrive/Friday-WorkingHours-Afternoon-PortScan.pcap_ISCX.csv'\n",
        "data = pd.read_csv(file_path)\n"
      ],
      "metadata": {
        "id": "vMXpqqNAe5Vu"
      },
      "execution_count": null,
      "outputs": []
    },
    {
      "cell_type": "code",
      "source": [
        "# Clean column names by removing extra spaces\n",
        "data.columns = data.columns.str.replace(' ', '')\n",
        "print(data.columns)"
      ],
      "metadata": {
        "colab": {
          "base_uri": "https://localhost:8080/"
        },
        "collapsed": true,
        "id": "eKkli76Ue-4M",
        "outputId": "3832a8de-e9fd-4ec1-e3bd-cd7b331c9280"
      },
      "execution_count": null,
      "outputs": [
        {
          "output_type": "stream",
          "name": "stdout",
          "text": [
            "Index(['DestinationPort', 'FlowDuration', 'TotalFwdPackets',\n",
            "       'TotalBackwardPackets', 'TotalLengthofFwdPackets',\n",
            "       'TotalLengthofBwdPackets', 'FwdPacketLengthMax', 'FwdPacketLengthMin',\n",
            "       'FwdPacketLengthMean', 'FwdPacketLengthStd', 'BwdPacketLengthMax',\n",
            "       'BwdPacketLengthMin', 'BwdPacketLengthMean', 'BwdPacketLengthStd',\n",
            "       'FlowBytes/s', 'FlowPackets/s', 'FlowIATMean', 'FlowIATStd',\n",
            "       'FlowIATMax', 'FlowIATMin', 'FwdIATTotal', 'FwdIATMean', 'FwdIATStd',\n",
            "       'FwdIATMax', 'FwdIATMin', 'BwdIATTotal', 'BwdIATMean', 'BwdIATStd',\n",
            "       'BwdIATMax', 'BwdIATMin', 'FwdPSHFlags', 'BwdPSHFlags', 'FwdURGFlags',\n",
            "       'BwdURGFlags', 'FwdHeaderLength', 'BwdHeaderLength', 'FwdPackets/s',\n",
            "       'BwdPackets/s', 'MinPacketLength', 'MaxPacketLength',\n",
            "       'PacketLengthMean', 'PacketLengthStd', 'PacketLengthVariance',\n",
            "       'FINFlagCount', 'SYNFlagCount', 'RSTFlagCount', 'PSHFlagCount',\n",
            "       'ACKFlagCount', 'URGFlagCount', 'CWEFlagCount', 'ECEFlagCount',\n",
            "       'Down/UpRatio', 'AveragePacketSize', 'AvgFwdSegmentSize',\n",
            "       'AvgBwdSegmentSize', 'FwdHeaderLength.1', 'FwdAvgBytes/Bulk',\n",
            "       'FwdAvgPackets/Bulk', 'FwdAvgBulkRate', 'BwdAvgBytes/Bulk',\n",
            "       'BwdAvgPackets/Bulk', 'BwdAvgBulkRate', 'SubflowFwdPackets',\n",
            "       'SubflowFwdBytes', 'SubflowBwdPackets', 'SubflowBwdBytes',\n",
            "       'Init_Win_bytes_forward', 'Init_Win_bytes_backward', 'act_data_pkt_fwd',\n",
            "       'min_seg_size_forward', 'ActiveMean', 'ActiveStd', 'ActiveMax',\n",
            "       'ActiveMin', 'IdleMean', 'IdleStd', 'IdleMax', 'IdleMin', 'Label'],\n",
            "      dtype='object')\n"
          ]
        }
      ]
    },
    {
      "cell_type": "code",
      "source": [
        "data.replace([np.inf, -np.inf], np.nan, inplace=True)\n",
        "data.dropna(inplace=True)\n",
        "\n",
        "# Display the first 10 rows of the dataset\n",
        "print(\"First 10 rows of the dataset:\")\n",
        "print(data.head(10))\n",
        "len(data.columns)"
      ],
      "metadata": {
        "colab": {
          "base_uri": "https://localhost:8080/"
        },
        "collapsed": true,
        "id": "suU3bJQGgaQN",
        "outputId": "8fffb491-11de-4f19-aa14-9e858123d846"
      },
      "execution_count": null,
      "outputs": [
        {
          "output_type": "stream",
          "name": "stdout",
          "text": [
            "First 10 rows of the dataset:\n",
            "   DestinationPort  FlowDuration  TotalFwdPackets  TotalBackwardPackets  \\\n",
            "0               22       1266342               41                    44   \n",
            "1               22       1319353               41                    44   \n",
            "2               22           160                1                     1   \n",
            "3               22       1303488               41                    42   \n",
            "4            35396            77                1                     2   \n",
            "5               22           244                1                     1   \n",
            "6               22       1307239               41                    40   \n",
            "7            60058            82                1                     2   \n",
            "8               22           171                1                     1   \n",
            "9               22           210                1                     1   \n",
            "\n",
            "   TotalLengthofFwdPackets  TotalLengthofBwdPackets  FwdPacketLengthMax  \\\n",
            "0                     2664                     6954                 456   \n",
            "1                     2664                     6954                 456   \n",
            "2                        0                        0                   0   \n",
            "3                     2728                     6634                 456   \n",
            "4                        0                        0                   0   \n",
            "5                        0                        0                   0   \n",
            "6                     2728                     6634                 456   \n",
            "7                        0                        0                   0   \n",
            "8                        0                        0                   0   \n",
            "9                        0                        0                   0   \n",
            "\n",
            "   FwdPacketLengthMin  FwdPacketLengthMean  FwdPacketLengthStd  ...  \\\n",
            "0                   0            64.975610          109.864573  ...   \n",
            "1                   0            64.975610          109.864573  ...   \n",
            "2                   0             0.000000            0.000000  ...   \n",
            "3                   0            66.536585          110.129945  ...   \n",
            "4                   0             0.000000            0.000000  ...   \n",
            "5                   0             0.000000            0.000000  ...   \n",
            "6                   0            66.536585          110.129945  ...   \n",
            "7                   0             0.000000            0.000000  ...   \n",
            "8                   0             0.000000            0.000000  ...   \n",
            "9                   0             0.000000            0.000000  ...   \n",
            "\n",
            "   min_seg_size_forward  ActiveMean  ActiveStd  ActiveMax  ActiveMin  \\\n",
            "0                    32         0.0        0.0          0          0   \n",
            "1                    32         0.0        0.0          0          0   \n",
            "2                    32         0.0        0.0          0          0   \n",
            "3                    32         0.0        0.0          0          0   \n",
            "4                    32         0.0        0.0          0          0   \n",
            "5                    32         0.0        0.0          0          0   \n",
            "6                    32         0.0        0.0          0          0   \n",
            "7                    32         0.0        0.0          0          0   \n",
            "8                    32         0.0        0.0          0          0   \n",
            "9                    32         0.0        0.0          0          0   \n",
            "\n",
            "   IdleMean  IdleStd  IdleMax  IdleMin   Label  \n",
            "0       0.0      0.0        0        0  BENIGN  \n",
            "1       0.0      0.0        0        0  BENIGN  \n",
            "2       0.0      0.0        0        0  BENIGN  \n",
            "3       0.0      0.0        0        0  BENIGN  \n",
            "4       0.0      0.0        0        0  BENIGN  \n",
            "5       0.0      0.0        0        0  BENIGN  \n",
            "6       0.0      0.0        0        0  BENIGN  \n",
            "7       0.0      0.0        0        0  BENIGN  \n",
            "8       0.0      0.0        0        0  BENIGN  \n",
            "9       0.0      0.0        0        0  BENIGN  \n",
            "\n",
            "[10 rows x 79 columns]\n"
          ]
        },
        {
          "output_type": "execute_result",
          "data": {
            "text/plain": [
              "79"
            ]
          },
          "metadata": {},
          "execution_count": 91
        }
      ]
    },
    {
      "cell_type": "code",
      "source": [
        "data.replace([np.inf, -np.inf], np.nan, inplace=True)\n",
        "data.dropna(inplace=True)"
      ],
      "metadata": {
        "id": "YLA-nygOghCu"
      },
      "execution_count": null,
      "outputs": []
    },
    {
      "cell_type": "code",
      "source": [
        "irrelevant_columns = [\n",
        "    'TotalLengthofFwdPackets', 'TotalLengthofBwdPackets', 'FwdPacketLengthMax',\n",
        "    'FwdPacketLengthMin', 'FwdPacketLengthMean', 'FwdPacketLengthStd',\n",
        "    'BwdPacketLengthMax', 'BwdPacketLengthMin', 'BwdPacketLengthMean',\n",
        "    'BwdPacketLengthStd', 'FwdIATTotal', 'FwdIATMean', 'FwdIATStd',\n",
        "    'FwdIATMax', 'FwdIATMin', 'BwdIATStd', 'MinPacketLength',\n",
        "    'MaxPacketLength', 'PacketLengthMean', 'PacketLengthStd',\n",
        "    'PacketLengthVariance', 'PSHFlagCount', 'URGFlagCount', 'CWEFlagCount',\n",
        "    'ECEFlagCount', 'Down/UpRatio', 'AveragePacketSize', 'AvgFwdSegmentSize',\n",
        "    'AvgBwdSegmentSize', 'FwdHeaderLength.1', 'FwdAvgBytes/Bulk',\n",
        "    'FwdAvgPackets/Bulk', 'FwdAvgBulkRate', 'BwdAvgBytes/Bulk',\n",
        "    'BwdAvgPackets/Bulk', 'BwdAvgBulkRate', 'SubflowFwdBytes',\n",
        "    'SubflowBwdBytes', 'act_data_pkt_fwd', 'min_seg_size_forward',\n",
        "    'ActiveMean', 'ActiveStd', 'ActiveMax', 'ActiveMin', 'IdleMean',\n",
        "    'IdleStd', 'IdleMax', 'IdleMin'\n",
        "]\n",
        "\n",
        "data = data.drop(columns=irrelevant_columns, errors='ignore')\n",
        "print(len(data.columns))\n"
      ],
      "metadata": {
        "colab": {
          "base_uri": "https://localhost:8080/"
        },
        "id": "8NKA9ANBPZMH",
        "outputId": "fe45cc09-603b-406a-a605-8d3d49109883"
      },
      "execution_count": null,
      "outputs": [
        {
          "output_type": "stream",
          "name": "stdout",
          "text": [
            "31\n"
          ]
        }
      ]
    },
    {
      "cell_type": "code",
      "source": [
        "len(data.columns)"
      ],
      "metadata": {
        "colab": {
          "base_uri": "https://localhost:8080/"
        },
        "id": "AIYrIly3PcMH",
        "outputId": "f6240ea1-1098-460a-9a77-40f134811802"
      },
      "execution_count": null,
      "outputs": [
        {
          "output_type": "execute_result",
          "data": {
            "text/plain": [
              "31"
            ]
          },
          "metadata": {},
          "execution_count": 94
        }
      ]
    },
    {
      "cell_type": "code",
      "source": [
        "begnin_count = data[data['Label'] == 'BENIGN'].shape[0]\n",
        "print(f\"Number of BENIGN samples: {begnin_count}\")\n",
        "\n",
        "portscan_count = data[data['Label'] == 'PortScan'].shape[0]\n",
        "print(f\"Number of PortScan samples: {portscan_count}\")\n"
      ],
      "metadata": {
        "colab": {
          "base_uri": "https://localhost:8080/"
        },
        "id": "1zF4SSxM26JQ",
        "outputId": "4e392b08-b19f-4424-c6a5-12293d56fd16"
      },
      "execution_count": null,
      "outputs": [
        {
          "output_type": "stream",
          "name": "stdout",
          "text": [
            "Number of BENIGN samples: 127292\n",
            "Number of PortScan samples: 158804\n"
          ]
        }
      ]
    },
    {
      "cell_type": "code",
      "source": [
        "from math import floor\n",
        "benign_samples = data[data['Label'] == 'BENIGN']\n",
        "percentage = 0.3\n",
        "malicious_samples = data[data['Label'] == 'PortScan'].sample(n=floor((begnin_count*percentage)/(1-percentage)), random_state=42)\n",
        "\n",
        "# Combine the sampled data\n",
        "data = pd.concat([benign_samples, malicious_samples])\n",
        "\n",
        "# Shuffle the data\n",
        "data = data.sample(frac=1, random_state=42).reset_index(drop=True)"
      ],
      "metadata": {
        "collapsed": true,
        "id": "WNUAQqo4gpQE"
      },
      "execution_count": null,
      "outputs": []
    },
    {
      "cell_type": "code",
      "source": [
        "\n",
        "\n",
        "print(data['Label'].value_counts())"
      ],
      "metadata": {
        "colab": {
          "base_uri": "https://localhost:8080/"
        },
        "id": "O7mn90MugtXf",
        "outputId": "a7347537-11cf-478b-b6d4-db5fc2e5c030"
      },
      "execution_count": null,
      "outputs": [
        {
          "output_type": "stream",
          "name": "stdout",
          "text": [
            "Label\n",
            "BENIGN      127292\n",
            "PortScan     54553\n",
            "Name: count, dtype: int64\n"
          ]
        }
      ]
    },
    {
      "cell_type": "code",
      "source": [
        "# Calculate the correlation matrix, ignoring non-numerical columns\n",
        "correlation_matrix = data.select_dtypes(include=[np.number]).corr()\n",
        "\n",
        "# Find highly correlated features (e.g., with correlation > 0.9)\n",
        "high_corr = correlation_matrix[correlation_matrix > 0.9]\n",
        "print(high_corr)\n"
      ],
      "metadata": {
        "colab": {
          "base_uri": "https://localhost:8080/"
        },
        "collapsed": true,
        "id": "l9BjigmEg3cz",
        "outputId": "ecde1db5-0484-43c7-b9c2-3c7ca97f314e"
      },
      "execution_count": null,
      "outputs": [
        {
          "output_type": "stream",
          "name": "stdout",
          "text": [
            "                         DestinationPort  FlowDuration  TotalFwdPackets  \\\n",
            "DestinationPort                      1.0           NaN              NaN   \n",
            "FlowDuration                         NaN      1.000000              NaN   \n",
            "TotalFwdPackets                      NaN           NaN         1.000000   \n",
            "TotalBackwardPackets                 NaN           NaN         0.962230   \n",
            "FlowBytes/s                          NaN           NaN              NaN   \n",
            "FlowPackets/s                        NaN           NaN              NaN   \n",
            "FlowIATMean                          NaN           NaN              NaN   \n",
            "FlowIATStd                           NaN           NaN              NaN   \n",
            "FlowIATMax                           NaN           NaN              NaN   \n",
            "FlowIATMin                           NaN           NaN              NaN   \n",
            "BwdIATTotal                          NaN      0.987826              NaN   \n",
            "BwdIATMean                           NaN           NaN              NaN   \n",
            "BwdIATMax                            NaN           NaN              NaN   \n",
            "BwdIATMin                            NaN           NaN              NaN   \n",
            "FwdPSHFlags                          NaN           NaN              NaN   \n",
            "BwdPSHFlags                          NaN           NaN              NaN   \n",
            "FwdURGFlags                          NaN           NaN              NaN   \n",
            "BwdURGFlags                          NaN           NaN              NaN   \n",
            "FwdHeaderLength                      NaN           NaN         0.963460   \n",
            "BwdHeaderLength                      NaN           NaN         0.919433   \n",
            "FwdPackets/s                         NaN           NaN              NaN   \n",
            "BwdPackets/s                         NaN           NaN              NaN   \n",
            "FINFlagCount                         NaN           NaN              NaN   \n",
            "SYNFlagCount                         NaN           NaN              NaN   \n",
            "RSTFlagCount                         NaN           NaN              NaN   \n",
            "ACKFlagCount                         NaN           NaN              NaN   \n",
            "SubflowFwdPackets                    NaN           NaN         1.000000   \n",
            "SubflowBwdPackets                    NaN           NaN         0.962230   \n",
            "Init_Win_bytes_forward               NaN           NaN              NaN   \n",
            "Init_Win_bytes_backward              NaN           NaN              NaN   \n",
            "\n",
            "                         TotalBackwardPackets  FlowBytes/s  FlowPackets/s  \\\n",
            "DestinationPort                           NaN          NaN            NaN   \n",
            "FlowDuration                              NaN          NaN            NaN   \n",
            "TotalFwdPackets                      0.962230          NaN            NaN   \n",
            "TotalBackwardPackets                 1.000000          NaN            NaN   \n",
            "FlowBytes/s                               NaN          1.0            NaN   \n",
            "FlowPackets/s                             NaN          NaN       1.000000   \n",
            "FlowIATMean                               NaN          NaN            NaN   \n",
            "FlowIATStd                                NaN          NaN            NaN   \n",
            "FlowIATMax                                NaN          NaN            NaN   \n",
            "FlowIATMin                                NaN          NaN            NaN   \n",
            "BwdIATTotal                               NaN          NaN            NaN   \n",
            "BwdIATMean                                NaN          NaN            NaN   \n",
            "BwdIATMax                                 NaN          NaN            NaN   \n",
            "BwdIATMin                                 NaN          NaN            NaN   \n",
            "FwdPSHFlags                               NaN          NaN            NaN   \n",
            "BwdPSHFlags                               NaN          NaN            NaN   \n",
            "FwdURGFlags                               NaN          NaN            NaN   \n",
            "BwdURGFlags                               NaN          NaN            NaN   \n",
            "FwdHeaderLength                      0.946475          NaN            NaN   \n",
            "BwdHeaderLength                      0.973327          NaN            NaN   \n",
            "FwdPackets/s                              NaN          NaN       0.955724   \n",
            "BwdPackets/s                              NaN          NaN            NaN   \n",
            "FINFlagCount                              NaN          NaN            NaN   \n",
            "SYNFlagCount                              NaN          NaN            NaN   \n",
            "RSTFlagCount                              NaN          NaN            NaN   \n",
            "ACKFlagCount                              NaN          NaN            NaN   \n",
            "SubflowFwdPackets                    0.962230          NaN            NaN   \n",
            "SubflowBwdPackets                    1.000000          NaN            NaN   \n",
            "Init_Win_bytes_forward                    NaN          NaN            NaN   \n",
            "Init_Win_bytes_backward                   NaN          NaN            NaN   \n",
            "\n",
            "                         FlowIATMean  FlowIATStd  FlowIATMax  FlowIATMin  ...  \\\n",
            "DestinationPort                  NaN         NaN         NaN         NaN  ...   \n",
            "FlowDuration                     NaN         NaN         NaN         NaN  ...   \n",
            "TotalFwdPackets                  NaN         NaN         NaN         NaN  ...   \n",
            "TotalBackwardPackets             NaN         NaN         NaN         NaN  ...   \n",
            "FlowBytes/s                      NaN         NaN         NaN         NaN  ...   \n",
            "FlowPackets/s                    NaN         NaN         NaN         NaN  ...   \n",
            "FlowIATMean                 1.000000    0.957461         NaN         NaN  ...   \n",
            "FlowIATStd                  0.957461    1.000000         NaN         NaN  ...   \n",
            "FlowIATMax                       NaN         NaN    1.000000         NaN  ...   \n",
            "FlowIATMin                       NaN         NaN         NaN         1.0  ...   \n",
            "BwdIATTotal                      NaN         NaN         NaN         NaN  ...   \n",
            "BwdIATMean                  0.947648    0.940267         NaN         NaN  ...   \n",
            "BwdIATMax                        NaN         NaN    0.956297         NaN  ...   \n",
            "BwdIATMin                        NaN         NaN         NaN         NaN  ...   \n",
            "FwdPSHFlags                      NaN         NaN         NaN         NaN  ...   \n",
            "BwdPSHFlags                      NaN         NaN         NaN         NaN  ...   \n",
            "FwdURGFlags                      NaN         NaN         NaN         NaN  ...   \n",
            "BwdURGFlags                      NaN         NaN         NaN         NaN  ...   \n",
            "FwdHeaderLength                  NaN         NaN         NaN         NaN  ...   \n",
            "BwdHeaderLength                  NaN         NaN         NaN         NaN  ...   \n",
            "FwdPackets/s                     NaN         NaN         NaN         NaN  ...   \n",
            "BwdPackets/s                     NaN         NaN         NaN         NaN  ...   \n",
            "FINFlagCount                     NaN         NaN         NaN         NaN  ...   \n",
            "SYNFlagCount                     NaN         NaN         NaN         NaN  ...   \n",
            "RSTFlagCount                     NaN         NaN         NaN         NaN  ...   \n",
            "ACKFlagCount                     NaN         NaN         NaN         NaN  ...   \n",
            "SubflowFwdPackets                NaN         NaN         NaN         NaN  ...   \n",
            "SubflowBwdPackets                NaN         NaN         NaN         NaN  ...   \n",
            "Init_Win_bytes_forward           NaN         NaN         NaN         NaN  ...   \n",
            "Init_Win_bytes_backward          NaN         NaN         NaN         NaN  ...   \n",
            "\n",
            "                         FwdPackets/s  BwdPackets/s  FINFlagCount  \\\n",
            "DestinationPort                   NaN           NaN           NaN   \n",
            "FlowDuration                      NaN           NaN           NaN   \n",
            "TotalFwdPackets                   NaN           NaN           NaN   \n",
            "TotalBackwardPackets              NaN           NaN           NaN   \n",
            "FlowBytes/s                       NaN           NaN           NaN   \n",
            "FlowPackets/s                0.955724           NaN           NaN   \n",
            "FlowIATMean                       NaN           NaN           NaN   \n",
            "FlowIATStd                        NaN           NaN           NaN   \n",
            "FlowIATMax                        NaN           NaN           NaN   \n",
            "FlowIATMin                        NaN           NaN           NaN   \n",
            "BwdIATTotal                       NaN           NaN           NaN   \n",
            "BwdIATMean                        NaN           NaN           NaN   \n",
            "BwdIATMax                         NaN           NaN           NaN   \n",
            "BwdIATMin                         NaN           NaN           NaN   \n",
            "FwdPSHFlags                       NaN           NaN           NaN   \n",
            "BwdPSHFlags                       NaN           NaN           NaN   \n",
            "FwdURGFlags                       NaN           NaN           NaN   \n",
            "BwdURGFlags                       NaN           NaN           NaN   \n",
            "FwdHeaderLength                   NaN           NaN           NaN   \n",
            "BwdHeaderLength                   NaN           NaN           NaN   \n",
            "FwdPackets/s                 1.000000           NaN           NaN   \n",
            "BwdPackets/s                      NaN           1.0           NaN   \n",
            "FINFlagCount                      NaN           NaN           1.0   \n",
            "SYNFlagCount                      NaN           NaN           NaN   \n",
            "RSTFlagCount                      NaN           NaN           NaN   \n",
            "ACKFlagCount                      NaN           NaN           NaN   \n",
            "SubflowFwdPackets                 NaN           NaN           NaN   \n",
            "SubflowBwdPackets                 NaN           NaN           NaN   \n",
            "Init_Win_bytes_forward            NaN           NaN           NaN   \n",
            "Init_Win_bytes_backward           NaN           NaN           NaN   \n",
            "\n",
            "                         SYNFlagCount  RSTFlagCount  ACKFlagCount  \\\n",
            "DestinationPort                   NaN           NaN           NaN   \n",
            "FlowDuration                      NaN           NaN           NaN   \n",
            "TotalFwdPackets                   NaN           NaN           NaN   \n",
            "TotalBackwardPackets              NaN           NaN           NaN   \n",
            "FlowBytes/s                       NaN           NaN           NaN   \n",
            "FlowPackets/s                     NaN           NaN           NaN   \n",
            "FlowIATMean                       NaN           NaN           NaN   \n",
            "FlowIATStd                        NaN           NaN           NaN   \n",
            "FlowIATMax                        NaN           NaN           NaN   \n",
            "FlowIATMin                        NaN           NaN           NaN   \n",
            "BwdIATTotal                       NaN           NaN           NaN   \n",
            "BwdIATMean                        NaN           NaN           NaN   \n",
            "BwdIATMax                         NaN           NaN           NaN   \n",
            "BwdIATMin                         NaN           NaN           NaN   \n",
            "FwdPSHFlags                       1.0           NaN           NaN   \n",
            "BwdPSHFlags                       NaN           NaN           NaN   \n",
            "FwdURGFlags                       NaN           NaN           NaN   \n",
            "BwdURGFlags                       NaN           NaN           NaN   \n",
            "FwdHeaderLength                   NaN           NaN           NaN   \n",
            "BwdHeaderLength                   NaN           NaN           NaN   \n",
            "FwdPackets/s                      NaN           NaN           NaN   \n",
            "BwdPackets/s                      NaN           NaN           NaN   \n",
            "FINFlagCount                      NaN           NaN           NaN   \n",
            "SYNFlagCount                      1.0           NaN           NaN   \n",
            "RSTFlagCount                      NaN           1.0           NaN   \n",
            "ACKFlagCount                      NaN           NaN           1.0   \n",
            "SubflowFwdPackets                 NaN           NaN           NaN   \n",
            "SubflowBwdPackets                 NaN           NaN           NaN   \n",
            "Init_Win_bytes_forward            NaN           NaN           NaN   \n",
            "Init_Win_bytes_backward           NaN           NaN           NaN   \n",
            "\n",
            "                         SubflowFwdPackets  SubflowBwdPackets  \\\n",
            "DestinationPort                        NaN                NaN   \n",
            "FlowDuration                           NaN                NaN   \n",
            "TotalFwdPackets                   1.000000           0.962230   \n",
            "TotalBackwardPackets              0.962230           1.000000   \n",
            "FlowBytes/s                            NaN                NaN   \n",
            "FlowPackets/s                          NaN                NaN   \n",
            "FlowIATMean                            NaN                NaN   \n",
            "FlowIATStd                             NaN                NaN   \n",
            "FlowIATMax                             NaN                NaN   \n",
            "FlowIATMin                             NaN                NaN   \n",
            "BwdIATTotal                            NaN                NaN   \n",
            "BwdIATMean                             NaN                NaN   \n",
            "BwdIATMax                              NaN                NaN   \n",
            "BwdIATMin                              NaN                NaN   \n",
            "FwdPSHFlags                            NaN                NaN   \n",
            "BwdPSHFlags                            NaN                NaN   \n",
            "FwdURGFlags                            NaN                NaN   \n",
            "BwdURGFlags                            NaN                NaN   \n",
            "FwdHeaderLength                   0.963460           0.946475   \n",
            "BwdHeaderLength                   0.919433           0.973327   \n",
            "FwdPackets/s                           NaN                NaN   \n",
            "BwdPackets/s                           NaN                NaN   \n",
            "FINFlagCount                           NaN                NaN   \n",
            "SYNFlagCount                           NaN                NaN   \n",
            "RSTFlagCount                           NaN                NaN   \n",
            "ACKFlagCount                           NaN                NaN   \n",
            "SubflowFwdPackets                 1.000000           0.962230   \n",
            "SubflowBwdPackets                 0.962230           1.000000   \n",
            "Init_Win_bytes_forward                 NaN                NaN   \n",
            "Init_Win_bytes_backward                NaN                NaN   \n",
            "\n",
            "                         Init_Win_bytes_forward  Init_Win_bytes_backward  \n",
            "DestinationPort                             NaN                      NaN  \n",
            "FlowDuration                                NaN                      NaN  \n",
            "TotalFwdPackets                             NaN                      NaN  \n",
            "TotalBackwardPackets                        NaN                      NaN  \n",
            "FlowBytes/s                                 NaN                      NaN  \n",
            "FlowPackets/s                               NaN                      NaN  \n",
            "FlowIATMean                                 NaN                      NaN  \n",
            "FlowIATStd                                  NaN                      NaN  \n",
            "FlowIATMax                                  NaN                      NaN  \n",
            "FlowIATMin                                  NaN                      NaN  \n",
            "BwdIATTotal                                 NaN                      NaN  \n",
            "BwdIATMean                                  NaN                      NaN  \n",
            "BwdIATMax                                   NaN                      NaN  \n",
            "BwdIATMin                                   NaN                      NaN  \n",
            "FwdPSHFlags                                 NaN                      NaN  \n",
            "BwdPSHFlags                                 NaN                      NaN  \n",
            "FwdURGFlags                                 NaN                      NaN  \n",
            "BwdURGFlags                                 NaN                      NaN  \n",
            "FwdHeaderLength                             NaN                      NaN  \n",
            "BwdHeaderLength                             NaN                      NaN  \n",
            "FwdPackets/s                                NaN                      NaN  \n",
            "BwdPackets/s                                NaN                      NaN  \n",
            "FINFlagCount                                NaN                      NaN  \n",
            "SYNFlagCount                                NaN                      NaN  \n",
            "RSTFlagCount                                NaN                      NaN  \n",
            "ACKFlagCount                                NaN                      NaN  \n",
            "SubflowFwdPackets                           NaN                      NaN  \n",
            "SubflowBwdPackets                           NaN                      NaN  \n",
            "Init_Win_bytes_forward                      1.0                      NaN  \n",
            "Init_Win_bytes_backward                     NaN                      1.0  \n",
            "\n",
            "[30 rows x 30 columns]\n"
          ]
        }
      ]
    },
    {
      "cell_type": "code",
      "source": [
        "from sklearn.model_selection import train_test_split\n",
        "X = data.drop('Label', axis=1)\n",
        "y = data['Label']\n",
        "X_train, X_test, y_train, y_test = train_test_split(X, y, test_size=0.2, random_state=42)\n",
        "print(f\"Training set size: {len(X_train)}, Test set size: {len(X_test)}\")\n"
      ],
      "metadata": {
        "colab": {
          "base_uri": "https://localhost:8080/"
        },
        "id": "fosDA6zphSNe",
        "outputId": "cf3e383a-f870-4bcd-8ea5-3fbaee4f6705"
      },
      "execution_count": null,
      "outputs": [
        {
          "output_type": "stream",
          "name": "stdout",
          "text": [
            "Training set size: 145476, Test set size: 36369\n"
          ]
        }
      ]
    },
    {
      "cell_type": "code",
      "source": [
        "# Separate features and labels\n",
        "features = data.drop('Label', axis=1)\n",
        "labels = data['Label']\n",
        "features.replace([np.inf, -np.inf], np.nan, inplace=True)\n",
        "features.dropna(inplace=True)\n",
        "features = features.select_dtypes(include=[float, int])\n",
        "len(features)"
      ],
      "metadata": {
        "colab": {
          "base_uri": "https://localhost:8080/"
        },
        "id": "OV6-1sLHhWmg",
        "outputId": "8b6af11b-056d-474c-fe4c-2044ba8f7cb5"
      },
      "execution_count": null,
      "outputs": [
        {
          "output_type": "execute_result",
          "data": {
            "text/plain": [
              "181845"
            ]
          },
          "metadata": {},
          "execution_count": 101
        }
      ]
    },
    {
      "cell_type": "code",
      "source": [
        "from sklearn.preprocessing import StandardScaler\n",
        "\n",
        "scaler = StandardScaler()\n",
        "features_scaled = scaler.fit_transform(features)"
      ],
      "metadata": {
        "id": "8wYXZyNqjMed"
      },
      "execution_count": null,
      "outputs": []
    },
    {
      "cell_type": "code",
      "source": [
        "from sklearn.preprocessing import LabelEncoder\n",
        "\n",
        "label_encoder = LabelEncoder()\n",
        "y_encoded = label_encoder.fit_transform(labels)"
      ],
      "metadata": {
        "id": "qiGKSpFfjXyH"
      },
      "execution_count": null,
      "outputs": []
    },
    {
      "cell_type": "code",
      "source": [
        "round(data.shape[0]*80/100)"
      ],
      "metadata": {
        "colab": {
          "base_uri": "https://localhost:8080/"
        },
        "id": "m_Ex4NE-jiNq",
        "outputId": "b3fcb6c3-5d8b-47b9-cfdf-e175e229069a"
      },
      "execution_count": null,
      "outputs": [
        {
          "output_type": "execute_result",
          "data": {
            "text/plain": [
              "145476"
            ]
          },
          "metadata": {},
          "execution_count": 104
        }
      ]
    },
    {
      "cell_type": "code",
      "source": [
        "missing_labels = np.isnan(y_encoded).sum()\n",
        "print(f\"Number of missing values in y_encoded: {missing_labels}\")"
      ],
      "metadata": {
        "colab": {
          "base_uri": "https://localhost:8080/"
        },
        "id": "jgj_Mt-OjjX6",
        "outputId": "1700f9c6-01df-484f-c5eb-27c6b8122bf7"
      },
      "execution_count": null,
      "outputs": [
        {
          "output_type": "stream",
          "name": "stdout",
          "text": [
            "Number of missing values in y_encoded: 0\n"
          ]
        }
      ]
    },
    {
      "cell_type": "code",
      "source": [
        "train_size = round(len(y_encoded) * 0.9)\n",
        "\n",
        "X_train = features_scaled[:train_size]\n",
        "X_test = features_scaled[train_size:]\n",
        "y_train = y_encoded[:train_size]\n",
        "y_test = y_encoded[train_size:]\n",
        "\n",
        "print(f\"Length of X_train: {len(X_train)}\")\n",
        "print(f\"Length of y_train: {len(y_train)}\")\n",
        "print(f\"Length of X_test: {len(X_test)}\")\n",
        "print(f\"Length of y_test: {len(y_test)}\")\n",
        "\n",
        "min_len = min(len(X_test), len(y_test))\n",
        "X_test = X_test[:min_len]\n",
        "y_test = y_test[:min_len]\n",
        "\n",
        "print(f\"Final Length of X_test: {len(X_test)}\")\n",
        "print(f\"Final Length of y_test: {len(y_test)}\")"
      ],
      "metadata": {
        "colab": {
          "base_uri": "https://localhost:8080/"
        },
        "id": "8Jb2jiqYjlVn",
        "outputId": "4728248b-f532-4b85-8a16-9844b42dc8ba"
      },
      "execution_count": null,
      "outputs": [
        {
          "output_type": "stream",
          "name": "stdout",
          "text": [
            "Length of X_train: 163660\n",
            "Length of y_train: 163660\n",
            "Length of X_test: 18185\n",
            "Length of y_test: 18185\n",
            "Final Length of X_test: 18185\n",
            "Final Length of y_test: 18185\n"
          ]
        }
      ]
    },
    {
      "cell_type": "code",
      "source": [
        "from sklearn.ensemble import IsolationForest\n",
        "from sklearn.metrics import accuracy_score, classification_report\n",
        "from sklearn.metrics import confusion_matrix\n",
        "\n",
        "import numpy as np\n",
        "\n",
        "# Train the Isolation Forest\n",
        "iso_forest = IsolationForest(n_estimators=100,contamination=0.3, random_state=42)\n",
        "iso_forest.fit(X_train)\n",
        "\n",
        "# Predict on the test set\n",
        "y_pred = iso_forest.predict(X_test)\n",
        "\n",
        "# Calculate and display the number of anomalies detected\n",
        "print(\"Number of anomalies detected:\", (y_pred == -1).sum())\n",
        "\n",
        "# Convert Isolation Forest output (-1 for anomalies, 1 for inliers) to binary classification (1 for anomalies, 0 for normal)\n",
        "iso_forest_predict = np.where(y_pred == -1, 1, 0)\n",
        "\n",
        "# Calculate accuracy\n",
        "accuracy = accuracy_score(y_test, iso_forest_predict)\n",
        "print(\"Accuracy in separating Outliers:\", accuracy)\n",
        "\n",
        "# Generate and display the classification report\n",
        "print(\"\\nClassification Report:\")\n",
        "print(classification_report(y_test, iso_forest_predict))\n",
        "\n",
        "# Display unique values and their counts\n",
        "unique_values, counts = np.unique(y_pred, return_counts=True)\n",
        "for value, count in zip(unique_values, counts):\n",
        "    print(f'Value: {value}, Count: {count}')\n",
        "\n",
        "# Generate confusion matrix\n",
        "conf_matrix = confusion_matrix(y_test, iso_forest_predict)\n",
        "print(\"\\nConfusion Matrix:\")\n",
        "print(conf_matrix)\n",
        "#0.1, reduce features 10%"
      ],
      "metadata": {
        "colab": {
          "base_uri": "https://localhost:8080/"
        },
        "id": "zfOR6zp1n4CD",
        "outputId": "f1746a4f-cf15-4ddd-966c-147b8687f0ee"
      },
      "execution_count": null,
      "outputs": [
        {
          "output_type": "stream",
          "name": "stdout",
          "text": [
            "Number of anomalies detected: 5435\n",
            "Accuracy in separating Outliers: 0.4151223535881221\n",
            "\n",
            "Classification Report:\n",
            "              precision    recall  f1-score   support\n",
            "\n",
            "           0       0.58      0.58      0.58     12670\n",
            "           1       0.03      0.03      0.03      5515\n",
            "\n",
            "    accuracy                           0.42     18185\n",
            "   macro avg       0.30      0.31      0.31     18185\n",
            "weighted avg       0.41      0.42      0.41     18185\n",
            "\n",
            "Value: -1, Count: 5435\n",
            "Value: 1, Count: 12750\n",
            "\n",
            "Confusion Matrix:\n",
            "[[7392 5278]\n",
            " [5358  157]]\n"
          ]
        }
      ]
    },
    {
      "cell_type": "code",
      "source": [
        "from sklearn.ensemble import IsolationForest\n",
        "from sklearn.metrics import accuracy_score, classification_report\n",
        "from sklearn.metrics import confusion_matrix\n",
        "\n",
        "import numpy as np\n",
        "\n",
        "# Train the Isolation Forest\n",
        "iso_forest = IsolationForest(n_estimators=300,contamination=0.3, random_state=42)\n",
        "iso_forest.fit(X_train)\n",
        "\n",
        "# Predict on the test set\n",
        "y_pred = iso_forest.predict(X_test)\n",
        "\n",
        "# Calculate and display the number of anomalies detected\n",
        "print(\"Number of anomalies detected:\", (y_pred == -1).sum())\n",
        "\n",
        "# Convert Isolation Forest output (-1 for anomalies, 1 for inliers) to binary classification (1 for anomalies, 0 for normal)\n",
        "iso_forest_predict = np.where(y_pred == -1, 1, 0)\n",
        "\n",
        "# Calculate accuracy\n",
        "accuracy = accuracy_score(y_test, iso_forest_predict)\n",
        "print(\"Accuracy in separating Outliers:\", accuracy)\n",
        "\n",
        "# Generate and display the classification report\n",
        "print(\"\\nClassification Report:\")\n",
        "print(classification_report(y_test, iso_forest_predict))\n",
        "\n",
        "# Display unique values and their counts\n",
        "unique_values, counts = np.unique(y_pred, return_counts=True)\n",
        "for value, count in zip(unique_values, counts):\n",
        "    print(f'Value: {value}, Count: {count}')\n",
        "\n",
        "# Generate confusion matrix\n",
        "conf_matrix = confusion_matrix(y_test, iso_forest_predict)\n",
        "print(\"\\nConfusion Matrix:\")\n",
        "print(conf_matrix)\n",
        "#0.1, reduce features 10%\n",
        "import matplotlib.pyplot as plt\n",
        "import seaborn as sns\n",
        "from sklearn.metrics import ConfusionMatrixDisplay\n",
        "\n",
        "# Plot confusion matrix\n",
        "def plot_confusion_matrix(cm, classes, title='Confusion Matrix', cmap=plt.cm.Blues):\n",
        "    \"\"\"\n",
        "    This function plots the confusion matrix.\n",
        "    \"\"\"\n",
        "    plt.figure(figsize=(8, 6))\n",
        "    sns.heatmap(cm, annot=True, fmt='d', cmap=cmap, xticklabels=classes, yticklabels=classes)\n",
        "    plt.title(title)\n",
        "    plt.ylabel('True label')\n",
        "    plt.xlabel('Predicted label')\n",
        "    plt.show()\n",
        "\n",
        "# Labels for the confusion matrix\n",
        "labels = ['Normal', 'Anomaly']\n",
        "\n",
        "# Call the function to plot\n",
        "plot_confusion_matrix(conf_matrix, classes=labels)\n"
      ],
      "metadata": {
        "colab": {
          "base_uri": "https://localhost:8080/",
          "height": 894
        },
        "id": "iar7K2H0ny-U",
        "outputId": "4515b1fe-6a7d-453c-f8ea-2a6dfa8dbe43"
      },
      "execution_count": null,
      "outputs": [
        {
          "output_type": "stream",
          "name": "stdout",
          "text": [
            "Number of anomalies detected: 5431\n",
            "Accuracy in separating Outliers: 0.4211712950233709\n",
            "\n",
            "Classification Report:\n",
            "              precision    recall  f1-score   support\n",
            "\n",
            "           0       0.58      0.59      0.59     12670\n",
            "           1       0.04      0.04      0.04      5515\n",
            "\n",
            "    accuracy                           0.42     18185\n",
            "   macro avg       0.31      0.31      0.31     18185\n",
            "weighted avg       0.42      0.42      0.42     18185\n",
            "\n",
            "Value: -1, Count: 5431\n",
            "Value: 1, Count: 12754\n",
            "\n",
            "Confusion Matrix:\n",
            "[[7449 5221]\n",
            " [5305  210]]\n"
          ]
        },
        {
          "output_type": "display_data",
          "data": {
            "text/plain": [
              "<Figure size 800x600 with 2 Axes>"
            ],
            "image/png": "[encoded data removed]"
          },
          "metadata": {}
        }
      ]
    },
    {
      "cell_type": "code",
      "source": [
        "from sklearn.ensemble import IsolationForest\n",
        "from sklearn.metrics import accuracy_score, classification_report\n",
        "from sklearn.metrics import confusion_matrix\n",
        "\n",
        "import numpy as np\n",
        "\n",
        "# Train the Isolation Forest\n",
        "iso_forest = IsolationForest(n_estimators=300,contamination=0.1, random_state=42)\n",
        "iso_forest.fit(X_train)\n",
        "\n",
        "# Predict on the test set\n",
        "y_pred = iso_forest.predict(X_test)\n",
        "\n",
        "# Calculate and display the number of anomalies detected\n",
        "print(\"Number of anomalies detected:\", (y_pred == -1).sum())\n",
        "\n",
        "# Convert Isolation Forest output (-1 for anomalies, 1 for inliers) to binary classification (1 for anomalies, 0 for normal)\n",
        "iso_forest_predict = np.where(y_pred == -1, 1, 0)\n",
        "\n",
        "# Calculate accuracy\n",
        "accuracy = accuracy_score(y_test, iso_forest_predict)\n",
        "print(\"Accuracy in separating Outliers:\", accuracy)\n",
        "\n",
        "# Generate and display the classification report\n",
        "print(\"\\nClassification Report:\")\n",
        "print(classification_report(y_test, iso_forest_predict))\n",
        "\n",
        "# Display unique values and their counts\n",
        "unique_values, counts = np.unique(y_pred, return_counts=True)\n",
        "for value, count in zip(unique_values, counts):\n",
        "    print(f'Value: {value}, Count: {count}')\n",
        "\n",
        "# Generate confusion matrix\n",
        "conf_matrix = confusion_matrix(y_test, iso_forest_predict)\n",
        "print(\"\\nConfusion Matrix:\")\n",
        "print(conf_matrix)\n",
        "#0.1, reduce features 10%"
      ],
      "metadata": {
        "colab": {
          "base_uri": "https://localhost:8080/"
        },
        "id": "IEeB61-ynn_J",
        "outputId": "73ecc95c-eea5-4f01-e344-ef38c80992d0"
      },
      "execution_count": null,
      "outputs": [
        {
          "output_type": "stream",
          "name": "stdout",
          "text": [
            "Number of anomalies detected: 1460\n",
            "Accuracy in separating Outliers: 0.7947394470762922\n",
            "\n",
            "Classification Report:\n",
            "              precision    recall  f1-score   support\n",
            "\n",
            "           0       0.89      0.89      0.89     12690\n",
            "           1       0.00      0.00      0.00      1453\n",
            "\n",
            "    accuracy                           0.79     14143\n",
            "   macro avg       0.44      0.44      0.44     14143\n",
            "weighted avg       0.80      0.79      0.79     14143\n",
            "\n",
            "Value: -1, Count: 1460\n",
            "Value: 1, Count: 12683\n",
            "\n",
            "Confusion Matrix:\n",
            "[[11235  1455]\n",
            " [ 1448     5]]\n"
          ]
        }
      ]
    },
    {
      "cell_type": "code",
      "source": [
        "from sklearn.ensemble import IsolationForest\n",
        "from sklearn.metrics import accuracy_score, classification_report\n",
        "from sklearn.metrics import confusion_matrix\n",
        "\n",
        "import numpy as np\n",
        "\n",
        "# Train the Isolation Forest\n",
        "iso_forest = IsolationForest(n_estimators=100,contamination=0.1, random_state=42)\n",
        "iso_forest.fit(X_train)\n",
        "\n",
        "# Predict on the test set\n",
        "y_pred = iso_forest.predict(X_test)\n",
        "\n",
        "# Calculate and display the number of anomalies detected\n",
        "print(\"Number of anomalies detected:\", (y_pred == -1).sum())\n",
        "\n",
        "# Convert Isolation Forest output (-1 for anomalies, 1 for inliers) to binary classification (1 for anomalies, 0 for normal)\n",
        "iso_forest_predict = np.where(y_pred == -1, 1, 0)\n",
        "\n",
        "# Calculate accuracy\n",
        "accuracy = accuracy_score(y_test, iso_forest_predict)\n",
        "print(\"Accuracy in separating Outliers:\", accuracy)\n",
        "\n",
        "# Generate and display the classification report\n",
        "print(\"\\nClassification Report:\")\n",
        "print(classification_report(y_test, iso_forest_predict))\n",
        "\n",
        "# Display unique values and their counts\n",
        "unique_values, counts = np.unique(y_pred, return_counts=True)\n",
        "for value, count in zip(unique_values, counts):\n",
        "    print(f'Value: {value}, Count: {count}')\n",
        "\n",
        "# Generate confusion matrix\n",
        "conf_matrix = confusion_matrix(y_test, iso_forest_predict)\n",
        "print(\"\\nConfusion Matrix:\")\n",
        "print(conf_matrix)\n",
        "#0.1, reduce features 10%"
      ],
      "metadata": {
        "colab": {
          "base_uri": "https://localhost:8080/"
        },
        "id": "zvLo55ApT2BZ",
        "outputId": "271ccdbb-731a-4b50-9c46-f378fb8a220a"
      },
      "execution_count": null,
      "outputs": [
        {
          "output_type": "stream",
          "name": "stdout",
          "text": [
            "Number of anomalies detected: 1343\n",
            "Accuracy in separating Outliers: 0.8034363289259705\n",
            "\n",
            "Classification Report:\n",
            "              precision    recall  f1-score   support\n",
            "\n",
            "           0       0.89      0.89      0.89     12690\n",
            "           1       0.01      0.01      0.01      1453\n",
            "\n",
            "    accuracy                           0.80     14143\n",
            "   macro avg       0.45      0.45      0.45     14143\n",
            "weighted avg       0.80      0.80      0.80     14143\n",
            "\n",
            "Value: -1, Count: 1343\n",
            "Value: 1, Count: 12800\n",
            "\n",
            "Confusion Matrix:\n",
            "[[11355  1335]\n",
            " [ 1445     8]]\n"
          ]
        }
      ]
    },
    {
      "cell_type": "code",
      "source": [
        "from sklearn.ensemble import IsolationForest\n",
        "from sklearn.metrics import accuracy_score, classification_report\n",
        "from sklearn.metrics import confusion_matrix\n",
        "\n",
        "import numpy as np\n",
        "\n",
        "# Train the Isolation Forest\n",
        "iso_forest = IsolationForest(n_estimators=300,contamination=0.2, random_state=42)\n",
        "iso_forest.fit(X_train)\n",
        "\n",
        "# Predict on the test set\n",
        "y_pred = iso_forest.predict(X_test)\n",
        "\n",
        "# Calculate and display the number of anomalies detected\n",
        "print(\"Number of anomalies detected:\", (y_pred == -1).sum())\n",
        "\n",
        "# Convert Isolation Forest output (-1 for anomalies, 1 for inliers) to binary classification (1 for anomalies, 0 for normal)\n",
        "iso_forest_predict = np.where(y_pred == -1, 1, 0)\n",
        "\n",
        "# Calculate accuracy\n",
        "accuracy = accuracy_score(y_test, iso_forest_predict)\n",
        "print(\"Accuracy in separating Outliers:\", accuracy)\n",
        "\n",
        "# Generate and display the classification report\n",
        "print(\"\\nClassification Report:\")\n",
        "print(classification_report(y_test, iso_forest_predict))\n",
        "\n",
        "# Display unique values and their counts\n",
        "unique_values, counts = np.unique(y_pred, return_counts=True)\n",
        "for value, count in zip(unique_values, counts):\n",
        "    print(f'Value: {value}, Count: {count}')\n",
        "\n",
        "# Generate confusion matrix\n",
        "conf_matrix = confusion_matrix(y_test, iso_forest_predict)\n",
        "print(\"\\nConfusion Matrix:\")\n",
        "print(conf_matrix)\n",
        "#0.2, reduce features 20%"
      ],
      "metadata": {
        "colab": {
          "base_uri": "https://localhost:8080/"
        },
        "id": "vGoG4cWwnWMI",
        "outputId": "bce700df-dee6-4d04-a58d-1f44077e9d81"
      },
      "execution_count": null,
      "outputs": [
        {
          "output_type": "stream",
          "name": "stdout",
          "text": [
            "Number of anomalies detected: 3170\n",
            "Accuracy in separating Outliers: 0.6012192822575577\n",
            "\n",
            "Classification Report:\n",
            "              precision    recall  f1-score   support\n",
            "\n",
            "           0       0.75      0.75      0.75     12652\n",
            "           1       0.01      0.01      0.01      3259\n",
            "\n",
            "    accuracy                           0.60     15911\n",
            "   macro avg       0.38      0.38      0.38     15911\n",
            "weighted avg       0.60      0.60      0.60     15911\n",
            "\n",
            "Value: -1, Count: 3170\n",
            "Value: 1, Count: 12741\n",
            "\n",
            "Confusion Matrix:\n",
            "[[9524 3128]\n",
            " [3217   42]]\n"
          ]
        }
      ]
    },
    {
      "cell_type": "code",
      "source": [
        "from sklearn.ensemble import IsolationForest\n",
        "from sklearn.metrics import accuracy_score, classification_report\n",
        "from sklearn.metrics import confusion_matrix\n",
        "\n",
        "import numpy as np\n",
        "\n",
        "# Train the Isolation Forest\n",
        "iso_forest = IsolationForest(n_estimators=100,contamination=0.2, random_state=42)\n",
        "iso_forest.fit(X_train)\n",
        "\n",
        "# Predict on the test set\n",
        "y_pred = iso_forest.predict(X_test)\n",
        "\n",
        "# Calculate and display the number of anomalies detected\n",
        "print(\"Number of anomalies detected:\", (y_pred == -1).sum())\n",
        "\n",
        "# Convert Isolation Forest output (-1 for anomalies, 1 for inliers) to binary classification (1 for anomalies, 0 for normal)\n",
        "iso_forest_predict = np.where(y_pred == -1, 1, 0)\n",
        "\n",
        "# Calculate accuracy\n",
        "accuracy = accuracy_score(y_test, iso_forest_predict)\n",
        "print(\"Accuracy in separating Outliers:\", accuracy)\n",
        "\n",
        "# Generate and display the classification report\n",
        "print(\"\\nClassification Report:\")\n",
        "print(classification_report(y_test, iso_forest_predict))\n",
        "\n",
        "# Display unique values and their counts\n",
        "unique_values, counts = np.unique(y_pred, return_counts=True)\n",
        "for value, count in zip(unique_values, counts):\n",
        "    print(f'Value: {value}, Count: {count}')\n",
        "\n",
        "# Generate confusion matrix\n",
        "conf_matrix = confusion_matrix(y_test, iso_forest_predict)\n",
        "print(\"\\nConfusion Matrix:\")\n",
        "print(conf_matrix)\n",
        "#0.2, reduce features 20%"
      ],
      "metadata": {
        "colab": {
          "base_uri": "https://localhost:8080/"
        },
        "id": "C7Y2nPDsT1qs",
        "outputId": "ff1f7cd0-ebc0-4fc1-a8b5-2f1e11510745"
      },
      "execution_count": null,
      "outputs": [
        {
          "output_type": "stream",
          "name": "stdout",
          "text": [
            "Number of anomalies detected: 3188\n",
            "Accuracy in separating Outliers: 0.599962290239457\n",
            "\n",
            "Classification Report:\n",
            "              precision    recall  f1-score   support\n",
            "\n",
            "           0       0.75      0.75      0.75     12652\n",
            "           1       0.01      0.01      0.01      3259\n",
            "\n",
            "    accuracy                           0.60     15911\n",
            "   macro avg       0.38      0.38      0.38     15911\n",
            "weighted avg       0.60      0.60      0.60     15911\n",
            "\n",
            "Value: -1, Count: 3188\n",
            "Value: 1, Count: 12723\n",
            "\n",
            "Confusion Matrix:\n",
            "[[9505 3147]\n",
            " [3218   41]]\n"
          ]
        }
      ]
    },
    {
      "cell_type": "code",
      "source": [
        "from sklearn.ensemble import IsolationForest\n",
        "from sklearn.metrics import accuracy_score, classification_report\n",
        "from sklearn.metrics import confusion_matrix\n",
        "\n",
        "import numpy as np\n",
        "\n",
        "# Train the Isolation Forest\n",
        "iso_forest = IsolationForest(n_estimators=100,contamination=0.3, random_state=42)\n",
        "iso_forest.fit(X_train)\n",
        "\n",
        "# Predict on the test set\n",
        "y_pred = iso_forest.predict(X_test)\n",
        "\n",
        "# Calculate and display the number of anomalies detected\n",
        "print(\"Number of anomalies detected:\", (y_pred == -1).sum())\n",
        "\n",
        "# Convert Isolation Forest output (-1 for anomalies, 1 for inliers) to binary classification (1 for anomalies, 0 for normal)\n",
        "iso_forest_predict = np.where(y_pred == -1, 1, 0)\n",
        "\n",
        "# Calculate accuracy\n",
        "accuracy = accuracy_score(y_test, iso_forest_predict)\n",
        "print(\"Accuracy in separating Outliers:\", accuracy)\n",
        "\n",
        "# Generate and display the classification report\n",
        "print(\"\\nClassification Report:\")\n",
        "print(classification_report(y_test, iso_forest_predict))\n",
        "\n",
        "# Display unique values and their counts\n",
        "unique_values, counts = np.unique(y_pred, return_counts=True)\n",
        "for value, count in zip(unique_values, counts):\n",
        "    print(f'Value: {value}, Count: {count}')\n",
        "\n",
        "# Generate confusion matrix\n",
        "conf_matrix = confusion_matrix(y_test, iso_forest_predict)\n",
        "print(\"\\nConfusion Matrix:\")\n",
        "print(conf_matrix)\n",
        "#0.3, reduce features 30%"
      ],
      "metadata": {
        "colab": {
          "base_uri": "https://localhost:8080/"
        },
        "id": "mP2nlhCoSqWb",
        "outputId": "141f1744-36d6-415c-c82b-dfc1032c3679"
      },
      "execution_count": null,
      "outputs": [
        {
          "output_type": "stream",
          "name": "stdout",
          "text": [
            "Number of anomalies detected: 5435\n",
            "Accuracy in separating Outliers: 0.4151223535881221\n",
            "\n",
            "Classification Report:\n",
            "              precision    recall  f1-score   support\n",
            "\n",
            "           0       0.58      0.58      0.58     12670\n",
            "           1       0.03      0.03      0.03      5515\n",
            "\n",
            "    accuracy                           0.42     18185\n",
            "   macro avg       0.30      0.31      0.31     18185\n",
            "weighted avg       0.41      0.42      0.41     18185\n",
            "\n",
            "Value: -1, Count: 5435\n",
            "Value: 1, Count: 12750\n",
            "\n",
            "Confusion Matrix:\n",
            "[[7392 5278]\n",
            " [5358  157]]\n"
          ]
        }
      ]
    },
    {
      "cell_type": "code",
      "source": [
        "from sklearn.ensemble import IsolationForest\n",
        "from sklearn.metrics import accuracy_score, classification_report\n",
        "from sklearn.metrics import confusion_matrix\n",
        "\n",
        "import numpy as np\n",
        "\n",
        "# Train the Isolation Forest\n",
        "iso_forest = IsolationForest(n_estimators=100,contamination=0.2, random_state=42)\n",
        "iso_forest.fit(X_train)\n",
        "\n",
        "# Predict on the test set\n",
        "y_pred = iso_forest.predict(X_test)\n",
        "\n",
        "# Calculate and display the number of anomalies detected\n",
        "print(\"Number of anomalies detected:\", (y_pred == -1).sum())\n",
        "\n",
        "# Convert Isolation Forest output (-1 for anomalies, 1 for inliers) to binary classification (1 for anomalies, 0 for normal)\n",
        "iso_forest_predict = np.where(y_pred == -1, 1, 0)\n",
        "\n",
        "# Calculate accuracy\n",
        "accuracy = accuracy_score(y_test, iso_forest_predict)\n",
        "print(\"Accuracy in separating Outliers:\", accuracy)\n",
        "\n",
        "# Generate and display the classification report\n",
        "print(\"\\nClassification Report:\")\n",
        "print(classification_report(y_test, iso_forest_predict))\n",
        "\n",
        "# Display unique values and their counts\n",
        "unique_values, counts = np.unique(y_pred, return_counts=True)\n",
        "for value, count in zip(unique_values, counts):\n",
        "    print(f'Value: {value}, Count: {count}')\n",
        "\n",
        "# Generate confusion matrix\n",
        "conf_matrix = confusion_matrix(y_test, iso_forest_predict)\n",
        "print(\"\\nConfusion Matrix:\")\n",
        "print(conf_matrix)\n",
        "#0.2, reduce features"
      ],
      "metadata": {
        "colab": {
          "base_uri": "https://localhost:8080/"
        },
        "id": "Sb0Tx6hSSGSn",
        "outputId": "da8d1bad-6b3f-4f0e-ce79-3f2884bf26e2"
      },
      "execution_count": null,
      "outputs": [
        {
          "output_type": "stream",
          "name": "stdout",
          "text": [
            "Number of anomalies detected: 3188\n",
            "Accuracy in separating Outliers: 0.599962290239457\n",
            "\n",
            "Classification Report:\n",
            "              precision    recall  f1-score   support\n",
            "\n",
            "           0       0.75      0.75      0.75     12652\n",
            "           1       0.01      0.01      0.01      3259\n",
            "\n",
            "    accuracy                           0.60     15911\n",
            "   macro avg       0.38      0.38      0.38     15911\n",
            "weighted avg       0.60      0.60      0.60     15911\n",
            "\n",
            "Value: -1, Count: 3188\n",
            "Value: 1, Count: 12723\n",
            "\n",
            "Confusion Matrix:\n",
            "[[9505 3147]\n",
            " [3218   41]]\n"
          ]
        }
      ]
    },
    {
      "cell_type": "code",
      "source": [
        "import matplotlib.pyplot as plt\n",
        "import seaborn as sns\n",
        "from sklearn.metrics import ConfusionMatrixDisplay\n",
        "\n",
        "# Plot confusion matrix\n",
        "def plot_confusion_matrix(cm, classes, title='Confusion Matrix', cmap=plt.cm.Blues):\n",
        "    \"\"\"\n",
        "    This function plots the confusion matrix.\n",
        "    \"\"\"\n",
        "    plt.figure(figsize=(8, 6))\n",
        "    sns.heatmap(cm, annot=True, fmt='d', cmap=cmap, xticklabels=classes, yticklabels=classes)\n",
        "    plt.title(title)\n",
        "    plt.ylabel('True label')\n",
        "    plt.xlabel('Predicted label')\n",
        "    plt.show()\n",
        "\n",
        "# Labels for the confusion matrix\n",
        "labels = ['Normal', 'Anomaly']\n",
        "\n",
        "# Call the function to plot\n",
        "plot_confusion_matrix(conf_matrix, classes=labels)\n"
      ],
      "metadata": {
        "id": "TZpJssDujnFh",
        "colab": {
          "base_uri": "https://localhost:8080/",
          "height": 564
        },
        "outputId": "e3079866-780f-4c5d-d5ac-a8be869934c0"
      },
      "execution_count": null,
      "outputs": [
        {
          "output_type": "display_data",
          "data": {
            "text/plain": [
              "<Figure size 800x600 with 2 Axes>"
            ],
            "image/png": "[encoded data removed]"
          },
          "metadata": {}
        }
      ]
    },
    {
      "cell_type": "code",
      "source": [],
      "metadata": {
        "id": "W4GEcXY8p8r6"
      },
      "execution_count": null,
      "outputs": []
    }
  ]
}