{
  "nbformat": 4,
  "nbformat_minor": 0,
  "metadata": {
    "colab": {
      "provenance": []
    },
    "kernelspec": {
      "name": "python3",
      "display_name": "Python 3"
    },
    "language_info": {
      "name": "python"
    }
  },
  "cells": [
    {
      "cell_type": "markdown",
      "source": [
        "Isolation Forest"
      ],
      "metadata": {
        "id": "0sx1CJ4De2_e"
      }
    },
    {
      "cell_type": "code",
      "execution_count": null,
      "metadata": {
        "id": "c4ecjNTpezxc"
      },
      "outputs": [],
      "source": [
        "# Import necessary libraries\n",
        "import pandas as pd\n",
        "import numpy as np"
      ]
    },
    {
      "cell_type": "code",
      "source": [
        "from google.colab import drive\n",
        "drive.mount('/content/drive')"
      ],
      "metadata": {
        "colab": {
          "base_uri": "https://localhost:8080/"
        },
        "id": "qKvOzACifCJI",
        "outputId": "df0e4079-92b1-403a-9d72-a75c34dca35e"
      },
      "execution_count": null,
      "outputs": [
        {
          "output_type": "stream",
          "name": "stdout",
          "text": [
            "Drive already mounted at /content/drive; to attempt to forcibly remount, call drive.mount(\"/content/drive\", force_remount=True).\n"
          ]
        }
      ]
    },
    {
      "cell_type": "code",
      "source": [
        "# Load the dataset\n",
        "file_path = '/content/drive/MyDrive/Friday-WorkingHours-Afternoon-PortScan.pcap_ISCX.csv'\n",
        "data = pd.read_csv(file_path)\n"
      ],
      "metadata": {
        "id": "vMXpqqNAe5Vu"
      },
      "execution_count": null,
      "outputs": []
    },
    {
      "cell_type": "code",
      "source": [
        "# Clean column names by removing extra spaces\n",
        "data.columns = data.columns.str.replace(' ', '')\n",
        "print(data.columns)"
      ],
      "metadata": {
        "colab": {
          "base_uri": "https://localhost:8080/"
        },
        "collapsed": true,
        "id": "eKkli76Ue-4M",
        "outputId": "e9828323-c5cd-4fcd-9338-524564fa448f"
      },
      "execution_count": null,
      "outputs": [
        {
          "output_type": "stream",
          "name": "stdout",
          "text": [
            "Index(['DestinationPort', 'FlowDuration', 'TotalFwdPackets',\n",
            "       'TotalBackwardPackets', 'TotalLengthofFwdPackets',\n",
            "       'TotalLengthofBwdPackets', 'FwdPacketLengthMax', 'FwdPacketLengthMin',\n",
            "       'FwdPacketLengthMean', 'FwdPacketLengthStd', 'BwdPacketLengthMax',\n",
            "       'BwdPacketLengthMin', 'BwdPacketLengthMean', 'BwdPacketLengthStd',\n",
            "       'FlowBytes/s', 'FlowPackets/s', 'FlowIATMean', 'FlowIATStd',\n",
            "       'FlowIATMax', 'FlowIATMin', 'FwdIATTotal', 'FwdIATMean', 'FwdIATStd',\n",
            "       'FwdIATMax', 'FwdIATMin', 'BwdIATTotal', 'BwdIATMean', 'BwdIATStd',\n",
            "       'BwdIATMax', 'BwdIATMin', 'FwdPSHFlags', 'BwdPSHFlags', 'FwdURGFlags',\n",
            "       'BwdURGFlags', 'FwdHeaderLength', 'BwdHeaderLength', 'FwdPackets/s',\n",
            "       'BwdPackets/s', 'MinPacketLength', 'MaxPacketLength',\n",
            "       'PacketLengthMean', 'PacketLengthStd', 'PacketLengthVariance',\n",
            "       'FINFlagCount', 'SYNFlagCount', 'RSTFlagCount', 'PSHFlagCount',\n",
            "       'ACKFlagCount', 'URGFlagCount', 'CWEFlagCount', 'ECEFlagCount',\n",
            "       'Down/UpRatio', 'AveragePacketSize', 'AvgFwdSegmentSize',\n",
            "       'AvgBwdSegmentSize', 'FwdHeaderLength.1', 'FwdAvgBytes/Bulk',\n",
            "       'FwdAvgPackets/Bulk', 'FwdAvgBulkRate', 'BwdAvgBytes/Bulk',\n",
            "       'BwdAvgPackets/Bulk', 'BwdAvgBulkRate', 'SubflowFwdPackets',\n",
            "       'SubflowFwdBytes', 'SubflowBwdPackets', 'SubflowBwdBytes',\n",
            "       'Init_Win_bytes_forward', 'Init_Win_bytes_backward', 'act_data_pkt_fwd',\n",
            "       'min_seg_size_forward', 'ActiveMean', 'ActiveStd', 'ActiveMax',\n",
            "       'ActiveMin', 'IdleMean', 'IdleStd', 'IdleMax', 'IdleMin', 'Label'],\n",
            "      dtype='object')\n"
          ]
        }
      ]
    },
    {
      "cell_type": "code",
      "source": [
        "data.replace([np.inf, -np.inf], np.nan, inplace=True)\n",
        "data.dropna(inplace=True)\n",
        "\n",
        "# Display the first 10 rows of the dataset\n",
        "print(\"First 10 rows of the dataset:\")\n",
        "print(data.head(10))\n"
      ],
      "metadata": {
        "colab": {
          "base_uri": "https://localhost:8080/"
        },
        "collapsed": true,
        "id": "suU3bJQGgaQN",
        "outputId": "1f6e3c5e-8469-43f9-bf94-37e58c81a298"
      },
      "execution_count": null,
      "outputs": [
        {
          "output_type": "stream",
          "name": "stdout",
          "text": [
            "First 10 rows of the dataset:\n",
            "   DestinationPort  FlowDuration  TotalFwdPackets  TotalBackwardPackets  \\\n",
            "0               22       1266342               41                    44   \n",
            "1               22       1319353               41                    44   \n",
            "2               22           160                1                     1   \n",
            "3               22       1303488               41                    42   \n",
            "4            35396            77                1                     2   \n",
            "5               22           244                1                     1   \n",
            "6               22       1307239               41                    40   \n",
            "7            60058            82                1                     2   \n",
            "8               22           171                1                     1   \n",
            "9               22           210                1                     1   \n",
            "\n",
            "   TotalLengthofFwdPackets  TotalLengthofBwdPackets  FwdPacketLengthMax  \\\n",
            "0                     2664                     6954                 456   \n",
            "1                     2664                     6954                 456   \n",
            "2                        0                        0                   0   \n",
            "3                     2728                     6634                 456   \n",
            "4                        0                        0                   0   \n",
            "5                        0                        0                   0   \n",
            "6                     2728                     6634                 456   \n",
            "7                        0                        0                   0   \n",
            "8                        0                        0                   0   \n",
            "9                        0                        0                   0   \n",
            "\n",
            "   FwdPacketLengthMin  FwdPacketLengthMean  FwdPacketLengthStd  ...  \\\n",
            "0                   0            64.975610          109.864573  ...   \n",
            "1                   0            64.975610          109.864573  ...   \n",
            "2                   0             0.000000            0.000000  ...   \n",
            "3                   0            66.536585          110.129945  ...   \n",
            "4                   0             0.000000            0.000000  ...   \n",
            "5                   0             0.000000            0.000000  ...   \n",
            "6                   0            66.536585          110.129945  ...   \n",
            "7                   0             0.000000            0.000000  ...   \n",
            "8                   0             0.000000            0.000000  ...   \n",
            "9                   0             0.000000            0.000000  ...   \n",
            "\n",
            "   min_seg_size_forward  ActiveMean  ActiveStd  ActiveMax  ActiveMin  \\\n",
            "0                    32         0.0        0.0          0          0   \n",
            "1                    32         0.0        0.0          0          0   \n",
            "2                    32         0.0        0.0          0          0   \n",
            "3                    32         0.0        0.0          0          0   \n",
            "4                    32         0.0        0.0          0          0   \n",
            "5                    32         0.0        0.0          0          0   \n",
            "6                    32         0.0        0.0          0          0   \n",
            "7                    32         0.0        0.0          0          0   \n",
            "8                    32         0.0        0.0          0          0   \n",
            "9                    32         0.0        0.0          0          0   \n",
            "\n",
            "   IdleMean  IdleStd  IdleMax  IdleMin   Label  \n",
            "0       0.0      0.0        0        0  BENIGN  \n",
            "1       0.0      0.0        0        0  BENIGN  \n",
            "2       0.0      0.0        0        0  BENIGN  \n",
            "3       0.0      0.0        0        0  BENIGN  \n",
            "4       0.0      0.0        0        0  BENIGN  \n",
            "5       0.0      0.0        0        0  BENIGN  \n",
            "6       0.0      0.0        0        0  BENIGN  \n",
            "7       0.0      0.0        0        0  BENIGN  \n",
            "8       0.0      0.0        0        0  BENIGN  \n",
            "9       0.0      0.0        0        0  BENIGN  \n",
            "\n",
            "[10 rows x 79 columns]\n"
          ]
        }
      ]
    },
    {
      "cell_type": "code",
      "source": [
        "data.replace([np.inf, -np.inf], np.nan, inplace=True)\n",
        "data.dropna(inplace=True)"
      ],
      "metadata": {
        "id": "YLA-nygOghCu"
      },
      "execution_count": null,
      "outputs": []
    },
    {
      "cell_type": "code",
      "source": [
        "irrelevant_columns = [\n",
        "    'TotalLengthofFwdPackets', 'TotalLengthofBwdPackets', 'FwdPacketLengthMax',\n",
        "    'FwdPacketLengthMin', 'FwdPacketLengthMean', 'FwdPacketLengthStd',\n",
        "    'BwdPacketLengthMax', 'BwdPacketLengthMin', 'BwdPacketLengthMean',\n",
        "    'BwdPacketLengthStd', 'FwdIATTotal', 'FwdIATMean', 'FwdIATStd',\n",
        "    'FwdIATMax', 'FwdIATMin', 'BwdIATStd', 'MinPacketLength',\n",
        "    'MaxPacketLength', 'PacketLengthMean', 'PacketLengthStd',\n",
        "    'PacketLengthVariance', 'PSHFlagCount', 'URGFlagCount', 'CWEFlagCount',\n",
        "    'ECEFlagCount', 'Down/UpRatio', 'AveragePacketSize', 'AvgFwdSegmentSize',\n",
        "    'AvgBwdSegmentSize', 'FwdHeaderLength.1', 'FwdAvgBytes/Bulk',\n",
        "    'FwdAvgPackets/Bulk', 'FwdAvgBulkRate', 'BwdAvgBytes/Bulk',\n",
        "    'BwdAvgPackets/Bulk', 'BwdAvgBulkRate', 'SubflowFwdBytes',\n",
        "    'SubflowBwdBytes', 'act_data_pkt_fwd', 'min_seg_size_forward',\n",
        "    'ActiveMean', 'ActiveStd', 'ActiveMax', 'ActiveMin', 'IdleMean',\n",
        "    'IdleStd', 'IdleMax', 'IdleMin'\n",
        "]\n",
        "\n",
        "data = data.drop(columns=irrelevant_columns, errors='ignore')\n",
        "print(data.columns)\n"
      ],
      "metadata": {
        "colab": {
          "base_uri": "https://localhost:8080/"
        },
        "id": "44DhHWNfcI2M",
        "outputId": "09c22126-109d-4aec-939a-e21b69e900e1"
      },
      "execution_count": null,
      "outputs": [
        {
          "output_type": "stream",
          "name": "stdout",
          "text": [
            "Index(['DestinationPort', 'FlowDuration', 'TotalFwdPackets',\n",
            "       'TotalBackwardPackets', 'FlowBytes/s', 'FlowPackets/s', 'FlowIATMean',\n",
            "       'FlowIATStd', 'FlowIATMax', 'FlowIATMin', 'BwdIATTotal', 'BwdIATMean',\n",
            "       'BwdIATMax', 'BwdIATMin', 'FwdPSHFlags', 'BwdPSHFlags', 'FwdURGFlags',\n",
            "       'BwdURGFlags', 'FwdHeaderLength', 'BwdHeaderLength', 'FwdPackets/s',\n",
            "       'BwdPackets/s', 'FINFlagCount', 'SYNFlagCount', 'RSTFlagCount',\n",
            "       'ACKFlagCount', 'SubflowFwdPackets', 'SubflowBwdPackets',\n",
            "       'Init_Win_bytes_forward', 'Init_Win_bytes_backward', 'Label'],\n",
            "      dtype='object')\n"
          ]
        }
      ]
    },
    {
      "cell_type": "code",
      "source": [
        "begnin_count = data[data['Label'] == 'BENIGN'].shape[0]\n",
        "print(f\"Number of BENIGN samples: {begnin_count}\")\n",
        "\n",
        "portscan_count = data[data['Label'] == 'PortScan'].shape[0]\n",
        "print(f\"Number of PortScan samples: {portscan_count}\")\n"
      ],
      "metadata": {
        "colab": {
          "base_uri": "https://localhost:8080/"
        },
        "id": "BFIeHmoLVRnK",
        "outputId": "18d0cefd-2144-46c8-e55f-0f58ca94eb2e"
      },
      "execution_count": null,
      "outputs": [
        {
          "output_type": "stream",
          "name": "stdout",
          "text": [
            "Number of BENIGN samples: 127292\n",
            "Number of PortScan samples: 158804\n"
          ]
        }
      ]
    },
    {
      "cell_type": "code",
      "source": [
        "from math import floor\n",
        "benign_samples = data[data['Label'] == 'BENIGN']\n",
        "percentage = 0.3\n",
        "malicious_samples = data[data['Label'] == 'PortScan'].sample(n=floor((begnin_count*percentage)/(1-percentage)), random_state=42)\n",
        "\n",
        "# Combine the sampled data\n",
        "data = pd.concat([benign_samples, malicious_samples])\n",
        "\n",
        "# Shuffle the data\n",
        "data = data.sample(frac=1, random_state=42).reset_index(drop=True)"
      ],
      "metadata": {
        "collapsed": true,
        "id": "WNUAQqo4gpQE"
      },
      "execution_count": null,
      "outputs": []
    },
    {
      "cell_type": "code",
      "source": [
        "\n",
        "print(data['Label'].value_counts())"
      ],
      "metadata": {
        "colab": {
          "base_uri": "https://localhost:8080/"
        },
        "id": "O7mn90MugtXf",
        "outputId": "ab9fc2ff-3c61-412a-be5f-6b0dfb3438ba"
      },
      "execution_count": null,
      "outputs": [
        {
          "output_type": "stream",
          "name": "stdout",
          "text": [
            "Label\n",
            "BENIGN      127292\n",
            "PortScan     54553\n",
            "Name: count, dtype: int64\n"
          ]
        }
      ]
    },
    {
      "cell_type": "code",
      "source": [
        "# Calculate the correlation matrix, ignoring non-numerical columns\n",
        "correlation_matrix = data.select_dtypes(include=[np.number]).corr()\n",
        "\n",
        "# Find highly correlated features (e.g., with correlation > 0.9)\n",
        "high_corr = correlation_matrix[correlation_matrix > 0.9]\n",
        "print(high_corr)\n"
      ],
      "metadata": {
        "colab": {
          "base_uri": "https://localhost:8080/"
        },
        "collapsed": true,
        "id": "l9BjigmEg3cz",
        "outputId": "54927e83-3dfa-46d1-b6d1-458bf361becf"
      },
      "execution_count": null,
      "outputs": [
        {
          "output_type": "stream",
          "name": "stdout",
          "text": [
            "                         DestinationPort  FlowDuration  TotalFwdPackets  \\\n",
            "DestinationPort                      1.0           NaN              NaN   \n",
            "FlowDuration                         NaN      1.000000              NaN   \n",
            "TotalFwdPackets                      NaN           NaN         1.000000   \n",
            "TotalBackwardPackets                 NaN           NaN         0.962230   \n",
            "FlowBytes/s                          NaN           NaN              NaN   \n",
            "FlowPackets/s                        NaN           NaN              NaN   \n",
            "FlowIATMean                          NaN           NaN              NaN   \n",
            "FlowIATStd                           NaN           NaN              NaN   \n",
            "FlowIATMax                           NaN           NaN              NaN   \n",
            "FlowIATMin                           NaN           NaN              NaN   \n",
            "BwdIATTotal                          NaN      0.987826              NaN   \n",
            "BwdIATMean                           NaN           NaN              NaN   \n",
            "BwdIATMax                            NaN           NaN              NaN   \n",
            "BwdIATMin                            NaN           NaN              NaN   \n",
            "FwdPSHFlags                          NaN           NaN              NaN   \n",
            "BwdPSHFlags                          NaN           NaN              NaN   \n",
            "FwdURGFlags                          NaN           NaN              NaN   \n",
            "BwdURGFlags                          NaN           NaN              NaN   \n",
            "FwdHeaderLength                      NaN           NaN         0.963460   \n",
            "BwdHeaderLength                      NaN           NaN         0.919433   \n",
            "FwdPackets/s                         NaN           NaN              NaN   \n",
            "BwdPackets/s                         NaN           NaN              NaN   \n",
            "FINFlagCount                         NaN           NaN              NaN   \n",
            "SYNFlagCount                         NaN           NaN              NaN   \n",
            "RSTFlagCount                         NaN           NaN              NaN   \n",
            "ACKFlagCount                         NaN           NaN              NaN   \n",
            "SubflowFwdPackets                    NaN           NaN         1.000000   \n",
            "SubflowBwdPackets                    NaN           NaN         0.962230   \n",
            "Init_Win_bytes_forward               NaN           NaN              NaN   \n",
            "Init_Win_bytes_backward              NaN           NaN              NaN   \n",
            "\n",
            "                         TotalBackwardPackets  FlowBytes/s  FlowPackets/s  \\\n",
            "DestinationPort                           NaN          NaN            NaN   \n",
            "FlowDuration                              NaN          NaN            NaN   \n",
            "TotalFwdPackets                      0.962230          NaN            NaN   \n",
            "TotalBackwardPackets                 1.000000          NaN            NaN   \n",
            "FlowBytes/s                               NaN          1.0            NaN   \n",
            "FlowPackets/s                             NaN          NaN       1.000000   \n",
            "FlowIATMean                               NaN          NaN            NaN   \n",
            "FlowIATStd                                NaN          NaN            NaN   \n",
            "FlowIATMax                                NaN          NaN            NaN   \n",
            "FlowIATMin                                NaN          NaN            NaN   \n",
            "BwdIATTotal                               NaN          NaN            NaN   \n",
            "BwdIATMean                                NaN          NaN            NaN   \n",
            "BwdIATMax                                 NaN          NaN            NaN   \n",
            "BwdIATMin                                 NaN          NaN            NaN   \n",
            "FwdPSHFlags                               NaN          NaN            NaN   \n",
            "BwdPSHFlags                               NaN          NaN            NaN   \n",
            "FwdURGFlags                               NaN          NaN            NaN   \n",
            "BwdURGFlags                               NaN          NaN            NaN   \n",
            "FwdHeaderLength                      0.946475          NaN            NaN   \n",
            "BwdHeaderLength                      0.973327          NaN            NaN   \n",
            "FwdPackets/s                              NaN          NaN       0.955724   \n",
            "BwdPackets/s                              NaN          NaN            NaN   \n",
            "FINFlagCount                              NaN          NaN            NaN   \n",
            "SYNFlagCount                              NaN          NaN            NaN   \n",
            "RSTFlagCount                              NaN          NaN            NaN   \n",
            "ACKFlagCount                              NaN          NaN            NaN   \n",
            "SubflowFwdPackets                    0.962230          NaN            NaN   \n",
            "SubflowBwdPackets                    1.000000          NaN            NaN   \n",
            "Init_Win_bytes_forward                    NaN          NaN            NaN   \n",
            "Init_Win_bytes_backward                   NaN          NaN            NaN   \n",
            "\n",
            "                         FlowIATMean  FlowIATStd  FlowIATMax  FlowIATMin  ...  \\\n",
            "DestinationPort                  NaN         NaN         NaN         NaN  ...   \n",
            "FlowDuration                     NaN         NaN         NaN         NaN  ...   \n",
            "TotalFwdPackets                  NaN         NaN         NaN         NaN  ...   \n",
            "TotalBackwardPackets             NaN         NaN         NaN         NaN  ...   \n",
            "FlowBytes/s                      NaN         NaN         NaN         NaN  ...   \n",
            "FlowPackets/s                    NaN         NaN         NaN         NaN  ...   \n",
            "FlowIATMean                 1.000000    0.957461         NaN         NaN  ...   \n",
            "FlowIATStd                  0.957461    1.000000         NaN         NaN  ...   \n",
            "FlowIATMax                       NaN         NaN    1.000000         NaN  ...   \n",
            "FlowIATMin                       NaN         NaN         NaN         1.0  ...   \n",
            "BwdIATTotal                      NaN         NaN         NaN         NaN  ...   \n",
            "BwdIATMean                  0.947648    0.940267         NaN         NaN  ...   \n",
            "BwdIATMax                        NaN         NaN    0.956297         NaN  ...   \n",
            "BwdIATMin                        NaN         NaN         NaN         NaN  ...   \n",
            "FwdPSHFlags                      NaN         NaN         NaN         NaN  ...   \n",
            "BwdPSHFlags                      NaN         NaN         NaN         NaN  ...   \n",
            "FwdURGFlags                      NaN         NaN         NaN         NaN  ...   \n",
            "BwdURGFlags                      NaN         NaN         NaN         NaN  ...   \n",
            "FwdHeaderLength                  NaN         NaN         NaN         NaN  ...   \n",
            "BwdHeaderLength                  NaN         NaN         NaN         NaN  ...   \n",
            "FwdPackets/s                     NaN         NaN         NaN         NaN  ...   \n",
            "BwdPackets/s                     NaN         NaN         NaN         NaN  ...   \n",
            "FINFlagCount                     NaN         NaN         NaN         NaN  ...   \n",
            "SYNFlagCount                     NaN         NaN         NaN         NaN  ...   \n",
            "RSTFlagCount                     NaN         NaN         NaN         NaN  ...   \n",
            "ACKFlagCount                     NaN         NaN         NaN         NaN  ...   \n",
            "SubflowFwdPackets                NaN         NaN         NaN         NaN  ...   \n",
            "SubflowBwdPackets                NaN         NaN         NaN         NaN  ...   \n",
            "Init_Win_bytes_forward           NaN         NaN         NaN         NaN  ...   \n",
            "Init_Win_bytes_backward          NaN         NaN         NaN         NaN  ...   \n",
            "\n",
            "                         FwdPackets/s  BwdPackets/s  FINFlagCount  \\\n",
            "DestinationPort                   NaN           NaN           NaN   \n",
            "FlowDuration                      NaN           NaN           NaN   \n",
            "TotalFwdPackets                   NaN           NaN           NaN   \n",
            "TotalBackwardPackets              NaN           NaN           NaN   \n",
            "FlowBytes/s                       NaN           NaN           NaN   \n",
            "FlowPackets/s                0.955724           NaN           NaN   \n",
            "FlowIATMean                       NaN           NaN           NaN   \n",
            "FlowIATStd                        NaN           NaN           NaN   \n",
            "FlowIATMax                        NaN           NaN           NaN   \n",
            "FlowIATMin                        NaN           NaN           NaN   \n",
            "BwdIATTotal                       NaN           NaN           NaN   \n",
            "BwdIATMean                        NaN           NaN           NaN   \n",
            "BwdIATMax                         NaN           NaN           NaN   \n",
            "BwdIATMin                         NaN           NaN           NaN   \n",
            "FwdPSHFlags                       NaN           NaN           NaN   \n",
            "BwdPSHFlags                       NaN           NaN           NaN   \n",
            "FwdURGFlags                       NaN           NaN           NaN   \n",
            "BwdURGFlags                       NaN           NaN           NaN   \n",
            "FwdHeaderLength                   NaN           NaN           NaN   \n",
            "BwdHeaderLength                   NaN           NaN           NaN   \n",
            "FwdPackets/s                 1.000000           NaN           NaN   \n",
            "BwdPackets/s                      NaN           1.0           NaN   \n",
            "FINFlagCount                      NaN           NaN           1.0   \n",
            "SYNFlagCount                      NaN           NaN           NaN   \n",
            "RSTFlagCount                      NaN           NaN           NaN   \n",
            "ACKFlagCount                      NaN           NaN           NaN   \n",
            "SubflowFwdPackets                 NaN           NaN           NaN   \n",
            "SubflowBwdPackets                 NaN           NaN           NaN   \n",
            "Init_Win_bytes_forward            NaN           NaN           NaN   \n",
            "Init_Win_bytes_backward           NaN           NaN           NaN   \n",
            "\n",
            "                         SYNFlagCount  RSTFlagCount  ACKFlagCount  \\\n",
            "DestinationPort                   NaN           NaN           NaN   \n",
            "FlowDuration                      NaN           NaN           NaN   \n",
            "TotalFwdPackets                   NaN           NaN           NaN   \n",
            "TotalBackwardPackets              NaN           NaN           NaN   \n",
            "FlowBytes/s                       NaN           NaN           NaN   \n",
            "FlowPackets/s                     NaN           NaN           NaN   \n",
            "FlowIATMean                       NaN           NaN           NaN   \n",
            "FlowIATStd                        NaN           NaN           NaN   \n",
            "FlowIATMax                        NaN           NaN           NaN   \n",
            "FlowIATMin                        NaN           NaN           NaN   \n",
            "BwdIATTotal                       NaN           NaN           NaN   \n",
            "BwdIATMean                        NaN           NaN           NaN   \n",
            "BwdIATMax                         NaN           NaN           NaN   \n",
            "BwdIATMin                         NaN           NaN           NaN   \n",
            "FwdPSHFlags                       1.0           NaN           NaN   \n",
            "BwdPSHFlags                       NaN           NaN           NaN   \n",
            "FwdURGFlags                       NaN           NaN           NaN   \n",
            "BwdURGFlags                       NaN           NaN           NaN   \n",
            "FwdHeaderLength                   NaN           NaN           NaN   \n",
            "BwdHeaderLength                   NaN           NaN           NaN   \n",
            "FwdPackets/s                      NaN           NaN           NaN   \n",
            "BwdPackets/s                      NaN           NaN           NaN   \n",
            "FINFlagCount                      NaN           NaN           NaN   \n",
            "SYNFlagCount                      1.0           NaN           NaN   \n",
            "RSTFlagCount                      NaN           1.0           NaN   \n",
            "ACKFlagCount                      NaN           NaN           1.0   \n",
            "SubflowFwdPackets                 NaN           NaN           NaN   \n",
            "SubflowBwdPackets                 NaN           NaN           NaN   \n",
            "Init_Win_bytes_forward            NaN           NaN           NaN   \n",
            "Init_Win_bytes_backward           NaN           NaN           NaN   \n",
            "\n",
            "                         SubflowFwdPackets  SubflowBwdPackets  \\\n",
            "DestinationPort                        NaN                NaN   \n",
            "FlowDuration                           NaN                NaN   \n",
            "TotalFwdPackets                   1.000000           0.962230   \n",
            "TotalBackwardPackets              0.962230           1.000000   \n",
            "FlowBytes/s                            NaN                NaN   \n",
            "FlowPackets/s                          NaN                NaN   \n",
            "FlowIATMean                            NaN                NaN   \n",
            "FlowIATStd                             NaN                NaN   \n",
            "FlowIATMax                             NaN                NaN   \n",
            "FlowIATMin                             NaN                NaN   \n",
            "BwdIATTotal                            NaN                NaN   \n",
            "BwdIATMean                             NaN                NaN   \n",
            "BwdIATMax                              NaN                NaN   \n",
            "BwdIATMin                              NaN                NaN   \n",
            "FwdPSHFlags                            NaN                NaN   \n",
            "BwdPSHFlags                            NaN                NaN   \n",
            "FwdURGFlags                            NaN                NaN   \n",
            "BwdURGFlags                            NaN                NaN   \n",
            "FwdHeaderLength                   0.963460           0.946475   \n",
            "BwdHeaderLength                   0.919433           0.973327   \n",
            "FwdPackets/s                           NaN                NaN   \n",
            "BwdPackets/s                           NaN                NaN   \n",
            "FINFlagCount                           NaN                NaN   \n",
            "SYNFlagCount                           NaN                NaN   \n",
            "RSTFlagCount                           NaN                NaN   \n",
            "ACKFlagCount                           NaN                NaN   \n",
            "SubflowFwdPackets                 1.000000           0.962230   \n",
            "SubflowBwdPackets                 0.962230           1.000000   \n",
            "Init_Win_bytes_forward                 NaN                NaN   \n",
            "Init_Win_bytes_backward                NaN                NaN   \n",
            "\n",
            "                         Init_Win_bytes_forward  Init_Win_bytes_backward  \n",
            "DestinationPort                             NaN                      NaN  \n",
            "FlowDuration                                NaN                      NaN  \n",
            "TotalFwdPackets                             NaN                      NaN  \n",
            "TotalBackwardPackets                        NaN                      NaN  \n",
            "FlowBytes/s                                 NaN                      NaN  \n",
            "FlowPackets/s                               NaN                      NaN  \n",
            "FlowIATMean                                 NaN                      NaN  \n",
            "FlowIATStd                                  NaN                      NaN  \n",
            "FlowIATMax                                  NaN                      NaN  \n",
            "FlowIATMin                                  NaN                      NaN  \n",
            "BwdIATTotal                                 NaN                      NaN  \n",
            "BwdIATMean                                  NaN                      NaN  \n",
            "BwdIATMax                                   NaN                      NaN  \n",
            "BwdIATMin                                   NaN                      NaN  \n",
            "FwdPSHFlags                                 NaN                      NaN  \n",
            "BwdPSHFlags                                 NaN                      NaN  \n",
            "FwdURGFlags                                 NaN                      NaN  \n",
            "BwdURGFlags                                 NaN                      NaN  \n",
            "FwdHeaderLength                             NaN                      NaN  \n",
            "BwdHeaderLength                             NaN                      NaN  \n",
            "FwdPackets/s                                NaN                      NaN  \n",
            "BwdPackets/s                                NaN                      NaN  \n",
            "FINFlagCount                                NaN                      NaN  \n",
            "SYNFlagCount                                NaN                      NaN  \n",
            "RSTFlagCount                                NaN                      NaN  \n",
            "ACKFlagCount                                NaN                      NaN  \n",
            "SubflowFwdPackets                           NaN                      NaN  \n",
            "SubflowBwdPackets                           NaN                      NaN  \n",
            "Init_Win_bytes_forward                      1.0                      NaN  \n",
            "Init_Win_bytes_backward                     NaN                      1.0  \n",
            "\n",
            "[30 rows x 30 columns]\n"
          ]
        }
      ]
    },
    {
      "cell_type": "code",
      "source": [
        "from sklearn.model_selection import train_test_split\n",
        "X = data.drop('Label', axis=1)\n",
        "y = data['Label']\n",
        "X_train, X_test, y_train, y_test = train_test_split(X, y, test_size=0.2, random_state=42)\n",
        "print(f\"Training set size: {len(X_train)}, Test set size: {len(X_test)}\")\n"
      ],
      "metadata": {
        "colab": {
          "base_uri": "https://localhost:8080/"
        },
        "id": "fosDA6zphSNe",
        "outputId": "91dd3c5b-fa29-404b-fef9-45d8ff62e9d2"
      },
      "execution_count": null,
      "outputs": [
        {
          "output_type": "stream",
          "name": "stdout",
          "text": [
            "Training set size: 145476, Test set size: 36369\n"
          ]
        }
      ]
    },
    {
      "cell_type": "code",
      "source": [
        "# Separate features and labels\n",
        "features = data.drop('Label', axis=1)\n",
        "labels = data['Label']\n",
        "features.replace([np.inf, -np.inf], np.nan, inplace=True)\n",
        "features.dropna(inplace=True)\n",
        "features = features.select_dtypes(include=[float, int])\n",
        "len(features)"
      ],
      "metadata": {
        "colab": {
          "base_uri": "https://localhost:8080/"
        },
        "id": "OV6-1sLHhWmg",
        "outputId": "7fe7de26-04a0-4f8a-e097-a5690cd8fdbe"
      },
      "execution_count": null,
      "outputs": [
        {
          "output_type": "execute_result",
          "data": {
            "text/plain": [
              "181845"
            ]
          },
          "metadata": {},
          "execution_count": 52
        }
      ]
    },
    {
      "cell_type": "code",
      "source": [
        "from sklearn.preprocessing import StandardScaler\n",
        "\n",
        "scaler = StandardScaler()\n",
        "features_scaled = scaler.fit_transform(features)"
      ],
      "metadata": {
        "id": "8wYXZyNqjMed"
      },
      "execution_count": null,
      "outputs": []
    },
    {
      "cell_type": "code",
      "source": [
        "from sklearn.preprocessing import LabelEncoder\n",
        "\n",
        "label_encoder = LabelEncoder()\n",
        "y_encoded = label_encoder.fit_transform(labels)"
      ],
      "metadata": {
        "id": "qiGKSpFfjXyH"
      },
      "execution_count": null,
      "outputs": []
    },
    {
      "cell_type": "code",
      "source": [
        "round(data.shape[0]*80/100)"
      ],
      "metadata": {
        "colab": {
          "base_uri": "https://localhost:8080/"
        },
        "id": "m_Ex4NE-jiNq",
        "outputId": "aedd3f4d-d58d-418f-88c1-b79ac1c540c2"
      },
      "execution_count": null,
      "outputs": [
        {
          "output_type": "execute_result",
          "data": {
            "text/plain": [
              "145476"
            ]
          },
          "metadata": {},
          "execution_count": 55
        }
      ]
    },
    {
      "cell_type": "code",
      "source": [
        "missing_labels = np.isnan(y_encoded).sum()\n",
        "print(f\"Number of missing values in y_encoded: {missing_labels}\")"
      ],
      "metadata": {
        "colab": {
          "base_uri": "https://localhost:8080/"
        },
        "id": "jgj_Mt-OjjX6",
        "outputId": "fdc2c108-f195-4349-be2c-1525c5cc1f5f"
      },
      "execution_count": null,
      "outputs": [
        {
          "output_type": "stream",
          "name": "stdout",
          "text": [
            "Number of missing values in y_encoded: 0\n"
          ]
        }
      ]
    },
    {
      "cell_type": "code",
      "source": [
        "train_size = round(len(y_encoded) * 0.8)\n",
        "\n",
        "X_train = features_scaled[:train_size]\n",
        "X_test = features_scaled[train_size:]\n",
        "y_train = y_encoded[:train_size]\n",
        "y_test = y_encoded[train_size:]\n",
        "\n",
        "print(f\"Length of X_train: {len(X_train)}\")\n",
        "print(f\"Length of y_train: {len(y_train)}\")\n",
        "print(f\"Length of X_test: {len(X_test)}\")\n",
        "print(f\"Length of y_test: {len(y_test)}\")\n",
        "\n",
        "min_len = min(len(X_test), len(y_test))\n",
        "X_test = X_test[:min_len]\n",
        "y_test = y_test[:min_len]\n",
        "\n",
        "print(f\"Final Length of X_test: {len(X_test)}\")\n",
        "print(f\"Final Length of y_test: {len(y_test)}\")"
      ],
      "metadata": {
        "colab": {
          "base_uri": "https://localhost:8080/"
        },
        "collapsed": true,
        "id": "8Jb2jiqYjlVn",
        "outputId": "547c7467-7024-4e16-f794-728601ce9ed3"
      },
      "execution_count": null,
      "outputs": [
        {
          "output_type": "stream",
          "name": "stdout",
          "text": [
            "Length of X_train: 145476\n",
            "Length of y_train: 145476\n",
            "Length of X_test: 36369\n",
            "Length of y_test: 36369\n",
            "Final Length of X_test: 36369\n",
            "Final Length of y_test: 36369\n"
          ]
        }
      ]
    },
    {
      "cell_type": "code",
      "source": [
        "from sklearn.svm import OneClassSVM\n",
        "from sklearn.metrics import accuracy_score, classification_report, confusion_matrix\n",
        "import numpy as np\n",
        "\n",
        "# Train One-Class SVM\n",
        "ocsvm = OneClassSVM(kernel='rbf', nu=0.3, gamma=\"auto\")\n",
        "ocsvm.fit(X_train)\n",
        "\n",
        "# Make predictions (-1 for anomalies, 1 for normal)\n",
        "y_pred = ocsvm.predict(X_test)\n",
        "\n",
        "# Post-process predictions (convert -1 to 1 for anomalies)\n",
        "ocsvm_predict = np.where(y_pred == -1, 1, 0)\n",
        "\n",
        "# Print number of anomalies detected\n",
        "print(\"Number of anomalies detected:\", (y_pred == -1).sum())\n",
        "\n",
        "# Model Evaluation\n",
        "# Assuming y_test is binary (0 for normal, 1 for anomalies)\n",
        "accuracy = accuracy_score(y_test, ocsvm_predict)\n",
        "print(\"Accuracy:\", accuracy)\n",
        "\n",
        "print(\"\\nClassification Report:\")\n",
        "print(classification_report(y_test, ocsvm_predict, target_names=[\"Normal\", \"Anomaly\"]))\n",
        "\n",
        "# Confusion Matrix\n",
        "cm = confusion_matrix(y_test, ocsvm_predict)\n",
        "print(\"\\nConfusion Matrix:\")\n",
        "print(cm)\n",
        "#10% without reduced features"
      ],
      "metadata": {
        "colab": {
          "base_uri": "https://localhost:8080/"
        },
        "id": "yXx61RKCIAyo",
        "outputId": "0cd62c7e-6138-4c44-ade7-051bdc16bae8"
      },
      "execution_count": null,
      "outputs": [
        {
          "output_type": "stream",
          "name": "stdout",
          "text": [
            "Number of anomalies detected: 8565\n",
            "Accuracy: 0.6025736203909924\n",
            "\n",
            "Classification Report:\n",
            "              precision    recall  f1-score   support\n",
            "\n",
            "      Normal       0.86      0.67      0.75     25418\n",
            "     Anomaly       0.01      0.03      0.02      2869\n",
            "\n",
            "    accuracy                           0.60     28287\n",
            "   macro avg       0.44      0.35      0.38     28287\n",
            "weighted avg       0.77      0.60      0.68     28287\n",
            "\n",
            "\n",
            "Confusion Matrix:\n",
            "[[16949  8469]\n",
            " [ 2773    96]]\n"
          ]
        }
      ]
    },
    {
      "cell_type": "code",
      "source": [
        "from sklearn.svm import OneClassSVM\n",
        "from sklearn.metrics import accuracy_score, classification_report, confusion_matrix\n",
        "import numpy as np\n",
        "\n",
        "# Train One-Class SVM\n",
        "ocsvm = OneClassSVM(kernel='rbf', nu=0.3, gamma=1)\n",
        "ocsvm.fit(X_train)\n",
        "\n",
        "# Make predictions (-1 for anomalies, 1 for normal)\n",
        "y_pred = ocsvm.predict(X_test)\n",
        "\n",
        "# Post-process predictions (convert -1 to 1 for anomalies)\n",
        "ocsvm_predict = np.where(y_pred == -1, 1, 0)\n",
        "\n",
        "# Print number of anomalies detected\n",
        "print(\"Number of anomalies detected:\", (y_pred == -1).sum())\n",
        "\n",
        "# Model Evaluation\n",
        "# Assuming y_test is binary (0 for normal, 1 for anomalies)\n",
        "accuracy = accuracy_score(y_test, ocsvm_predict)\n",
        "print(\"Accuracy:\", accuracy)\n",
        "\n",
        "print(\"\\nClassification Report:\")\n",
        "print(classification_report(y_test, ocsvm_predict, target_names=[\"Normal\", \"Anomaly\"]))\n",
        "\n",
        "# Confusion Matrix\n",
        "cm = confusion_matrix(y_test, ocsvm_predict)\n",
        "print(\"\\nConfusion Matrix:\")\n",
        "print(cm)\n",
        "#30% with reduced features"
      ],
      "metadata": {
        "id": "i2VIABw4sB_O",
        "colab": {
          "base_uri": "https://localhost:8080/"
        },
        "outputId": "ae6caa7b-cc24-4040-b42d-550e68a7eff1"
      },
      "execution_count": null,
      "outputs": [
        {
          "output_type": "stream",
          "name": "stdout",
          "text": [
            "Number of anomalies detected: 10847\n",
            "Accuracy: 0.4930022821633809\n",
            "\n",
            "Classification Report:\n",
            "              precision    recall  f1-score   support\n",
            "\n",
            "      Normal       0.64      0.64      0.64     25423\n",
            "     Anomaly       0.15      0.15      0.15     10946\n",
            "\n",
            "    accuracy                           0.49     36369\n",
            "   macro avg       0.40      0.40      0.40     36369\n",
            "weighted avg       0.49      0.49      0.49     36369\n",
            "\n",
            "\n",
            "Confusion Matrix:\n",
            "[[16253  9170]\n",
            " [ 9269  1677]]\n"
          ]
        }
      ]
    },
    {
      "cell_type": "code",
      "source": [
        "import matplotlib.pyplot as plt\n",
        "import seaborn as sns\n",
        "\n",
        "# Plot confusion matrix\n",
        "def plot_confusion_matrix(cm, labels):\n",
        "    plt.figure(figsize=(8, 6))\n",
        "    sns.heatmap(cm, annot=True, fmt=\"d\", cmap=\"Blues\", xticklabels=labels, yticklabels=labels)\n",
        "    plt.xlabel(\"Predicted label\")\n",
        "    plt.ylabel(\"True label\")\n",
        "    plt.title(\"Confusion Matrix\")\n",
        "    plt.show()\n",
        "\n",
        "# Labels for the confusion matrix\n",
        "labels = [\"Normal\", \"Anomaly\"]\n",
        "\n",
        "# Call the function to plot\n",
        "plot_confusion_matrix(cm, labels)\n"
      ],
      "metadata": {
        "id": "oocnSQmH5bxo",
        "outputId": "f1039ee7-c9c7-48b0-a117-ddbecd68e29b",
        "colab": {
          "base_uri": "https://localhost:8080/",
          "height": 564
        }
      },
      "execution_count": null,
      "outputs": [
        {
          "output_type": "display_data",
          "data": {
            "text/plain": [
              "<Figure size 800x600 with 2 Axes>"
            ],
            "image/png": "[encoded data removed]"
          },
          "metadata": {}
        }
      ]
    },
    {
      "cell_type": "code",
      "source": [
        "from sklearn.svm import OneClassSVM\n",
        "from sklearn.metrics import accuracy_score, classification_report, confusion_matrix\n",
        "import numpy as np\n",
        "\n",
        "# Train One-Class SVM\n",
        "ocsvm = OneClassSVM(kernel='rbf', nu=0.3, gamma=\"auto\")\n",
        "ocsvm.fit(X_train)\n",
        "\n",
        "# Make predictions (-1 for anomalies, 1 for normal)\n",
        "y_pred = ocsvm.predict(X_test)\n",
        "\n",
        "# Post-process predictions (convert -1 to 1 for anomalies)\n",
        "ocsvm_predict = np.where(y_pred == -1, 1, 0)\n",
        "\n",
        "# Print number of anomalies detected\n",
        "print(\"Number of anomalies detected:\", (y_pred == -1).sum())\n",
        "\n",
        "# Model Evaluation\n",
        "# Assuming y_test is binary (0 for normal, 1 for anomalies)\n",
        "accuracy = accuracy_score(y_test, ocsvm_predict)\n",
        "print(\"Accuracy:\", accuracy)\n",
        "\n",
        "print(\"\\nClassification Report:\")\n",
        "print(classification_report(y_test, ocsvm_predict, target_names=[\"Normal\", \"Anomaly\"]))\n",
        "\n",
        "# Confusion Matrix\n",
        "cm = confusion_matrix(y_test, ocsvm_predict)\n",
        "print(\"\\nConfusion Matrix:\")\n",
        "print(cm)\n",
        "#30% with reduced features"
      ],
      "metadata": {
        "colab": {
          "base_uri": "https://localhost:8080/"
        },
        "id": "0DlPl_YW70BH",
        "outputId": "c37c911c-b9a6-44d6-8389-28ba0dea4827"
      },
      "execution_count": null,
      "outputs": [
        {
          "output_type": "stream",
          "name": "stdout",
          "text": [
            "Number of anomalies detected: 10832\n",
            "Accuracy: 0.47240781984657265\n",
            "\n",
            "Classification Report:\n",
            "              precision    recall  f1-score   support\n",
            "\n",
            "      Normal       0.62      0.62      0.62     25423\n",
            "     Anomaly       0.12      0.12      0.12     10946\n",
            "\n",
            "    accuracy                           0.47     36369\n",
            "   macro avg       0.37      0.37      0.37     36369\n",
            "weighted avg       0.47      0.47      0.47     36369\n",
            "\n",
            "\n",
            "Confusion Matrix:\n",
            "[[15886  9537]\n",
            " [ 9651  1295]]\n"
          ]
        }
      ]
    },
    {
      "cell_type": "code",
      "source": [
        "from sklearn.svm import OneClassSVM\n",
        "from sklearn.metrics import accuracy_score, classification_report, confusion_matrix\n",
        "import numpy as np\n",
        "\n",
        "# Train One-Class SVM\n",
        "ocsvm = OneClassSVM(kernel='rbf', nu=0.2, gamma=1)\n",
        "ocsvm.fit(X_train)\n",
        "\n",
        "# Make predictions (-1 for anomalies, 1 for normal)\n",
        "y_pred = ocsvm.predict(X_test)\n",
        "\n",
        "# Post-process predictions (convert -1 to 1 for anomalies)\n",
        "ocsvm_predict = np.where(y_pred == -1, 1, 0)\n",
        "\n",
        "# Print number of anomalies detected\n",
        "print(\"Number of anomalies detected:\", (y_pred == -1).sum())\n",
        "\n",
        "# Model Evaluation\n",
        "# Assuming y_test is binary (0 for normal, 1 for anomalies)\n",
        "accuracy = accuracy_score(y_test, ocsvm_predict)\n",
        "print(\"Accuracy:\", accuracy)\n",
        "\n",
        "print(\"\\nClassification Report:\")\n",
        "print(classification_report(y_test, ocsvm_predict, target_names=[\"Normal\", \"Anomaly\"]))\n",
        "\n",
        "# Confusion Matrix\n",
        "cm = confusion_matrix(y_test, ocsvm_predict)\n",
        "print(\"\\nConfusion Matrix:\")\n",
        "print(cm)\n",
        "#20% with reduced features"
      ],
      "metadata": {
        "colab": {
          "base_uri": "https://localhost:8080/"
        },
        "id": "hIshw4hvs1yW",
        "outputId": "bfdfe804-e4e8-4df7-928a-0ce42ecdd103"
      },
      "execution_count": null,
      "outputs": [
        {
          "output_type": "stream",
          "name": "stdout",
          "text": [
            "Number of anomalies detected: 6379\n",
            "Accuracy: 0.6326556264337114\n",
            "\n",
            "Classification Report:\n",
            "              precision    recall  f1-score   support\n",
            "\n",
            "      Normal       0.77      0.77      0.77     25400\n",
            "     Anomaly       0.09      0.09      0.09      6423\n",
            "\n",
            "    accuracy                           0.63     31823\n",
            "   macro avg       0.43      0.43      0.43     31823\n",
            "weighted avg       0.63      0.63      0.63     31823\n",
            "\n",
            "\n",
            "Confusion Matrix:\n",
            "[[19577  5823]\n",
            " [ 5867   556]]\n"
          ]
        }
      ]
    },
    {
      "cell_type": "code",
      "source": [
        "from sklearn.svm import OneClassSVM\n",
        "from sklearn.metrics import accuracy_score, classification_report, confusion_matrix\n",
        "import numpy as np\n",
        "\n",
        "# Train One-Class SVM\n",
        "ocsvm = OneClassSVM(kernel='rbf', nu=0.2, gamma=\"auto\")\n",
        "ocsvm.fit(X_train)\n",
        "\n",
        "# Make predictions (-1 for anomalies, 1 for normal)\n",
        "y_pred = ocsvm.predict(X_test)\n",
        "\n",
        "# Post-process predictions (convert -1 to 1 for anomalies)\n",
        "ocsvm_predict = np.where(y_pred == -1, 1, 0)\n",
        "\n",
        "# Print number of anomalies detected\n",
        "print(\"Number of anomalies detected:\", (y_pred == -1).sum())\n",
        "\n",
        "# Model Evaluation\n",
        "# Assuming y_test is binary (0 for normal, 1 for anomalies)\n",
        "accuracy = accuracy_score(y_test, ocsvm_predict)\n",
        "print(\"Accuracy:\", accuracy)\n",
        "\n",
        "print(\"\\nClassification Report:\")\n",
        "print(classification_report(y_test, ocsvm_predict, target_names=[\"Normal\", \"Anomaly\"]))\n",
        "\n",
        "# Confusion Matrix\n",
        "cm = confusion_matrix(y_test, ocsvm_predict)\n",
        "print(\"\\nConfusion Matrix:\")\n",
        "print(cm)\n",
        "#20% with reduced features"
      ],
      "metadata": {
        "colab": {
          "base_uri": "https://localhost:8080/"
        },
        "id": "ZL4MZwnyZnLC",
        "outputId": "4cf1393c-e287-4114-e75a-c34672927d8b"
      },
      "execution_count": null,
      "outputs": [
        {
          "output_type": "stream",
          "name": "stdout",
          "text": [
            "Number of anomalies detected: 6328\n",
            "Accuracy: 0.6171008390158061\n",
            "\n",
            "Classification Report:\n",
            "              precision    recall  f1-score   support\n",
            "\n",
            "      Normal       0.76      0.76      0.76     25400\n",
            "     Anomaly       0.04      0.04      0.04      6423\n",
            "\n",
            "    accuracy                           0.62     31823\n",
            "   macro avg       0.40      0.40      0.40     31823\n",
            "weighted avg       0.61      0.62      0.62     31823\n",
            "\n",
            "\n",
            "Confusion Matrix:\n",
            "[[19355  6045]\n",
            " [ 6140   283]]\n"
          ]
        }
      ]
    },
    {
      "cell_type": "code",
      "source": [
        "from sklearn.svm import OneClassSVM\n",
        "from sklearn.metrics import accuracy_score, classification_report, confusion_matrix\n",
        "import numpy as np\n",
        "\n",
        "# Train One-Class SVM\n",
        "ocsvm = OneClassSVM(kernel='rbf', nu=0.1, gamma=1)\n",
        "ocsvm.fit(X_train)\n",
        "\n",
        "# Make predictions (-1 for anomalies, 1 for normal)\n",
        "y_pred = ocsvm.predict(X_test)\n",
        "\n",
        "# Post-process predictions (convert -1 to 1 for anomalies)\n",
        "ocsvm_predict = np.where(y_pred == -1, 1, 0)\n",
        "\n",
        "# Print number of anomalies detected\n",
        "print(\"Number of anomalies detected:\", (y_pred == -1).sum())\n",
        "\n",
        "# Model Evaluation\n",
        "# Assuming y_test is binary (0 for normal, 1 for anomalies)\n",
        "accuracy = accuracy_score(y_test, ocsvm_predict)\n",
        "print(\"Accuracy:\", accuracy)\n",
        "\n",
        "print(\"\\nClassification Report:\")\n",
        "print(classification_report(y_test, ocsvm_predict, target_names=[\"Normal\", \"Anomaly\"]))\n",
        "\n",
        "# Confusion Matrix\n",
        "cm = confusion_matrix(y_test, ocsvm_predict)\n",
        "print(\"\\nConfusion Matrix:\")\n",
        "print(cm)\n",
        "#10% with reduced features"
      ],
      "metadata": {
        "colab": {
          "base_uri": "https://localhost:8080/"
        },
        "id": "rSSmBjKWs4IF",
        "outputId": "0a7d1e78-acb9-4416-9824-106da582bf20"
      },
      "execution_count": null,
      "outputs": [
        {
          "output_type": "stream",
          "name": "stdout",
          "text": [
            "Number of anomalies detected: 2984\n",
            "Accuracy: 0.8026301834765086\n",
            "\n",
            "Classification Report:\n",
            "              precision    recall  f1-score   support\n",
            "\n",
            "      Normal       0.89      0.89      0.89     25418\n",
            "     Anomaly       0.05      0.05      0.05      2869\n",
            "\n",
            "    accuracy                           0.80     28287\n",
            "   macro avg       0.47      0.47      0.47     28287\n",
            "weighted avg       0.81      0.80      0.80     28287\n",
            "\n",
            "\n",
            "Confusion Matrix:\n",
            "[[22569  2849]\n",
            " [ 2734   135]]\n"
          ]
        }
      ]
    },
    {
      "cell_type": "code",
      "source": [
        "from sklearn.svm import OneClassSVM\n",
        "from sklearn.metrics import accuracy_score, classification_report, confusion_matrix\n",
        "import numpy as np\n",
        "\n",
        "# Train One-Class SVM\n",
        "ocsvm = OneClassSVM(kernel='rbf', nu=0.1, gamma=\"auto\")\n",
        "ocsvm.fit(X_train)\n",
        "\n",
        "# Make predictions (-1 for anomalies, 1 for normal)\n",
        "y_pred = ocsvm.predict(X_test)\n",
        "\n",
        "# Post-process predictions (convert -1 to 1 for anomalies)\n",
        "ocsvm_predict = np.where(y_pred == -1, 1, 0)\n",
        "\n",
        "# Print number of anomalies detected\n",
        "print(\"Number of anomalies detected:\", (y_pred == -1).sum())\n",
        "\n",
        "# Model Evaluation\n",
        "# Assuming y_test is binary (0 for normal, 1 for anomalies)\n",
        "accuracy = accuracy_score(y_test, ocsvm_predict)\n",
        "print(\"Accuracy:\", accuracy)\n",
        "\n",
        "print(\"\\nClassification Report:\")\n",
        "print(classification_report(y_test, ocsvm_predict, target_names=[\"Normal\", \"Anomaly\"]))\n",
        "\n",
        "# Confusion Matrix\n",
        "cm = confusion_matrix(y_test, ocsvm_predict)\n",
        "print(\"\\nConfusion Matrix:\")\n",
        "print(cm)\n",
        "#10% with reduced features"
      ],
      "metadata": {
        "colab": {
          "base_uri": "https://localhost:8080/"
        },
        "id": "Bibm5rPgVtZt",
        "outputId": "75f75020-7565-4034-8ad0-f06bfa59fa10"
      },
      "execution_count": null,
      "outputs": [
        {
          "output_type": "stream",
          "name": "stdout",
          "text": [
            "Number of anomalies detected: 2888\n",
            "Accuracy: 0.7998020292006929\n",
            "\n",
            "Classification Report:\n",
            "              precision    recall  f1-score   support\n",
            "\n",
            "      Normal       0.89      0.89      0.89     25418\n",
            "     Anomaly       0.02      0.02      0.02      2869\n",
            "\n",
            "    accuracy                           0.80     28287\n",
            "   macro avg       0.45      0.45      0.45     28287\n",
            "weighted avg       0.80      0.80      0.80     28287\n",
            "\n",
            "\n",
            "Confusion Matrix:\n",
            "[[22577  2841]\n",
            " [ 2822    47]]\n"
          ]
        }
      ]
    }
  ]
}