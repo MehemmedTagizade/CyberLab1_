{
  "nbformat": 4,
  "nbformat_minor": 0,
  "metadata": {
    "colab": {
      "provenance": []
    },
    "kernelspec": {
      "name": "python3",
      "display_name": "Python 3"
    },
    "language_info": {
      "name": "python"
    }
  },
  "cells": [
    {
      "cell_type": "markdown",
      "source": [
        "RANDOM FOREST\n"
      ],
      "metadata": {
        "id": "0sx1CJ4De2_e"
      }
    },
    {
      "cell_type": "code",
      "execution_count": null,
      "metadata": {
        "id": "c4ecjNTpezxc"
      },
      "outputs": [],
      "source": [
        "# Import necessary libraries\n",
        "import pandas as pd\n",
        "import numpy as np"
      ]
    },
    {
      "cell_type": "code",
      "source": [
        "from google.colab import drive\n",
        "drive.mount('/content/drive')"
      ],
      "metadata": {
        "colab": {
          "base_uri": "https://localhost:8080/"
        },
        "id": "qKvOzACifCJI",
        "outputId": "7c080103-7957-4f18-efb7-4cec837bf6d3"
      },
      "execution_count": null,
      "outputs": [
        {
          "output_type": "stream",
          "name": "stdout",
          "text": [
            "Mounted at /content/drive\n"
          ]
        }
      ]
    },
    {
      "cell_type": "code",
      "source": [
        "# Load the dataset\n",
        "file_path = '/content/drive/MyDrive/Friday-WorkingHours-Afternoon-PortScan.pcap_ISCX.csv'\n",
        "data = pd.read_csv(file_path)\n"
      ],
      "metadata": {
        "id": "vMXpqqNAe5Vu"
      },
      "execution_count": null,
      "outputs": []
    },
    {
      "cell_type": "code",
      "source": [
        "# Clean column names by removing extra spaces\n",
        "data.columns = data.columns.str.replace(' ', '')\n",
        "print(data.columns)"
      ],
      "metadata": {
        "colab": {
          "base_uri": "https://localhost:8080/"
        },
        "collapsed": true,
        "id": "eKkli76Ue-4M",
        "outputId": "ff69aa50-0635-48cf-af2c-2d23e33a7ab0"
      },
      "execution_count": null,
      "outputs": [
        {
          "output_type": "stream",
          "name": "stdout",
          "text": [
            "Index(['DestinationPort', 'FlowDuration', 'TotalFwdPackets',\n",
            "       'TotalBackwardPackets', 'TotalLengthofFwdPackets',\n",
            "       'TotalLengthofBwdPackets', 'FwdPacketLengthMax', 'FwdPacketLengthMin',\n",
            "       'FwdPacketLengthMean', 'FwdPacketLengthStd', 'BwdPacketLengthMax',\n",
            "       'BwdPacketLengthMin', 'BwdPacketLengthMean', 'BwdPacketLengthStd',\n",
            "       'FlowBytes/s', 'FlowPackets/s', 'FlowIATMean', 'FlowIATStd',\n",
            "       'FlowIATMax', 'FlowIATMin', 'FwdIATTotal', 'FwdIATMean', 'FwdIATStd',\n",
            "       'FwdIATMax', 'FwdIATMin', 'BwdIATTotal', 'BwdIATMean', 'BwdIATStd',\n",
            "       'BwdIATMax', 'BwdIATMin', 'FwdPSHFlags', 'BwdPSHFlags', 'FwdURGFlags',\n",
            "       'BwdURGFlags', 'FwdHeaderLength', 'BwdHeaderLength', 'FwdPackets/s',\n",
            "       'BwdPackets/s', 'MinPacketLength', 'MaxPacketLength',\n",
            "       'PacketLengthMean', 'PacketLengthStd', 'PacketLengthVariance',\n",
            "       'FINFlagCount', 'SYNFlagCount', 'RSTFlagCount', 'PSHFlagCount',\n",
            "       'ACKFlagCount', 'URGFlagCount', 'CWEFlagCount', 'ECEFlagCount',\n",
            "       'Down/UpRatio', 'AveragePacketSize', 'AvgFwdSegmentSize',\n",
            "       'AvgBwdSegmentSize', 'FwdHeaderLength.1', 'FwdAvgBytes/Bulk',\n",
            "       'FwdAvgPackets/Bulk', 'FwdAvgBulkRate', 'BwdAvgBytes/Bulk',\n",
            "       'BwdAvgPackets/Bulk', 'BwdAvgBulkRate', 'SubflowFwdPackets',\n",
            "       'SubflowFwdBytes', 'SubflowBwdPackets', 'SubflowBwdBytes',\n",
            "       'Init_Win_bytes_forward', 'Init_Win_bytes_backward', 'act_data_pkt_fwd',\n",
            "       'min_seg_size_forward', 'ActiveMean', 'ActiveStd', 'ActiveMax',\n",
            "       'ActiveMin', 'IdleMean', 'IdleStd', 'IdleMax', 'IdleMin', 'Label'],\n",
            "      dtype='object')\n"
          ]
        }
      ]
    },
    {
      "cell_type": "code",
      "source": [
        "data.replace([np.inf, -np.inf], np.nan, inplace=True)\n",
        "data.dropna(inplace=True)\n",
        "\n",
        "# Display the first 10 rows of the dataset\n",
        "print(\"First 10 rows of the dataset:\")\n",
        "print(data.head(10))\n"
      ],
      "metadata": {
        "colab": {
          "base_uri": "https://localhost:8080/"
        },
        "collapsed": true,
        "id": "suU3bJQGgaQN",
        "outputId": "dbc1d2ec-fcf8-4d5b-c03b-f16eac126934"
      },
      "execution_count": null,
      "outputs": [
        {
          "output_type": "stream",
          "name": "stdout",
          "text": [
            "First 10 rows of the dataset:\n",
            "   DestinationPort  FlowDuration  TotalFwdPackets  TotalBackwardPackets  \\\n",
            "0               22       1266342               41                    44   \n",
            "1               22       1319353               41                    44   \n",
            "2               22           160                1                     1   \n",
            "3               22       1303488               41                    42   \n",
            "4            35396            77                1                     2   \n",
            "5               22           244                1                     1   \n",
            "6               22       1307239               41                    40   \n",
            "7            60058            82                1                     2   \n",
            "8               22           171                1                     1   \n",
            "9               22           210                1                     1   \n",
            "\n",
            "   TotalLengthofFwdPackets  TotalLengthofBwdPackets  FwdPacketLengthMax  \\\n",
            "0                     2664                     6954                 456   \n",
            "1                     2664                     6954                 456   \n",
            "2                        0                        0                   0   \n",
            "3                     2728                     6634                 456   \n",
            "4                        0                        0                   0   \n",
            "5                        0                        0                   0   \n",
            "6                     2728                     6634                 456   \n",
            "7                        0                        0                   0   \n",
            "8                        0                        0                   0   \n",
            "9                        0                        0                   0   \n",
            "\n",
            "   FwdPacketLengthMin  FwdPacketLengthMean  FwdPacketLengthStd  ...  \\\n",
            "0                   0            64.975610          109.864573  ...   \n",
            "1                   0            64.975610          109.864573  ...   \n",
            "2                   0             0.000000            0.000000  ...   \n",
            "3                   0            66.536585          110.129945  ...   \n",
            "4                   0             0.000000            0.000000  ...   \n",
            "5                   0             0.000000            0.000000  ...   \n",
            "6                   0            66.536585          110.129945  ...   \n",
            "7                   0             0.000000            0.000000  ...   \n",
            "8                   0             0.000000            0.000000  ...   \n",
            "9                   0             0.000000            0.000000  ...   \n",
            "\n",
            "   min_seg_size_forward  ActiveMean  ActiveStd  ActiveMax  ActiveMin  \\\n",
            "0                    32         0.0        0.0          0          0   \n",
            "1                    32         0.0        0.0          0          0   \n",
            "2                    32         0.0        0.0          0          0   \n",
            "3                    32         0.0        0.0          0          0   \n",
            "4                    32         0.0        0.0          0          0   \n",
            "5                    32         0.0        0.0          0          0   \n",
            "6                    32         0.0        0.0          0          0   \n",
            "7                    32         0.0        0.0          0          0   \n",
            "8                    32         0.0        0.0          0          0   \n",
            "9                    32         0.0        0.0          0          0   \n",
            "\n",
            "   IdleMean  IdleStd  IdleMax  IdleMin   Label  \n",
            "0       0.0      0.0        0        0  BENIGN  \n",
            "1       0.0      0.0        0        0  BENIGN  \n",
            "2       0.0      0.0        0        0  BENIGN  \n",
            "3       0.0      0.0        0        0  BENIGN  \n",
            "4       0.0      0.0        0        0  BENIGN  \n",
            "5       0.0      0.0        0        0  BENIGN  \n",
            "6       0.0      0.0        0        0  BENIGN  \n",
            "7       0.0      0.0        0        0  BENIGN  \n",
            "8       0.0      0.0        0        0  BENIGN  \n",
            "9       0.0      0.0        0        0  BENIGN  \n",
            "\n",
            "[10 rows x 79 columns]\n"
          ]
        }
      ]
    },
    {
      "cell_type": "code",
      "source": [
        "data.replace([np.inf, -np.inf], np.nan, inplace=True)\n",
        "data.dropna(inplace=True)"
      ],
      "metadata": {
        "id": "YLA-nygOghCu"
      },
      "execution_count": null,
      "outputs": []
    },
    {
      "cell_type": "code",
      "source": [
        "print(data.isnull().sum())"
      ],
      "metadata": {
        "colab": {
          "base_uri": "https://localhost:8080/"
        },
        "collapsed": true,
        "id": "WNUAQqo4gpQE",
        "outputId": "b95ddb19-2519-4b07-f670-6e6d9a3a922e"
      },
      "execution_count": null,
      "outputs": [
        {
          "output_type": "stream",
          "name": "stdout",
          "text": [
            "DestinationPort            0\n",
            "FlowDuration               0\n",
            "TotalFwdPackets            0\n",
            "TotalBackwardPackets       0\n",
            "TotalLengthofFwdPackets    0\n",
            "                          ..\n",
            "IdleMean                   0\n",
            "IdleStd                    0\n",
            "IdleMax                    0\n",
            "IdleMin                    0\n",
            "Label                      0\n",
            "Length: 79, dtype: int64\n"
          ]
        }
      ]
    },
    {
      "cell_type": "code",
      "source": [
        "data['Label'] = data['Label'].apply(lambda x: 0 if x == 'BENIGN' else 1)\n"
      ],
      "metadata": {
        "id": "BHC4idZigrjX"
      },
      "execution_count": null,
      "outputs": []
    },
    {
      "cell_type": "code",
      "source": [
        "print(data['Label'].value_counts())\n"
      ],
      "metadata": {
        "colab": {
          "base_uri": "https://localhost:8080/"
        },
        "collapsed": true,
        "id": "O7mn90MugtXf",
        "outputId": "2f6fdff6-351e-487d-c521-182a44d0d8fd"
      },
      "execution_count": null,
      "outputs": [
        {
          "output_type": "stream",
          "name": "stdout",
          "text": [
            "Label\n",
            "1    158804\n",
            "0    127292\n",
            "Name: count, dtype: int64\n"
          ]
        }
      ]
    },
    {
      "cell_type": "code",
      "source": [
        "irrelevant_columns = ['FlowID', 'SourceIP', 'DestinationIP']\n",
        "data = data.drop(columns=irrelevant_columns, errors='ignore')\n",
        "print(data.columns)"
      ],
      "metadata": {
        "colab": {
          "base_uri": "https://localhost:8080/"
        },
        "collapsed": true,
        "id": "QRxZrklFgzqm",
        "outputId": "80a5002e-8f6e-4336-ffa8-f25fbe6cf30b"
      },
      "execution_count": null,
      "outputs": [
        {
          "output_type": "stream",
          "name": "stdout",
          "text": [
            "Index(['DestinationPort', 'FlowDuration', 'TotalFwdPackets',\n",
            "       'TotalBackwardPackets', 'TotalLengthofFwdPackets',\n",
            "       'TotalLengthofBwdPackets', 'FwdPacketLengthMax', 'FwdPacketLengthMin',\n",
            "       'FwdPacketLengthMean', 'FwdPacketLengthStd', 'BwdPacketLengthMax',\n",
            "       'BwdPacketLengthMin', 'BwdPacketLengthMean', 'BwdPacketLengthStd',\n",
            "       'FlowBytes/s', 'FlowPackets/s', 'FlowIATMean', 'FlowIATStd',\n",
            "       'FlowIATMax', 'FlowIATMin', 'FwdIATTotal', 'FwdIATMean', 'FwdIATStd',\n",
            "       'FwdIATMax', 'FwdIATMin', 'BwdIATTotal', 'BwdIATMean', 'BwdIATStd',\n",
            "       'BwdIATMax', 'BwdIATMin', 'FwdPSHFlags', 'BwdPSHFlags', 'FwdURGFlags',\n",
            "       'BwdURGFlags', 'FwdHeaderLength', 'BwdHeaderLength', 'FwdPackets/s',\n",
            "       'BwdPackets/s', 'MinPacketLength', 'MaxPacketLength',\n",
            "       'PacketLengthMean', 'PacketLengthStd', 'PacketLengthVariance',\n",
            "       'FINFlagCount', 'SYNFlagCount', 'RSTFlagCount', 'PSHFlagCount',\n",
            "       'ACKFlagCount', 'URGFlagCount', 'CWEFlagCount', 'ECEFlagCount',\n",
            "       'Down/UpRatio', 'AveragePacketSize', 'AvgFwdSegmentSize',\n",
            "       'AvgBwdSegmentSize', 'FwdHeaderLength.1', 'FwdAvgBytes/Bulk',\n",
            "       'FwdAvgPackets/Bulk', 'FwdAvgBulkRate', 'BwdAvgBytes/Bulk',\n",
            "       'BwdAvgPackets/Bulk', 'BwdAvgBulkRate', 'SubflowFwdPackets',\n",
            "       'SubflowFwdBytes', 'SubflowBwdPackets', 'SubflowBwdBytes',\n",
            "       'Init_Win_bytes_forward', 'Init_Win_bytes_backward', 'act_data_pkt_fwd',\n",
            "       'min_seg_size_forward', 'ActiveMean', 'ActiveStd', 'ActiveMax',\n",
            "       'ActiveMin', 'IdleMean', 'IdleStd', 'IdleMax', 'IdleMin', 'Label'],\n",
            "      dtype='object')\n"
          ]
        }
      ]
    },
    {
      "cell_type": "code",
      "source": [
        "correlation_matrix = data.corr()\n",
        "high_corr = correlation_matrix[correlation_matrix > 0.9]\n",
        "print(high_corr)"
      ],
      "metadata": {
        "colab": {
          "base_uri": "https://localhost:8080/"
        },
        "collapsed": true,
        "id": "l9BjigmEg3cz",
        "outputId": "403c1f9d-92d2-48e9-d108-2e2c1ce6a395"
      },
      "execution_count": null,
      "outputs": [
        {
          "output_type": "stream",
          "name": "stdout",
          "text": [
            "                         DestinationPort  FlowDuration  TotalFwdPackets  \\\n",
            "DestinationPort                      1.0           NaN              NaN   \n",
            "FlowDuration                         NaN           1.0              NaN   \n",
            "TotalFwdPackets                      NaN           NaN         1.000000   \n",
            "TotalBackwardPackets                 NaN           NaN         0.962078   \n",
            "TotalLengthofFwdPackets              NaN           NaN              NaN   \n",
            "...                                  ...           ...              ...   \n",
            "IdleMean                             NaN           NaN              NaN   \n",
            "IdleStd                              NaN           NaN              NaN   \n",
            "IdleMax                              NaN           NaN              NaN   \n",
            "IdleMin                              NaN           NaN              NaN   \n",
            "Label                                NaN           NaN              NaN   \n",
            "\n",
            "                         TotalBackwardPackets  TotalLengthofFwdPackets  \\\n",
            "DestinationPort                           NaN                      NaN   \n",
            "FlowDuration                              NaN                      NaN   \n",
            "TotalFwdPackets                      0.962078                      NaN   \n",
            "TotalBackwardPackets                 1.000000                      NaN   \n",
            "TotalLengthofFwdPackets                   NaN                      1.0   \n",
            "...                                       ...                      ...   \n",
            "IdleMean                                  NaN                      NaN   \n",
            "IdleStd                                   NaN                      NaN   \n",
            "IdleMax                                   NaN                      NaN   \n",
            "IdleMin                                   NaN                      NaN   \n",
            "Label                                     NaN                      NaN   \n",
            "\n",
            "                         TotalLengthofBwdPackets  FwdPacketLengthMax  \\\n",
            "DestinationPort                              NaN                 NaN   \n",
            "FlowDuration                                 NaN                 NaN   \n",
            "TotalFwdPackets                         0.947849                 NaN   \n",
            "TotalBackwardPackets                    0.979191                 NaN   \n",
            "TotalLengthofFwdPackets                      NaN                 NaN   \n",
            "...                                          ...                 ...   \n",
            "IdleMean                                     NaN                 NaN   \n",
            "IdleStd                                      NaN                 NaN   \n",
            "IdleMax                                      NaN                 NaN   \n",
            "IdleMin                                      NaN                 NaN   \n",
            "Label                                        NaN                 NaN   \n",
            "\n",
            "                         FwdPacketLengthMin  FwdPacketLengthMean  \\\n",
            "DestinationPort                         NaN                  NaN   \n",
            "FlowDuration                            NaN                  NaN   \n",
            "TotalFwdPackets                         NaN                  NaN   \n",
            "TotalBackwardPackets                    NaN                  NaN   \n",
            "TotalLengthofFwdPackets                 NaN                  NaN   \n",
            "...                                     ...                  ...   \n",
            "IdleMean                                NaN                  NaN   \n",
            "IdleStd                                 NaN                  NaN   \n",
            "IdleMax                                 NaN                  NaN   \n",
            "IdleMin                                 NaN                  NaN   \n",
            "Label                                   NaN                  NaN   \n",
            "\n",
            "                         FwdPacketLengthStd  ...  min_seg_size_forward  \\\n",
            "DestinationPort                         NaN  ...                   NaN   \n",
            "FlowDuration                            NaN  ...                   NaN   \n",
            "TotalFwdPackets                         NaN  ...                   NaN   \n",
            "TotalBackwardPackets                    NaN  ...                   NaN   \n",
            "TotalLengthofFwdPackets                 NaN  ...                   NaN   \n",
            "...                                     ...  ...                   ...   \n",
            "IdleMean                                NaN  ...                   NaN   \n",
            "IdleStd                                 NaN  ...                   NaN   \n",
            "IdleMax                                 NaN  ...                   NaN   \n",
            "IdleMin                                 NaN  ...                   NaN   \n",
            "Label                                   NaN  ...                   NaN   \n",
            "\n",
            "                         ActiveMean  ActiveStd  ActiveMax  ActiveMin  \\\n",
            "DestinationPort                 NaN        NaN        NaN        NaN   \n",
            "FlowDuration                    NaN        NaN        NaN        NaN   \n",
            "TotalFwdPackets                 NaN        NaN        NaN        NaN   \n",
            "TotalBackwardPackets            NaN        NaN        NaN        NaN   \n",
            "TotalLengthofFwdPackets         NaN        NaN        NaN        NaN   \n",
            "...                             ...        ...        ...        ...   \n",
            "IdleMean                        NaN        NaN        NaN        NaN   \n",
            "IdleStd                         NaN        NaN        NaN        NaN   \n",
            "IdleMax                         NaN        NaN        NaN        NaN   \n",
            "IdleMin                         NaN        NaN        NaN        NaN   \n",
            "Label                           NaN        NaN        NaN        NaN   \n",
            "\n",
            "                         IdleMean  IdleStd   IdleMax   IdleMin  Label  \n",
            "DestinationPort               NaN      NaN       NaN       NaN    NaN  \n",
            "FlowDuration                  NaN      NaN       NaN       NaN    NaN  \n",
            "TotalFwdPackets               NaN      NaN       NaN       NaN    NaN  \n",
            "TotalBackwardPackets          NaN      NaN       NaN       NaN    NaN  \n",
            "TotalLengthofFwdPackets       NaN      NaN       NaN       NaN    NaN  \n",
            "...                           ...      ...       ...       ...    ...  \n",
            "IdleMean                 1.000000      NaN  0.994536  0.994226    NaN  \n",
            "IdleStd                       NaN      1.0       NaN       NaN    NaN  \n",
            "IdleMax                  0.994536      NaN  1.000000  0.978459    NaN  \n",
            "IdleMin                  0.994226      NaN  0.978459  1.000000    NaN  \n",
            "Label                         NaN      NaN       NaN       NaN    1.0  \n",
            "\n",
            "[79 rows x 79 columns]\n"
          ]
        }
      ]
    },
    {
      "cell_type": "code",
      "source": [
        "from sklearn.preprocessing import StandardScaler\n",
        "numeric_features = data.select_dtypes(include=[float, int])\n",
        "scaler = StandardScaler()\n",
        "scaled_features = scaler.fit_transform(numeric_features)\n",
        "data[numeric_features.columns] = scaled_features\n",
        "print(data.describe())"
      ],
      "metadata": {
        "colab": {
          "base_uri": "https://localhost:8080/"
        },
        "collapsed": true,
        "id": "pdk01_GxhNPk",
        "outputId": "b4b45cbe-8d01-4dd5-d3f8-fea00058bc1e"
      },
      "execution_count": null,
      "outputs": [
        {
          "output_type": "stream",
          "name": "stdout",
          "text": [
            "       DestinationPort  FlowDuration  TotalFwdPackets  TotalBackwardPackets  \\\n",
            "count     2.860960e+05  2.860960e+05     2.860960e+05          2.860960e+05   \n",
            "mean      5.960596e-18 -1.589492e-18     3.655832e-17          7.947461e-18   \n",
            "std       1.000002e+00  1.000002e+00     1.000002e+00          1.000002e+00   \n",
            "min      -5.223313e-01 -2.455363e-01    -1.268108e-01         -1.244904e-01   \n",
            "25%      -5.171183e-01 -2.455337e-01    -1.268108e-01         -8.916347e-02   \n",
            "50%      -4.501311e-01 -2.455327e-01    -1.268108e-01         -8.916347e-02   \n",
            "75%      -7.523445e-02 -2.444498e-01    -7.560110e-02         -5.383656e-02   \n",
            "max       3.738585e+00  5.224682e+00     1.595449e+02          1.282888e+02   \n",
            "\n",
            "       TotalLengthofFwdPackets  TotalLengthofBwdPackets  FwdPacketLengthMax  \\\n",
            "count             2.860960e+05             2.860960e+05       286096.000000   \n",
            "mean              7.947461e-18            -7.947461e-18            0.000000   \n",
            "std               1.000002e+00             1.000002e+00            1.000002   \n",
            "min              -1.251952e-01            -5.314090e-02           -0.247378   \n",
            "25%              -1.251952e-01            -5.302328e-02           -0.247378   \n",
            "50%              -1.241238e-01            -5.302328e-02           -0.241280   \n",
            "75%              -9.198172e-02            -5.088647e-02           -0.134563   \n",
            "max               1.243445e+02             1.401296e+02           42.223184   \n",
            "\n",
            "       FwdPacketLengthMin  FwdPacketLengthMean  FwdPacketLengthStd  ...  \\\n",
            "count        2.860960e+05         2.860960e+05        2.860960e+05  ...   \n",
            "mean        -5.245324e-17         9.695902e-17       -8.742207e-18  ...   \n",
            "std          1.000002e+00         1.000002e+00        1.000002e+00  ...   \n",
            "min         -4.271932e-01        -3.081055e-01       -2.099240e-01  ...   \n",
            "25%         -4.271932e-01        -3.081055e-01       -2.099240e-01  ...   \n",
            "50%         -3.447264e-01        -2.826047e-01       -2.099240e-01  ...   \n",
            "75%         -1.797926e-01         1.254083e-01       -2.099240e-01  ...   \n",
            "max          6.026841e+01         4.320825e+01        2.998403e+01  ...   \n",
            "\n",
            "       min_seg_size_forward    ActiveMean      ActiveStd     ActiveMax  \\\n",
            "count          2.860960e+05  2.860960e+05  286096.000000  2.860960e+05   \n",
            "mean           1.112645e-16 -1.748441e-17       0.000000  1.748441e-17   \n",
            "std            1.000002e+00  1.000002e+00       1.000002  1.000002e+00   \n",
            "min           -3.628904e+00 -7.321758e-02      -0.087550 -1.061045e-01   \n",
            "25%           -1.133141e+00 -7.321758e-02      -0.087550 -1.061045e-01   \n",
            "50%           -6.339878e-01 -7.321758e-02      -0.087550 -1.061045e-01   \n",
            "75%            1.362623e+00 -7.321758e-02      -0.087550 -1.061045e-01   \n",
            "max            3.858387e+00  2.358611e+02     268.511293  1.496088e+02   \n",
            "\n",
            "          ActiveMin      IdleMean       IdleStd       IdleMax       IdleMin  \\\n",
            "count  2.860960e+05  2.860960e+05  2.860960e+05  2.860960e+05  2.860960e+05   \n",
            "mean   1.351068e-17  3.178984e-17  2.304764e-17 -3.973730e-18 -2.304764e-17   \n",
            "std    1.000002e+00  1.000002e+00  1.000002e+00  1.000002e+00  1.000002e+00   \n",
            "min   -5.144968e-02 -1.847487e-01 -5.032292e-02 -1.855618e-01 -1.795606e-01   \n",
            "25%   -5.144968e-02 -1.847487e-01 -5.032292e-02 -1.855618e-01 -1.795606e-01   \n",
            "50%   -5.144968e-02 -1.847487e-01 -5.032292e-02 -1.855618e-01 -1.795606e-01   \n",
            "75%   -5.144968e-02 -1.847487e-01 -5.032292e-02 -1.855618e-01 -1.795606e-01   \n",
            "max    2.602501e+02  1.362780e+01  5.784094e+01  1.331538e+01  1.382784e+01   \n",
            "\n",
            "              Label  \n",
            "count  2.860960e+05  \n",
            "mean  -1.780231e-16  \n",
            "std    1.000002e+00  \n",
            "min   -1.116941e+00  \n",
            "25%   -1.116941e+00  \n",
            "50%    8.953026e-01  \n",
            "75%    8.953026e-01  \n",
            "max    8.953026e-01  \n",
            "\n",
            "[8 rows x 79 columns]\n"
          ]
        }
      ]
    },
    {
      "cell_type": "code",
      "source": [
        "from sklearn.model_selection import train_test_split\n",
        "X = data.drop('Label', axis=1)\n",
        "y = data['Label']\n",
        "X_train, X_test, y_train, y_test = train_test_split(X, y, test_size=0.2, random_state=42)\n",
        "print(f\"Training set size: {len(X_train)}, Test set size: {len(X_test)}\")\n"
      ],
      "metadata": {
        "colab": {
          "base_uri": "https://localhost:8080/"
        },
        "id": "fosDA6zphSNe",
        "outputId": "2dcb3df1-f289-4b59-a9bf-20fada5e5d77"
      },
      "execution_count": null,
      "outputs": [
        {
          "output_type": "stream",
          "name": "stdout",
          "text": [
            "Training set size: 228876, Test set size: 57220\n"
          ]
        }
      ]
    },
    {
      "cell_type": "code",
      "source": [
        "# Separate features and labels\n",
        "features = data.drop('Label', axis=1)\n",
        "labels = data['Label']\n",
        "features.replace([np.inf, -np.inf], np.nan, inplace=True)\n",
        "features.dropna(inplace=True)\n",
        "features = features.select_dtypes(include=[float, int])\n",
        "len(features)"
      ],
      "metadata": {
        "colab": {
          "base_uri": "https://localhost:8080/"
        },
        "id": "OV6-1sLHhWmg",
        "outputId": "8f9e6403-1852-477a-de54-e648db74ca8e"
      },
      "execution_count": null,
      "outputs": [
        {
          "output_type": "execute_result",
          "data": {
            "text/plain": [
              "286096"
            ]
          },
          "metadata": {},
          "execution_count": 24
        }
      ]
    },
    {
      "cell_type": "code",
      "source": [
        "scaler = StandardScaler()\n",
        "features_scaled = scaler.fit_transform(features)"
      ],
      "metadata": {
        "id": "8wYXZyNqjMed"
      },
      "execution_count": null,
      "outputs": []
    },
    {
      "cell_type": "code",
      "source": [
        "from sklearn.preprocessing import LabelEncoder\n",
        "\n",
        "label_encoder = LabelEncoder()\n",
        "y_encoded = label_encoder.fit_transform(labels)"
      ],
      "metadata": {
        "id": "qiGKSpFfjXyH"
      },
      "execution_count": null,
      "outputs": []
    },
    {
      "cell_type": "code",
      "source": [
        "round(data.shape[0]*80/100)"
      ],
      "metadata": {
        "colab": {
          "base_uri": "https://localhost:8080/"
        },
        "id": "m_Ex4NE-jiNq",
        "outputId": "cbcea96b-31c6-4ef3-f6e7-41ed09d11e16"
      },
      "execution_count": null,
      "outputs": [
        {
          "output_type": "execute_result",
          "data": {
            "text/plain": [
              "228877"
            ]
          },
          "metadata": {},
          "execution_count": 27
        }
      ]
    },
    {
      "cell_type": "code",
      "source": [
        "missing_labels = np.isnan(y_encoded).sum()\n",
        "print(f\"Number of missing values in y_encoded: {missing_labels}\")"
      ],
      "metadata": {
        "colab": {
          "base_uri": "https://localhost:8080/"
        },
        "id": "jgj_Mt-OjjX6",
        "outputId": "4180497f-f386-46a0-926a-83987b838677"
      },
      "execution_count": null,
      "outputs": [
        {
          "output_type": "stream",
          "name": "stdout",
          "text": [
            "Number of missing values in y_encoded: 0\n"
          ]
        }
      ]
    },
    {
      "cell_type": "code",
      "source": [
        "train_size = round(len(y_encoded) * 0.8)\n",
        "\n",
        "X_train = features_scaled[:train_size]\n",
        "X_test = features_scaled[train_size:]\n",
        "y_train = y_encoded[:train_size]\n",
        "y_test = y_encoded[train_size:]\n",
        "\n",
        "print(f\"Length of X_train: {len(X_train)}\")\n",
        "print(f\"Length of y_train: {len(y_train)}\")\n",
        "print(f\"Length of X_test: {len(X_test)}\")\n",
        "print(f\"Length of y_test: {len(y_test)}\")\n",
        "\n",
        "min_len = min(len(X_test), len(y_test))\n",
        "X_test = X_test[:min_len]\n",
        "y_test = y_test[:min_len]\n",
        "\n",
        "print(f\"Final Length of X_test: {len(X_test)}\")\n",
        "print(f\"Final Length of y_test: {len(y_test)}\")"
      ],
      "metadata": {
        "colab": {
          "base_uri": "https://localhost:8080/"
        },
        "collapsed": true,
        "id": "8Jb2jiqYjlVn",
        "outputId": "7a999b65-1977-4640-8618-cdea2b7ce209"
      },
      "execution_count": null,
      "outputs": [
        {
          "output_type": "stream",
          "name": "stdout",
          "text": [
            "Length of X_train: 228877\n",
            "Length of y_train: 228877\n",
            "Length of X_test: 57219\n",
            "Length of y_test: 57219\n",
            "Final Length of X_test: 57219\n",
            "Final Length of y_test: 57219\n"
          ]
        }
      ]
    },
    {
      "cell_type": "code",
      "source": [
        "from sklearn.ensemble import RandomForestClassifier\n",
        "from sklearn.metrics import accuracy_score, classification_report, confusion_matrix, roc_auc_score\n",
        "import numpy as np\n",
        "\n",
        "# Train Random Forest\n",
        "rf = RandomForestClassifier(n_estimators=100, random_state=42, class_weight='balanced')\n",
        "rf.fit(X_train, y_train)\n",
        "\n",
        "# Make predictions\n",
        "y_pred = rf.predict(X_test)\n",
        "\n",
        "# Model Evaluation\n",
        "# Accuracy\n",
        "accuracy = accuracy_score(y_test, y_pred)\n",
        "print(\"Accuracy:\", accuracy)\n",
        "\n",
        "# Classification Report\n",
        "print(\"\\nClassification Report:\")\n",
        "print(classification_report(y_test, y_pred, target_names=[\"Normal\", \"Anomaly\"]))\n",
        "\n",
        "# Confusion Matrix\n",
        "cm = confusion_matrix(y_test, y_pred)\n",
        "print(\"\\nConfusion Matrix:\")\n",
        "print(cm)\n",
        "\n",
        "# ROC AUC Score\n",
        "roc_auc = roc_auc_score(y_test, rf.predict_proba(X_test)[:, 1])\n",
        "print(\"\\nROC AUC Score:\", roc_auc)\n",
        "\n",
        "# Count the number of anomalies detected\n",
        "num_anomalies = np.sum(y_pred == -1)  # Assuming \"-1\" represents anomalies in your dataset\n",
        "print(\"\\nNumber of anomalies detected:\", num_anomalies)\n"
      ],
      "metadata": {
        "colab": {
          "base_uri": "https://localhost:8080/"
        },
        "id": "TZpJssDujnFh",
        "outputId": "ea316676-4adc-481c-8bba-a6215a6702b0"
      },
      "execution_count": null,
      "outputs": [
        {
          "output_type": "stream",
          "name": "stdout",
          "text": [
            "Accuracy: 0.9988814904140233\n",
            "\n",
            "Classification Report:\n",
            "              precision    recall  f1-score   support\n",
            "\n",
            "      Normal       1.00      1.00      1.00     35519\n",
            "     Anomaly       1.00      1.00      1.00     21700\n",
            "\n",
            "    accuracy                           1.00     57219\n",
            "   macro avg       1.00      1.00      1.00     57219\n",
            "weighted avg       1.00      1.00      1.00     57219\n",
            "\n",
            "\n",
            "Confusion Matrix:\n",
            "[[35518     1]\n",
            " [   63 21637]]\n",
            "\n",
            "ROC AUC Score: 0.9994384072754986\n",
            "\n",
            "Number of anomalies detected: 0\n"
          ]
        }
      ]
    },
    {
      "cell_type": "code",
      "source": [],
      "metadata": {
        "id": "bWC9qA1Ujp-f"
      },
      "execution_count": null,
      "outputs": []
    }
  ]
}